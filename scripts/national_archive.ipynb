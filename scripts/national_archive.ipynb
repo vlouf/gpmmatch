{
 "cells": [
  {
   "cell_type": "code",
   "execution_count": null,
   "metadata": {
    "ExecuteTime": {
     "end_time": "2020-04-17T01:10:46.024838Z",
     "start_time": "2020-04-17T01:10:43.791344Z"
    }
   },
   "outputs": [],
   "source": [
    "import os\n",
    "import re\n",
    "import glob\n",
    "import zipfile\n",
    "import datetime\n",
    "import warnings\n",
    "import traceback\n",
    "\n",
    "import pyart\n",
    "import tqdm\n",
    "import numpy as np\n",
    "import pandas as pd\n",
    "\n",
    "import matplotlib.pyplot as pl\n",
    "import seaborn as sns\n",
    "\n",
    "import gpmmatch\n",
    "import dask\n",
    "import dask.bag as db\n",
    "from dask.diagnostics import ProgressBar"
   ]
  },
  {
   "cell_type": "code",
   "execution_count": null,
   "metadata": {
    "ExecuteTime": {
     "end_time": "2020-04-17T01:10:46.028605Z",
     "start_time": "2020-04-17T01:10:46.026320Z"
    }
   },
   "outputs": [],
   "source": [
    "warnings.simplefilter('ignore')"
   ]
  },
  {
   "cell_type": "code",
   "execution_count": null,
   "metadata": {
    "ExecuteTime": {
     "end_time": "2020-04-17T01:10:46.036443Z",
     "start_time": "2020-04-17T01:10:46.029957Z"
    }
   },
   "outputs": [],
   "source": [
    "def remove(flist):\n",
    "    '''\n",
    "    Remove file if it exists.\n",
    "    '''\n",
    "    flist = [f for f in flist if f is not None]\n",
    "    for f in flist:\n",
    "        try:\n",
    "            os.remove(f)\n",
    "        except FileNotFoundError:\n",
    "            pass\n",
    "    return None"
   ]
  },
  {
   "cell_type": "code",
   "execution_count": null,
   "metadata": {
    "ExecuteTime": {
     "end_time": "2020-04-17T01:15:31.044155Z",
     "start_time": "2020-04-17T01:15:31.038327Z"
    }
   },
   "outputs": [],
   "source": [
    "def get_radar_archive_file(date, rid):\n",
    "    '''\n",
    "    Return the archive containing the radar file for a given radar ID and a\n",
    "    given date.\n",
    "    Parameters:\n",
    "    ===========\n",
    "    date: datetime\n",
    "        Date.\n",
    "    Returns:\n",
    "    ========\n",
    "    file: str\n",
    "        Radar archive if it exists at the given date.\n",
    "    '''\n",
    "    datestr = date.strftime('%Y%m%d')\n",
    "    file = f\"/g/data/rq0/level_1/odim_pvol/{rid}/{date.year}/vol/{rid}_{datestr}.pvol.zip\"\n",
    "    if not os.path.exists(file):\n",
    "        return None\n",
    "#         raise FileNotFoundError(f'{file}')\n",
    "\n",
    "    return file"
   ]
  },
  {
   "cell_type": "code",
   "execution_count": null,
   "metadata": {
    "ExecuteTime": {
     "end_time": "2020-04-17T01:15:31.245378Z",
     "start_time": "2020-04-17T01:15:31.234783Z"
    }
   },
   "outputs": [],
   "source": [
    "def extract_zip(inzip, date, path):\n",
    "    def get_zipfile_name(namelist, date):\n",
    "        datestr = [re.findall('[0-9]{8}_[0-9]{6}', n)[0] for n in namelist]\n",
    "        timestamps = np.array([datetime.datetime.strptime(dt, '%Y%m%d_%H%M%S') for dt in datestr], dtype='datetime64')\n",
    "        pos = np.argmin(np.abs(timestamps - date.to_numpy()))\n",
    "        delta = np.abs(pd.Timestamp(timestamps[pos]) - date).seconds\n",
    "        grfile = namelist[pos]\n",
    "\n",
    "        if delta >= 600:\n",
    "            raise FileNotFoundError('No file')\n",
    "\n",
    "        return grfile\n",
    "    \n",
    "    with zipfile.ZipFile(inzip) as zid:\n",
    "        namelist = zid.namelist()\n",
    "        file = get_zipfile_name(namelist, date)\n",
    "        zid.extract(file, path=path)\n",
    "    \n",
    "    grfile = os.path.join(path, file)\n",
    "    \n",
    "    return grfile"
   ]
  },
  {
   "cell_type": "code",
   "execution_count": null,
   "metadata": {
    "ExecuteTime": {
     "end_time": "2020-04-17T01:15:31.401045Z",
     "start_time": "2020-04-17T01:15:31.392540Z"
    }
   },
   "outputs": [],
   "source": [
    "def buffer(gpmfile, date, rid):\n",
    "    inzip = get_radar_archive_file(date, rid)\n",
    "    if inzip is None:\n",
    "        return None\n",
    "    \n",
    "    try:\n",
    "        grfile = extract_zip(inzip, date, path)\n",
    "    except FileNotFoundError:\n",
    "        print(f'No ground {rid} radar file for {date}.')\n",
    "        return None\n",
    "    \n",
    "    try:\n",
    "        matchset = gpmmatch.volume_matching(gpmfile,\n",
    "                                            grfile,    \n",
    "                                            radar_band='S',\n",
    "                                            refl_name='reflectivity',\n",
    "                                            fname_prefix=rid,    \n",
    "                                            write_output=False)\n",
    "    except Exception:\n",
    "        print('!!! ERROR !!!')\n",
    "        print(gpmfile)\n",
    "        print(date)\n",
    "        traceback.print_exc()\n",
    "        return None\n",
    "    \n",
    "    remove([grfile])\n",
    "    \n",
    "    return matchset"
   ]
  },
  {
   "cell_type": "code",
   "execution_count": null,
   "metadata": {
    "ExecuteTime": {
     "end_time": "2020-04-17T01:15:31.563570Z",
     "start_time": "2020-04-17T01:15:31.556328Z"
    }
   },
   "outputs": [],
   "source": [
    "def savedata(datafile, rid):    \n",
    "    dtime = pd.Timestamp(datafile.gpm_overpass_time)    \n",
    "    datestr = dtime.strftime('%Y%m%d')\n",
    "    timestr = dtime.strftime('%H%M%S')\n",
    "    \n",
    "    outpath = os.path.join(\".\", rid)\n",
    "    try:\n",
    "        os.mkdir(outpath)\n",
    "    except FileExistsError:\n",
    "        pass\n",
    "    \n",
    "    outfile = os.path.join(outpath, f\"vmatch.{rid}.{datestr}.{timestr}.nc\"   )\n",
    "    if not os.path.exists(outfile):\n",
    "        datafile.to_netcdf(outfile)\n",
    "    \n",
    "    return None"
   ]
  },
  {
   "cell_type": "code",
   "execution_count": null,
   "metadata": {
    "ExecuteTime": {
     "end_time": "2020-04-17T01:15:31.732126Z",
     "start_time": "2020-04-17T01:15:31.728037Z"
    }
   },
   "outputs": [],
   "source": [
    "config_files = sorted(glob.glob('/scratch/kl02/vhl548/gpm_output/overpass/*.csv'))\n",
    "path = '/scratch/kl02/vhl548/unzipdir'"
   ]
  },
  {
   "cell_type": "code",
   "execution_count": null,
   "metadata": {
    "ExecuteTime": {
     "end_time": "2020-04-17T01:31:01.992512Z",
     "start_time": "2020-04-17T01:31:01.988806Z"
    },
    "scrolled": false
   },
   "outputs": [],
   "source": [
    "for config in tqdm.tqdm_notebook(config_files, total=len(config_files)):\n",
    "    rid = os.path.basename(config)[-6:-4]\n",
    "    df = pd.read_csv(config, parse_dates=['date'], header=None, names=['date', 'name', 'lon', 'lat', 'nprof', 'source'])\n",
    "\n",
    "    argslist = []\n",
    "    for n in range(len(df)):\n",
    "        g = df.source[n]\n",
    "        d = df.date[n]\n",
    "        argslist.append((g, d, rid))\n",
    "\n",
    "    bag = db.from_sequence(argslist).starmap(buffer)\n",
    "    with ProgressBar():\n",
    "        rslt = bag.compute()\n",
    "\n",
    "    rslt = [r for r in rslt if r is not None]\n",
    "\n",
    "    for r in tqdm.tqdm_notebook(rslt, total=len(rslt)):\n",
    "        savedata(r, rid)\n",
    "        \n",
    "    break"
   ]
  },
  {
   "cell_type": "code",
   "execution_count": null,
   "metadata": {},
   "outputs": [],
   "source": []
  }
 ],
 "metadata": {
  "kernelspec": {
   "display_name": "Python 3",
   "language": "python",
   "name": "python3"
  },
  "language_info": {
   "codemirror_mode": {
    "name": "ipython",
    "version": 3
   },
   "file_extension": ".py",
   "mimetype": "text/x-python",
   "name": "python",
   "nbconvert_exporter": "python",
   "pygments_lexer": "ipython3",
   "version": "3.8.2"
  },
  "varInspector": {
   "cols": {
    "lenName": 16,
    "lenType": 16,
    "lenVar": 40
   },
   "kernels_config": {
    "python": {
     "delete_cmd_postfix": "",
     "delete_cmd_prefix": "del ",
     "library": "var_list.py",
     "varRefreshCmd": "print(var_dic_list())"
    },
    "r": {
     "delete_cmd_postfix": ") ",
     "delete_cmd_prefix": "rm(",
     "library": "var_list.r",
     "varRefreshCmd": "cat(var_dic_list()) "
    }
   },
   "types_to_exclude": [
    "module",
    "function",
    "builtin_function_or_method",
    "instance",
    "_Feature"
   ],
   "window_display": false
  }
 },
 "nbformat": 4,
 "nbformat_minor": 4
}
