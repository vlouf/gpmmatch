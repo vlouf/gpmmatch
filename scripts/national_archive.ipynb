{
 "cells": [
  {
   "cell_type": "code",
   "execution_count": 1,
   "metadata": {
    "ExecuteTime": {
     "end_time": "2020-04-17T01:10:46.024838Z",
     "start_time": "2020-04-17T01:10:43.791344Z"
    }
   },
   "outputs": [],
   "source": [
    "import os\n",
    "import re\n",
    "import glob\n",
    "import zipfile\n",
    "import datetime\n",
    "import warnings\n",
    "import traceback\n",
    "\n",
    "import pyart\n",
    "import tqdm\n",
    "import numpy as np\n",
    "import pandas as pd\n",
    "\n",
    "import matplotlib.pyplot as pl\n",
    "import seaborn as sns\n",
    "\n",
    "import gpmmatch\n",
    "import dask\n",
    "import dask.bag as db\n",
    "from dask.diagnostics import ProgressBar"
   ]
  },
  {
   "cell_type": "code",
   "execution_count": 2,
   "metadata": {
    "ExecuteTime": {
     "end_time": "2020-04-17T01:10:46.028605Z",
     "start_time": "2020-04-17T01:10:46.026320Z"
    }
   },
   "outputs": [],
   "source": [
    "warnings.simplefilter('ignore')"
   ]
  },
  {
   "cell_type": "code",
   "execution_count": 3,
   "metadata": {
    "ExecuteTime": {
     "end_time": "2020-04-17T01:10:46.036443Z",
     "start_time": "2020-04-17T01:10:46.029957Z"
    }
   },
   "outputs": [],
   "source": [
    "def remove(flist):\n",
    "    '''\n",
    "    Remove file if it exists.\n",
    "    '''\n",
    "    flist = [f for f in flist if f is not None]\n",
    "    for f in flist:\n",
    "        try:\n",
    "            os.remove(f)\n",
    "        except FileNotFoundError:\n",
    "            pass\n",
    "    return None"
   ]
  },
  {
   "cell_type": "code",
   "execution_count": 30,
   "metadata": {
    "ExecuteTime": {
     "end_time": "2020-04-17T01:15:31.044155Z",
     "start_time": "2020-04-17T01:15:31.038327Z"
    }
   },
   "outputs": [],
   "source": [
    "def get_radar_archive_file(date, rid):\n",
    "    '''\n",
    "    Return the archive containing the radar file for a given radar ID and a\n",
    "    given date.\n",
    "    Parameters:\n",
    "    ===========\n",
    "    date: datetime\n",
    "        Date.\n",
    "    Returns:\n",
    "    ========\n",
    "    file: str\n",
    "        Radar archive if it exists at the given date.\n",
    "    '''\n",
    "    datestr = date.strftime('%Y%m%d')\n",
    "    file = f\"/g/data/rq0/level_1/odim_pvol/{rid}/{date.year}/vol/{rid}_{datestr}.pvol.zip\"\n",
    "    if not os.path.exists(file):\n",
    "        return None\n",
    "#         raise FileNotFoundError(f'{file}')\n",
    "\n",
    "    return file"
   ]
  },
  {
   "cell_type": "code",
   "execution_count": 31,
   "metadata": {
    "ExecuteTime": {
     "end_time": "2020-04-17T01:15:31.245378Z",
     "start_time": "2020-04-17T01:15:31.234783Z"
    }
   },
   "outputs": [],
   "source": [
    "def extract_zip(inzip, date, path):\n",
    "    def get_zipfile_name(namelist, date):\n",
    "        datestr = [re.findall('[0-9]{8}_[0-9]{6}', n)[0] for n in namelist]\n",
    "        timestamps = np.array([datetime.datetime.strptime(dt, '%Y%m%d_%H%M%S') for dt in datestr], dtype='datetime64')\n",
    "        pos = np.argmin(np.abs(timestamps - date.to_numpy()))\n",
    "        delta = np.abs(pd.Timestamp(timestamps[pos]) - date).seconds\n",
    "        grfile = namelist[pos]\n",
    "\n",
    "        if delta >= 600:\n",
    "            raise FileNotFoundError('No file')\n",
    "\n",
    "        return grfile\n",
    "    \n",
    "    with zipfile.ZipFile(inzip) as zid:\n",
    "        namelist = zid.namelist()\n",
    "        file = get_zipfile_name(namelist, date)\n",
    "        zid.extract(file, path=path)\n",
    "    \n",
    "    grfile = os.path.join(path, file)\n",
    "    \n",
    "    return grfile"
   ]
  },
  {
   "cell_type": "code",
   "execution_count": 32,
   "metadata": {
    "ExecuteTime": {
     "end_time": "2020-04-17T01:15:31.401045Z",
     "start_time": "2020-04-17T01:15:31.392540Z"
    }
   },
   "outputs": [],
   "source": [
    "def buffer(gpmfile, date, rid):\n",
    "    inzip = get_radar_archive_file(date, rid)\n",
    "    if inzip is None:\n",
    "        return None\n",
    "    \n",
    "    try:\n",
    "        grfile = extract_zip(inzip, date, path)\n",
    "    except FileNotFoundError:\n",
    "        print(f'No ground {rid} radar file for {date}.')\n",
    "        return None\n",
    "    \n",
    "    try:\n",
    "        matchset = gpmmatch.volume_matching(gpmfile,\n",
    "                                            grfile,    \n",
    "                                            radar_band='S',\n",
    "                                            refl_name='reflectivity',\n",
    "                                            fname_prefix=rid,    \n",
    "                                            write_output=False)\n",
    "    except Exception:\n",
    "        print('!!! ERROR !!!')\n",
    "        print(gpmfile)\n",
    "        print(date)\n",
    "        traceback.print_exc()\n",
    "        return None\n",
    "    \n",
    "    remove([grfile])\n",
    "    \n",
    "    return matchset"
   ]
  },
  {
   "cell_type": "code",
   "execution_count": 33,
   "metadata": {
    "ExecuteTime": {
     "end_time": "2020-04-17T01:15:31.563570Z",
     "start_time": "2020-04-17T01:15:31.556328Z"
    }
   },
   "outputs": [],
   "source": [
    "def savedata(datafile, rid):    \n",
    "    dtime = pd.Timestamp(datafile.gpm_overpass_time)    \n",
    "    datestr = dtime.strftime('%Y%m%d')\n",
    "    timestr = dtime.strftime('%H%M%S')\n",
    "    \n",
    "    outpath = os.path.join(\".\", rid)\n",
    "    try:\n",
    "        os.mkdir(outpath)\n",
    "    except FileExistsError:\n",
    "        pass\n",
    "    \n",
    "    outfile = os.path.join(outpath, f\"vmatch.{rid}.{datestr}.{timestr}.nc\"   )\n",
    "    if not os.path.exists(outfile):\n",
    "        datafile.to_netcdf(outfile)\n",
    "    \n",
    "    return None"
   ]
  },
  {
   "cell_type": "code",
   "execution_count": 34,
   "metadata": {
    "ExecuteTime": {
     "end_time": "2020-04-17T01:15:31.732126Z",
     "start_time": "2020-04-17T01:15:31.728037Z"
    }
   },
   "outputs": [],
   "source": [
    "config_files = sorted(glob.glob('/scratch/kl02/vhl548/gpm_output/overpass/*.csv'))\n",
    "path = '/scratch/kl02/vhl548/unzipdir'"
   ]
  },
  {
   "cell_type": "code",
   "execution_count": 35,
   "metadata": {
    "ExecuteTime": {
     "end_time": "2020-04-17T01:22:27.376898Z",
     "start_time": "2020-04-17T01:15:31.930810Z"
    },
    "scrolled": false
   },
   "outputs": [
    {
     "data": {
      "application/vnd.jupyter.widget-view+json": {
       "model_id": "d9499eb0ccca436291e55e8b348e2fc9",
       "version_major": 2,
       "version_minor": 0
      },
      "text/plain": [
       "HBox(children=(FloatProgress(value=0.0, max=73.0), HTML(value='')))"
      ]
     },
     "metadata": {},
     "output_type": "display_data"
    },
    {
     "name": "stdout",
     "output_type": "stream",
     "text": [
      "[##                                      ] | 7% Completed |  0.1sNo ground 01 radar file for 2017-07-25 02:39:22.\n",
      "No ground 01 radar file for 2017-07-25 02:39:22.\n",
      "[######                                  ] | 16% Completed |  0.5s!!! ERROR !!!\n",
      "/g/data/rq0/admin/calibration/sr_data/gpm_data/2017/08/28/2A-CS-Tasmania.GPM.Ku.V7-20170308.20170828-S163745-E163852.019883.V05A.HDF5\n",
      "2017-08-28 16:38:52\n"
     ]
    },
    {
     "name": "stderr",
     "output_type": "stream",
     "text": [
      "Traceback (most recent call last):\n",
      "  File \"<ipython-input-32-ca61466cbf69>\", line 13, in buffer\n",
      "    matchset = gpmmatch.volume_matching(gpmfile,\n",
      "  File \"/home/548/vhl548/.local/miniconda3/envs/radar/lib/python3.8/site-packages/gpmmatch/gpmmatch.py\", line 73, in volume_matching\n",
      "    gpmset, radar = data_load_and_checks(gpmfile,\n",
      "  File \"/home/548/vhl548/.local/miniconda3/envs/radar/lib/python3.8/site-packages/gpmmatch/io.py\", line 399, in data_load_and_checks\n",
      "    raise BrightBandError('No BB')\n",
      "gpmmatch.io.BrightBandError: No BB\n"
     ]
    },
    {
     "name": "stdout",
     "output_type": "stream",
     "text": [
      "[######                                  ] | 16% Completed |  0.6s!!! ERROR !!!\n",
      "/g/data/rq0/admin/calibration/sr_data/gpm_data/2017/09/04/2A-CS-Tasmania.GPM.Ku.V7-20170308.20170904-S053743-E053951.019984.V05A.HDF5\n",
      "2017-09-04 05:37:43\n"
     ]
    },
    {
     "name": "stderr",
     "output_type": "stream",
     "text": [
      "Traceback (most recent call last):\n"
     ]
    },
    {
     "name": "stdout",
     "output_type": "stream",
     "text": [
      "\r",
      "[######                                  ] | 16% Completed |  0.7s"
     ]
    },
    {
     "name": "stderr",
     "output_type": "stream",
     "text": [
      "  File \"<ipython-input-32-ca61466cbf69>\", line 13, in buffer\n",
      "    matchset = gpmmatch.volume_matching(gpmfile,\n",
      "  File \"/home/548/vhl548/.local/miniconda3/envs/radar/lib/python3.8/site-packages/gpmmatch/gpmmatch.py\", line 73, in volume_matching\n",
      "    gpmset, radar = data_load_and_checks(gpmfile,\n"
     ]
    },
    {
     "name": "stdout",
     "output_type": "stream",
     "text": [
      "!!! ERROR !!!\n"
     ]
    },
    {
     "name": "stderr",
     "output_type": "stream",
     "text": [
      "  File \"/home/548/vhl548/.local/miniconda3/envs/radar/lib/python3.8/site-packages/gpmmatch/io.py\", line 399, in data_load_and_checks\n",
      "    raise BrightBandError('No BB')\n"
     ]
    },
    {
     "name": "stdout",
     "output_type": "stream",
     "text": [
      "/g/data/rq0/admin/calibration/sr_data/gpm_data/2017/08/08/2A-CS-Tasmania.GPM.Ku.V7-20170308.20170808-S132540-E132747.019569.V05A.HDF5\n"
     ]
    },
    {
     "name": "stderr",
     "output_type": "stream",
     "text": [
      "gpmmatch.io.BrightBandError: No BB\n"
     ]
    },
    {
     "name": "stdout",
     "output_type": "stream",
     "text": [
      "2017-08-08 13:25:40\n",
      "[######                                  ] | 16% Completed |  0.8s!!! ERROR !!!\n",
      "/g/data/rq0/admin/calibration/sr_data/gpm_data/2017/09/15/2A-CS-Tasmania.GPM.Ku.V7-20170308.20170915-S022429-E022632.020153.V05A.HDF5\n",
      "2017-09-15 02:24:29\n"
     ]
    },
    {
     "name": "stderr",
     "output_type": "stream",
     "text": [
      "Traceback (most recent call last):\n",
      "  File \"<ipython-input-32-ca61466cbf69>\", line 13, in buffer\n",
      "    matchset = gpmmatch.volume_matching(gpmfile,\n",
      "  File \"/home/548/vhl548/.local/miniconda3/envs/radar/lib/python3.8/site-packages/gpmmatch/gpmmatch.py\", line 73, in volume_matching\n",
      "    gpmset, radar = data_load_and_checks(gpmfile,\n",
      "Traceback (most recent call last):\n",
      "  File \"/home/548/vhl548/.local/miniconda3/envs/radar/lib/python3.8/site-packages/gpmmatch/io.py\", line 399, in data_load_and_checks\n",
      "    raise BrightBandError('No BB')\n",
      "gpmmatch.io.BrightBandError: No BB\n",
      "  File \"<ipython-input-32-ca61466cbf69>\", line 13, in buffer\n",
      "    matchset = gpmmatch.volume_matching(gpmfile,\n",
      "  File \"/home/548/vhl548/.local/miniconda3/envs/radar/lib/python3.8/site-packages/gpmmatch/gpmmatch.py\", line 73, in volume_matching\n",
      "    gpmset, radar = data_load_and_checks(gpmfile,\n",
      "  File \"/home/548/vhl548/.local/miniconda3/envs/radar/lib/python3.8/site-packages/gpmmatch/io.py\", line 399, in data_load_and_checks\n",
      "    raise BrightBandError('No BB')\n",
      "gpmmatch.io.BrightBandError: No BB\n"
     ]
    },
    {
     "name": "stdout",
     "output_type": "stream",
     "text": [
      "[######                                  ] | 16% Completed |  0.9s!!! ERROR !!!\n",
      "/g/data/rq0/admin/calibration/sr_data/gpm_data/2017/08/16/2A-CS-Tasmania.GPM.Ku.V7-20170308.20170816-S111018-E111225.019692.V05A.HDF5\n",
      "2017-08-16 11:10:18\n"
     ]
    },
    {
     "name": "stderr",
     "output_type": "stream",
     "text": [
      "Traceback (most recent call last):\n",
      "  File \"<ipython-input-32-ca61466cbf69>\", line 13, in buffer\n",
      "    matchset = gpmmatch.volume_matching(gpmfile,\n",
      "  File \"/home/548/vhl548/.local/miniconda3/envs/radar/lib/python3.8/site-packages/gpmmatch/gpmmatch.py\", line 73, in volume_matching\n",
      "    gpmset, radar = data_load_and_checks(gpmfile,\n",
      "  File \"/home/548/vhl548/.local/miniconda3/envs/radar/lib/python3.8/site-packages/gpmmatch/io.py\", line 399, in data_load_and_checks\n",
      "    raise BrightBandError('No BB')\n",
      "gpmmatch.io.BrightBandError: No BB\n"
     ]
    },
    {
     "name": "stdout",
     "output_type": "stream",
     "text": [
      "[######                                  ] | 16% Completed |  1.0s!!! ERROR !!!\n",
      "/g/data/rq0/admin/calibration/sr_data/gpm_data/2017/10/14/2A-CS-Tasmania.GPM.Ku.V7-20170308.20171014-S174709-E174917.020614.V05A.HDF5\n",
      "2017-10-14 17:47:09\n"
     ]
    },
    {
     "name": "stderr",
     "output_type": "stream",
     "text": [
      "Traceback (most recent call last):\n"
     ]
    },
    {
     "name": "stdout",
     "output_type": "stream",
     "text": [
      "[######                                  ] | 16% Completed |  1.1s!!! ERROR !!!\n",
      "/g/data/rq0/admin/calibration/sr_data/gpm_data/2017/09/08/2A-CS-Tasmania.GPM.Ku.V7-20170308.20170908-S132355-E132518.020052.V05A.HDF5\n"
     ]
    },
    {
     "name": "stderr",
     "output_type": "stream",
     "text": [
      "  File \"<ipython-input-32-ca61466cbf69>\", line 13, in buffer\n",
      "    matchset = gpmmatch.volume_matching(gpmfile,\n"
     ]
    },
    {
     "name": "stdout",
     "output_type": "stream",
     "text": [
      "2017-09-08 13:25:18\n"
     ]
    },
    {
     "name": "stderr",
     "output_type": "stream",
     "text": [
      "Traceback (most recent call last):\n",
      "  File \"<ipython-input-32-ca61466cbf69>\", line 13, in buffer\n",
      "    matchset = gpmmatch.volume_matching(gpmfile,\n",
      "  File \"/home/548/vhl548/.local/miniconda3/envs/radar/lib/python3.8/site-packages/gpmmatch/gpmmatch.py\", line 73, in volume_matching\n",
      "    gpmset, radar = data_load_and_checks(gpmfile,\n",
      "  File \"/home/548/vhl548/.local/miniconda3/envs/radar/lib/python3.8/site-packages/gpmmatch/io.py\", line 399, in data_load_and_checks\n",
      "    raise BrightBandError('No BB')\n",
      "gpmmatch.io.BrightBandError: No BB\n",
      "  File \"/home/548/vhl548/.local/miniconda3/envs/radar/lib/python3.8/site-packages/gpmmatch/gpmmatch.py\", line 73, in volume_matching\n",
      "    gpmset, radar = data_load_and_checks(gpmfile,\n",
      "  File \"/home/548/vhl548/.local/miniconda3/envs/radar/lib/python3.8/site-packages/gpmmatch/io.py\", line 399, in data_load_and_checks\n",
      "    raise BrightBandError('No BB')\n",
      "gpmmatch.io.BrightBandError: No BB\n"
     ]
    },
    {
     "name": "stdout",
     "output_type": "stream",
     "text": [
      "[######                                  ] | 16% Completed |  1.2s!!! ERROR !!!\n",
      "!!! ERROR !!!\n",
      "/g/data/rq0/admin/calibration/sr_data/gpm_data/2017/08/05/2A-CS-AUS-East.GPM.Ku.V7-20170308.20170805-S141859-E142750.019523.V05A.HDF5\n",
      "2017-08-05 14:27:15\n",
      "/g/data/rq0/admin/calibration/sr_data/gpm_data/2017/08/20/2A-CS-AUS-East.GPM.Ku.V7-20170308.20170820-S185437-E190107.019760.V05A.HDF5\n",
      "2017-08-20 18:55:27\n"
     ]
    },
    {
     "name": "stderr",
     "output_type": "stream",
     "text": [
      "Traceback (most recent call last):\n",
      "Traceback (most recent call last):\n",
      "  File \"<ipython-input-32-ca61466cbf69>\", line 13, in buffer\n",
      "    matchset = gpmmatch.volume_matching(gpmfile,\n",
      "  File \"/home/548/vhl548/.local/miniconda3/envs/radar/lib/python3.8/site-packages/gpmmatch/gpmmatch.py\", line 73, in volume_matching\n",
      "    gpmset, radar = data_load_and_checks(gpmfile,\n",
      "  File \"<ipython-input-32-ca61466cbf69>\", line 13, in buffer\n",
      "    matchset = gpmmatch.volume_matching(gpmfile,\n",
      "  File \"/home/548/vhl548/.local/miniconda3/envs/radar/lib/python3.8/site-packages/gpmmatch/gpmmatch.py\", line 73, in volume_matching\n",
      "    gpmset, radar = data_load_and_checks(gpmfile,\n"
     ]
    },
    {
     "name": "stdout",
     "output_type": "stream",
     "text": [
      "\r",
      "[######                                  ] | 16% Completed |  1.3s"
     ]
    },
    {
     "name": "stderr",
     "output_type": "stream",
     "text": [
      "  File \"/home/548/vhl548/.local/miniconda3/envs/radar/lib/python3.8/site-packages/gpmmatch/io.py\", line 399, in data_load_and_checks\n",
      "    raise BrightBandError('No BB')\n",
      "  File \"/home/548/vhl548/.local/miniconda3/envs/radar/lib/python3.8/site-packages/gpmmatch/io.py\", line 399, in data_load_and_checks\n",
      "    raise BrightBandError('No BB')\n",
      "gpmmatch.io.BrightBandError: No BB\n",
      "gpmmatch.io.BrightBandError: No BB\n"
     ]
    },
    {
     "name": "stdout",
     "output_type": "stream",
     "text": [
      "[######                                  ] | 16% Completed |  1.4s!!! ERROR !!!\n",
      "/g/data/rq0/admin/calibration/sr_data/gpm_data/2017/08/27/2A-CS-AUS-East.GPM.Ku.V7-20170308.20170827-S074241-E075157.019861.V05A.HDF5\n",
      "2017-08-27 07:50:58\n"
     ]
    },
    {
     "name": "stderr",
     "output_type": "stream",
     "text": [
      "Traceback (most recent call last):\n",
      "  File \"<ipython-input-32-ca61466cbf69>\", line 13, in buffer\n",
      "    matchset = gpmmatch.volume_matching(gpmfile,\n",
      "  File \"/home/548/vhl548/.local/miniconda3/envs/radar/lib/python3.8/site-packages/gpmmatch/gpmmatch.py\", line 73, in volume_matching\n",
      "    gpmset, radar = data_load_and_checks(gpmfile,\n",
      "  File \"/home/548/vhl548/.local/miniconda3/envs/radar/lib/python3.8/site-packages/gpmmatch/io.py\", line 399, in data_load_and_checks\n",
      "    raise BrightBandError('No BB')\n",
      "gpmmatch.io.BrightBandError: No BB\n"
     ]
    },
    {
     "name": "stdout",
     "output_type": "stream",
     "text": [
      "[######                                  ] | 16% Completed |  1.7s!!! ERROR !!!\n",
      "/g/data/rq0/admin/calibration/sr_data/gpm_data/2017/08/20/2A-CS-Tasmania.GPM.Ku.V7-20170308.20170820-S185403-E185522.019760.V05A.HDF5\n",
      "2017-08-20 18:55:22\n"
     ]
    },
    {
     "name": "stderr",
     "output_type": "stream",
     "text": [
      "Traceback (most recent call last):\n",
      "  File \"<ipython-input-32-ca61466cbf69>\", line 13, in buffer\n",
      "    matchset = gpmmatch.volume_matching(gpmfile,\n",
      "  File \"/home/548/vhl548/.local/miniconda3/envs/radar/lib/python3.8/site-packages/gpmmatch/gpmmatch.py\", line 73, in volume_matching\n",
      "    gpmset, radar = data_load_and_checks(gpmfile,\n",
      "  File \"/home/548/vhl548/.local/miniconda3/envs/radar/lib/python3.8/site-packages/gpmmatch/io.py\", line 399, in data_load_and_checks\n",
      "    raise BrightBandError('No BB')\n",
      "gpmmatch.io.BrightBandError: No BB\n"
     ]
    },
    {
     "name": "stdout",
     "output_type": "stream",
     "text": [
      "[######                                  ] | 17% Completed |  1.8s!!! ERROR !!!\n",
      "/g/data/rq0/admin/calibration/sr_data/gpm_data/2017/09/04/2A-CS-AUS-East.GPM.Ku.V7-20170308.20170904-S052913-E053827.019984.V05A.HDF5\n",
      "2017-09-04 05:37:36\n"
     ]
    },
    {
     "name": "stderr",
     "output_type": "stream",
     "text": [
      "Traceback (most recent call last):\n",
      "  File \"<ipython-input-32-ca61466cbf69>\", line 13, in buffer\n",
      "    matchset = gpmmatch.volume_matching(gpmfile,\n",
      "  File \"/home/548/vhl548/.local/miniconda3/envs/radar/lib/python3.8/site-packages/gpmmatch/gpmmatch.py\", line 73, in volume_matching\n",
      "    gpmset, radar = data_load_and_checks(gpmfile,\n",
      "  File \"/home/548/vhl548/.local/miniconda3/envs/radar/lib/python3.8/site-packages/gpmmatch/io.py\", line 399, in data_load_and_checks\n",
      "    raise BrightBandError('No BB')\n",
      "gpmmatch.io.BrightBandError: No BB\n"
     ]
    },
    {
     "name": "stdout",
     "output_type": "stream",
     "text": [
      "[#######                                 ] | 17% Completed |  1.9s!!! ERROR !!!\n",
      "/g/data/rq0/admin/calibration/sr_data/gpm_data/2017/08/17/2A-CS-AUS-East.GPM.Ku.V7-20170308.20170817-S195714-E200528.019714.V05A.HDF5\n",
      "2017-08-17 19:58:22\n"
     ]
    },
    {
     "name": "stderr",
     "output_type": "stream",
     "text": [
      "Traceback (most recent call last):\n",
      "  File \"<ipython-input-32-ca61466cbf69>\", line 13, in buffer\n",
      "    matchset = gpmmatch.volume_matching(gpmfile,\n",
      "  File \"/home/548/vhl548/.local/miniconda3/envs/radar/lib/python3.8/site-packages/gpmmatch/gpmmatch.py\", line 73, in volume_matching\n",
      "    gpmset, radar = data_load_and_checks(gpmfile,\n",
      "  File \"/home/548/vhl548/.local/miniconda3/envs/radar/lib/python3.8/site-packages/gpmmatch/io.py\", line 399, in data_load_and_checks\n",
      "    raise BrightBandError('No BB')\n",
      "gpmmatch.io.BrightBandError: No BB\n"
     ]
    },
    {
     "name": "stdout",
     "output_type": "stream",
     "text": [
      "[#######                                 ] | 18% Completed |  2.0s!!! ERROR !!!\n",
      "/g/data/rq0/admin/calibration/sr_data/gpm_data/2017/08/16/2A-CS-AUS-East.GPM.Ku.V7-20170308.20170816-S110148-E111056.019692.V05A.HDF5\n"
     ]
    },
    {
     "name": "stderr",
     "output_type": "stream",
     "text": [
      "Traceback (most recent call last):\n"
     ]
    },
    {
     "name": "stdout",
     "output_type": "stream",
     "text": [
      "2017-08-16 11:10:11\n"
     ]
    },
    {
     "name": "stderr",
     "output_type": "stream",
     "text": [
      "  File \"<ipython-input-32-ca61466cbf69>\", line 13, in buffer\n",
      "    matchset = gpmmatch.volume_matching(gpmfile,\n",
      "  File \"/home/548/vhl548/.local/miniconda3/envs/radar/lib/python3.8/site-packages/gpmmatch/gpmmatch.py\", line 73, in volume_matching\n",
      "    gpmset, radar = data_load_and_checks(gpmfile,\n",
      "  File \"/home/548/vhl548/.local/miniconda3/envs/radar/lib/python3.8/site-packages/gpmmatch/io.py\", line 399, in data_load_and_checks\n",
      "    raise BrightBandError('No BB')\n",
      "gpmmatch.io.BrightBandError: No BB\n"
     ]
    },
    {
     "name": "stdout",
     "output_type": "stream",
     "text": [
      "[#######                                 ] | 19% Completed |  2.1s!!! ERROR !!!\n",
      "/g/data/rq0/admin/calibration/sr_data/gpm_data/2017/09/05/2A-CS-AUS-East.GPM.Ku.V7-20170308.20170905-S142532-E143323.020006.V05A.HDF5\n",
      "2017-09-05 14:26:36\n"
     ]
    },
    {
     "name": "stderr",
     "output_type": "stream",
     "text": [
      "Traceback (most recent call last):\n"
     ]
    },
    {
     "name": "stdout",
     "output_type": "stream",
     "text": [
      "\r",
      "[#######                                 ] | 19% Completed |  2.2s"
     ]
    },
    {
     "name": "stderr",
     "output_type": "stream",
     "text": [
      "  File \"<ipython-input-32-ca61466cbf69>\", line 13, in buffer\n",
      "    matchset = gpmmatch.volume_matching(gpmfile,\n",
      "  File \"/home/548/vhl548/.local/miniconda3/envs/radar/lib/python3.8/site-packages/gpmmatch/gpmmatch.py\", line 73, in volume_matching\n",
      "    gpmset, radar = data_load_and_checks(gpmfile,\n",
      "  File \"/home/548/vhl548/.local/miniconda3/envs/radar/lib/python3.8/site-packages/gpmmatch/io.py\", line 399, in data_load_and_checks\n",
      "    raise BrightBandError('No BB')\n",
      "gpmmatch.io.BrightBandError: No BB\n"
     ]
    },
    {
     "name": "stdout",
     "output_type": "stream",
     "text": [
      "!!! ERROR !!!\n",
      "/g/data/rq0/admin/calibration/sr_data/gpm_data/2017/09/15/2A-CS-AUS-East.GPM.Ku.V7-20170308.20170915-S021556-E022513.020153.V05A.HDF5\n",
      "2017-09-15 02:24:18\n"
     ]
    },
    {
     "name": "stderr",
     "output_type": "stream",
     "text": [
      "Traceback (most recent call last):\n",
      "  File \"<ipython-input-32-ca61466cbf69>\", line 13, in buffer\n",
      "    matchset = gpmmatch.volume_matching(gpmfile,\n",
      "  File \"/home/548/vhl548/.local/miniconda3/envs/radar/lib/python3.8/site-packages/gpmmatch/gpmmatch.py\", line 73, in volume_matching\n",
      "    gpmset, radar = data_load_and_checks(gpmfile,\n",
      "  File \"/home/548/vhl548/.local/miniconda3/envs/radar/lib/python3.8/site-packages/gpmmatch/io.py\", line 399, in data_load_and_checks\n",
      "    raise BrightBandError('No BB')\n"
     ]
    },
    {
     "name": "stdout",
     "output_type": "stream",
     "text": [
      "!!! ERROR !!!\n"
     ]
    },
    {
     "name": "stderr",
     "output_type": "stream",
     "text": [
      "gpmmatch.io.BrightBandError: No BB\n"
     ]
    },
    {
     "name": "stdout",
     "output_type": "stream",
     "text": [
      "/g/data/rq0/admin/calibration/sr_data/gpm_data/2017/08/28/2A-CS-AUS-East.GPM.Ku.V7-20170308.20170828-S163807-E164458.019883.V05A.HDF5\n",
      "2017-08-28 16:39:01\n"
     ]
    },
    {
     "name": "stderr",
     "output_type": "stream",
     "text": [
      "Traceback (most recent call last):\n",
      "  File \"<ipython-input-32-ca61466cbf69>\", line 13, in buffer\n",
      "    matchset = gpmmatch.volume_matching(gpmfile,\n"
     ]
    },
    {
     "name": "stdout",
     "output_type": "stream",
     "text": [
      "\r",
      "[########                                ] | 20% Completed |  2.4s"
     ]
    },
    {
     "name": "stderr",
     "output_type": "stream",
     "text": [
      "  File \"/home/548/vhl548/.local/miniconda3/envs/radar/lib/python3.8/site-packages/gpmmatch/io.py\", line 399, in data_load_and_checks\n",
      "    raise BrightBandError('No BB')\n",
      "  File \"/home/548/vhl548/.local/miniconda3/envs/radar/lib/python3.8/site-packages/gpmmatch/gpmmatch.py\", line 73, in volume_matching\n",
      "    gpmset, radar = data_load_and_checks(gpmfile,\n",
      "gpmmatch.io.BrightBandError: No BB\n"
     ]
    },
    {
     "name": "stdout",
     "output_type": "stream",
     "text": [
      "[########                                ] | 21% Completed |  2.5s!!! ERROR !!!\n",
      "[########                                ] | 21% Completed |  2.6s/g/data/rq0/admin/calibration/sr_data/gpm_data/2017/11/02/2A-CS-Tasmania.GPM.Ku.V7-20170308.20171102-S121749-E121957.020906.V05A.HDF5\n",
      "2017-11-02 12:17:49\n"
     ]
    },
    {
     "name": "stderr",
     "output_type": "stream",
     "text": [
      "Traceback (most recent call last):\n"
     ]
    },
    {
     "name": "stdout",
     "output_type": "stream",
     "text": [
      "!!! ERROR !!!\n"
     ]
    },
    {
     "name": "stderr",
     "output_type": "stream",
     "text": [
      "  File \"<ipython-input-32-ca61466cbf69>\", line 13, in buffer\n",
      "    matchset = gpmmatch.volume_matching(gpmfile,\n"
     ]
    },
    {
     "name": "stdout",
     "output_type": "stream",
     "text": [
      "/g/data/rq0/admin/calibration/sr_data/gpm_data/2017/10/29/2A-CS-Tasmania.GPM.Ku.V7-20170308.20171029-S221626-E221820.020851.V05A.HDF5\n",
      "2017-10-29 22:18:13\n"
     ]
    },
    {
     "name": "stderr",
     "output_type": "stream",
     "text": [
      "Traceback (most recent call last):\n",
      "  File \"<ipython-input-32-ca61466cbf69>\", line 13, in buffer\n",
      "    matchset = gpmmatch.volume_matching(gpmfile,\n",
      "  File \"/home/548/vhl548/.local/miniconda3/envs/radar/lib/python3.8/site-packages/gpmmatch/gpmmatch.py\", line 73, in volume_matching\n",
      "    gpmset, radar = data_load_and_checks(gpmfile,\n",
      "  File \"/home/548/vhl548/.local/miniconda3/envs/radar/lib/python3.8/site-packages/gpmmatch/io.py\", line 399, in data_load_and_checks\n",
      "    raise BrightBandError('No BB')\n",
      "gpmmatch.io.BrightBandError: No BB\n"
     ]
    },
    {
     "name": "stdout",
     "output_type": "stream",
     "text": [
      "\r",
      "[########                                ] | 21% Completed |  2.7s"
     ]
    },
    {
     "name": "stderr",
     "output_type": "stream",
     "text": [
      "  File \"/home/548/vhl548/.local/miniconda3/envs/radar/lib/python3.8/site-packages/gpmmatch/gpmmatch.py\", line 73, in volume_matching\n",
      "    gpmset, radar = data_load_and_checks(gpmfile,\n",
      "  File \"/home/548/vhl548/.local/miniconda3/envs/radar/lib/python3.8/site-packages/gpmmatch/io.py\", line 399, in data_load_and_checks\n",
      "    raise BrightBandError('No BB')\n",
      "gpmmatch.io.BrightBandError: No BB\n"
     ]
    },
    {
     "name": "stdout",
     "output_type": "stream",
     "text": [
      "!!! ERROR !!!\n",
      "[########                                ] | 21% Completed |  2.8s/g/data/rq0/admin/calibration/sr_data/gpm_data/2017/08/08/2A-CS-AUS-East.GPM.Ku.V7-20170308.20170808-S131710-E132623.019569.V05A.HDF5\n",
      "2017-08-08 13:25:33\n"
     ]
    },
    {
     "name": "stderr",
     "output_type": "stream",
     "text": [
      "Traceback (most recent call last):\n",
      "  File \"<ipython-input-32-ca61466cbf69>\", line 13, in buffer\n",
      "    matchset = gpmmatch.volume_matching(gpmfile,\n",
      "  File \"/home/548/vhl548/.local/miniconda3/envs/radar/lib/python3.8/site-packages/gpmmatch/gpmmatch.py\", line 73, in volume_matching\n",
      "    gpmset, radar = data_load_and_checks(gpmfile,\n",
      "  File \"/home/548/vhl548/.local/miniconda3/envs/radar/lib/python3.8/site-packages/gpmmatch/io.py\", line 399, in data_load_and_checks\n",
      "    raise BrightBandError('No BB')\n",
      "gpmmatch.io.BrightBandError: No BB\n"
     ]
    },
    {
     "name": "stdout",
     "output_type": "stream",
     "text": [
      "[########                                ] | 22% Completed |  2.9s!!! ERROR !!!\n",
      "/g/data/rq0/admin/calibration/sr_data/gpm_data/2017/12/02/2A-CS-Tasmania.GPM.Ku.V7-20170308.20171202-S033632-E033838.021367.V05A.HDF5\n",
      "2017-12-02 03:36:32\n"
     ]
    },
    {
     "name": "stderr",
     "output_type": "stream",
     "text": [
      "Traceback (most recent call last):\n",
      "  File \"<ipython-input-32-ca61466cbf69>\", line 13, in buffer\n",
      "    matchset = gpmmatch.volume_matching(gpmfile,\n",
      "  File \"/home/548/vhl548/.local/miniconda3/envs/radar/lib/python3.8/site-packages/gpmmatch/gpmmatch.py\", line 73, in volume_matching\n",
      "    gpmset, radar = data_load_and_checks(gpmfile,\n",
      "  File \"/home/548/vhl548/.local/miniconda3/envs/radar/lib/python3.8/site-packages/gpmmatch/io.py\", line 399, in data_load_and_checks\n",
      "    raise BrightBandError('No BB')\n",
      "gpmmatch.io.BrightBandError: No BB\n"
     ]
    },
    {
     "name": "stdout",
     "output_type": "stream",
     "text": [
      "[########                                ] | 22% Completed |  3.1s!!! ERROR !!!\n",
      "/g/data/rq0/admin/calibration/sr_data/gpm_data/2017/12/03/2A-CS-Tasmania.GPM.Ku.V7-20170308.20171203-S122406-E122448.021389.V05A.HDF5\n",
      "2017-12-03 12:24:48\n"
     ]
    },
    {
     "name": "stderr",
     "output_type": "stream",
     "text": [
      "Traceback (most recent call last):\n"
     ]
    },
    {
     "name": "stdout",
     "output_type": "stream",
     "text": [
      "\r",
      "[########                                ] | 22% Completed |  3.2s"
     ]
    },
    {
     "name": "stderr",
     "output_type": "stream",
     "text": [
      "  File \"<ipython-input-32-ca61466cbf69>\", line 13, in buffer\n",
      "    matchset = gpmmatch.volume_matching(gpmfile,\n",
      "  File \"/home/548/vhl548/.local/miniconda3/envs/radar/lib/python3.8/site-packages/gpmmatch/gpmmatch.py\", line 73, in volume_matching\n",
      "    gpmset, radar = data_load_and_checks(gpmfile,\n",
      "  File \"/home/548/vhl548/.local/miniconda3/envs/radar/lib/python3.8/site-packages/gpmmatch/io.py\", line 399, in data_load_and_checks\n",
      "    raise BrightBandError('No BB')\n",
      "gpmmatch.io.BrightBandError: No BB\n"
     ]
    },
    {
     "name": "stdout",
     "output_type": "stream",
     "text": [
      "[########                                ] | 22% Completed |  3.9s!!! ERROR !!!\n",
      "/g/data/rq0/admin/calibration/sr_data/gpm_data/2017/11/13/2A-CS-AUS-East.GPM.Ku.V7-20170308.20171113-S085412-E090327.021075.V05A.HDF5\n",
      "2017-11-13 09:02:30\n"
     ]
    },
    {
     "name": "stderr",
     "output_type": "stream",
     "text": [
      "Traceback (most recent call last):\n",
      "  File \"<ipython-input-32-ca61466cbf69>\", line 13, in buffer\n",
      "    matchset = gpmmatch.volume_matching(gpmfile,\n",
      "  File \"/home/548/vhl548/.local/miniconda3/envs/radar/lib/python3.8/site-packages/gpmmatch/gpmmatch.py\", line 73, in volume_matching\n",
      "    gpmset, radar = data_load_and_checks(gpmfile,\n",
      "  File \"/home/548/vhl548/.local/miniconda3/envs/radar/lib/python3.8/site-packages/gpmmatch/io.py\", line 399, in data_load_and_checks\n",
      "    raise BrightBandError('No BB')\n",
      "gpmmatch.io.BrightBandError: No BB\n"
     ]
    },
    {
     "name": "stdout",
     "output_type": "stream",
     "text": [
      "[########                                ] | 22% Completed |  4.0s!!! ERROR !!!\n",
      "/g/data/rq0/admin/calibration/sr_data/gpm_data/2017/12/03/2A-CS-AUS-East.GPM.Ku.V7-20170308.20171203-S122403-E123137.021389.V05A.HDF5\n",
      "2017-12-03 12:25:04\n"
     ]
    },
    {
     "name": "stderr",
     "output_type": "stream",
     "text": [
      "Traceback (most recent call last):\n",
      "  File \"<ipython-input-32-ca61466cbf69>\", line 13, in buffer\n",
      "    matchset = gpmmatch.volume_matching(gpmfile,\n",
      "  File \"/home/548/vhl548/.local/miniconda3/envs/radar/lib/python3.8/site-packages/gpmmatch/gpmmatch.py\", line 73, in volume_matching\n",
      "    gpmset, radar = data_load_and_checks(gpmfile,\n",
      "  File \"/home/548/vhl548/.local/miniconda3/envs/radar/lib/python3.8/site-packages/gpmmatch/io.py\", line 399, in data_load_and_checks\n",
      "    raise BrightBandError('No BB')\n",
      "gpmmatch.io.BrightBandError: No BB\n"
     ]
    },
    {
     "name": "stdout",
     "output_type": "stream",
     "text": [
      "[#########                               ] | 23% Completed |  4.3s!!! ERROR !!!\n",
      "/g/data/rq0/admin/calibration/sr_data/gpm_data/2017/11/02/2A-CS-AUS-East.GPM.Ku.V7-20170308.20171102-S120919-E121833.020906.V05A.HDF5\n",
      "2017-11-02 12:17:42\n"
     ]
    },
    {
     "name": "stderr",
     "output_type": "stream",
     "text": [
      "Traceback (most recent call last):\n",
      "  File \"<ipython-input-32-ca61466cbf69>\", line 13, in buffer\n",
      "    matchset = gpmmatch.volume_matching(gpmfile,\n",
      "  File \"/home/548/vhl548/.local/miniconda3/envs/radar/lib/python3.8/site-packages/gpmmatch/gpmmatch.py\", line 73, in volume_matching\n",
      "    gpmset, radar = data_load_and_checks(gpmfile,\n",
      "  File \"/home/548/vhl548/.local/miniconda3/envs/radar/lib/python3.8/site-packages/gpmmatch/io.py\", line 399, in data_load_and_checks\n",
      "    raise BrightBandError('No BB')\n",
      "gpmmatch.io.BrightBandError: No BB\n"
     ]
    },
    {
     "name": "stdout",
     "output_type": "stream",
     "text": [
      "[#########                               ] | 23% Completed |  5.0s!!! ERROR !!!\n",
      "[#########                               ] | 23% Completed |  5.1s/g/data/rq0/admin/calibration/sr_data/gpm_data/2017/11/05/2A-CS-AUS-East.GPM.Ku.V7-20170308.20171105-S110712-E111627.020952.V05A.HDF5\n",
      "2017-11-05 11:15:21\n"
     ]
    },
    {
     "name": "stderr",
     "output_type": "stream",
     "text": [
      "Traceback (most recent call last):\n",
      "  File \"<ipython-input-32-ca61466cbf69>\", line 13, in buffer\n",
      "    matchset = gpmmatch.volume_matching(gpmfile,\n",
      "  File \"/home/548/vhl548/.local/miniconda3/envs/radar/lib/python3.8/site-packages/gpmmatch/gpmmatch.py\", line 73, in volume_matching\n",
      "    gpmset, radar = data_load_and_checks(gpmfile,\n"
     ]
    },
    {
     "name": "stdout",
     "output_type": "stream",
     "text": [
      "\r",
      "[#########                               ] | 23% Completed |  5.2s"
     ]
    },
    {
     "name": "stderr",
     "output_type": "stream",
     "text": [
      "  File \"/home/548/vhl548/.local/miniconda3/envs/radar/lib/python3.8/site-packages/gpmmatch/io.py\", line 399, in data_load_and_checks\n",
      "    raise BrightBandError('No BB')\n",
      "gpmmatch.io.BrightBandError: No BB\n"
     ]
    },
    {
     "name": "stdout",
     "output_type": "stream",
     "text": [
      "[#########                               ] | 24% Completed | 15.8s!!! ERROR !!!\n",
      "/g/data/rq0/admin/calibration/sr_data/gpm_data/2017/09/08/2A-CS-AUS-East.GPM.Ku.V7-20170308.20170908-S132433-E133057.020052.V05A.HDF5\n",
      "2017-09-08 13:25:21\n"
     ]
    },
    {
     "name": "stderr",
     "output_type": "stream",
     "text": [
      "Traceback (most recent call last):\n",
      "  File \"<ipython-input-32-ca61466cbf69>\", line 13, in buffer\n",
      "    matchset = gpmmatch.volume_matching(gpmfile,\n"
     ]
    },
    {
     "name": "stdout",
     "output_type": "stream",
     "text": [
      "\r",
      "[#########                               ] | 24% Completed | 15.9s"
     ]
    },
    {
     "name": "stderr",
     "output_type": "stream",
     "text": [
      "  File \"/home/548/vhl548/.local/miniconda3/envs/radar/lib/python3.8/site-packages/gpmmatch/gpmmatch.py\", line 73, in volume_matching\n",
      "    gpmset, radar = data_load_and_checks(gpmfile,\n",
      "  File \"/home/548/vhl548/.local/miniconda3/envs/radar/lib/python3.8/site-packages/gpmmatch/io.py\", line 399, in data_load_and_checks\n",
      "    raise BrightBandError('No BB')\n",
      "gpmmatch.io.BrightBandError: No BB\n"
     ]
    },
    {
     "name": "stdout",
     "output_type": "stream",
     "text": [
      "[##########                              ] | 25% Completed | 21.0s!!! ERROR !!!\n",
      "/g/data/rq0/admin/calibration/sr_data/gpm_data/2017/10/14/2A-CS-AUS-East.GPM.Ku.V7-20170308.20171014-S173839-E174754.020614.V05A.HDF5\n",
      "2017-10-14 17:47:03\n"
     ]
    },
    {
     "name": "stderr",
     "output_type": "stream",
     "text": [
      "Traceback (most recent call last):\n",
      "  File \"<ipython-input-32-ca61466cbf69>\", line 13, in buffer\n",
      "    matchset = gpmmatch.volume_matching(gpmfile,\n",
      "  File \"/home/548/vhl548/.local/miniconda3/envs/radar/lib/python3.8/site-packages/gpmmatch/gpmmatch.py\", line 73, in volume_matching\n",
      "    gpmset, radar = data_load_and_checks(gpmfile,\n",
      "  File \"/home/548/vhl548/.local/miniconda3/envs/radar/lib/python3.8/site-packages/gpmmatch/io.py\", line 399, in data_load_and_checks\n",
      "    raise BrightBandError('No BB')\n",
      "gpmmatch.io.BrightBandError: No BB\n"
     ]
    },
    {
     "name": "stdout",
     "output_type": "stream",
     "text": [
      "[##########                              ] | 26% Completed | 22.3s!!! ERROR !!!\n",
      "/g/data/rq0/admin/calibration/sr_data/gpm_data/2017/11/27/2A-CS-AUS-East.GPM.Ku.V7-20170308.20171127-S043932-E044848.021290.V05A.HDF5\n",
      "[##########                              ] | 26% Completed | 22.4s2017-11-27 04:47:31\n"
     ]
    },
    {
     "name": "stderr",
     "output_type": "stream",
     "text": [
      "Traceback (most recent call last):\n",
      "  File \"<ipython-input-32-ca61466cbf69>\", line 13, in buffer\n",
      "    matchset = gpmmatch.volume_matching(gpmfile,\n",
      "  File \"/home/548/vhl548/.local/miniconda3/envs/radar/lib/python3.8/site-packages/gpmmatch/gpmmatch.py\", line 73, in volume_matching\n",
      "    gpmset, radar = data_load_and_checks(gpmfile,\n",
      "  File \"/home/548/vhl548/.local/miniconda3/envs/radar/lib/python3.8/site-packages/gpmmatch/io.py\", line 399, in data_load_and_checks\n",
      "    raise BrightBandError('No BB')\n",
      "gpmmatch.io.BrightBandError: No BB\n"
     ]
    },
    {
     "name": "stdout",
     "output_type": "stream",
     "text": [
      "[##########                              ] | 26% Completed | 23.3s!!! ERROR !!!\n",
      "/g/data/rq0/admin/calibration/sr_data/gpm_data/2018/02/08/2A-CS-Tasmania.GPM.Ku.V7-20170308.20180208-S164553-E164632.022434.V05A.HDF5\n",
      "2018-02-08 16:46:32\n"
     ]
    },
    {
     "name": "stderr",
     "output_type": "stream",
     "text": [
      "Traceback (most recent call last):\n",
      "  File \"<ipython-input-32-ca61466cbf69>\", line 13, in buffer\n",
      "    matchset = gpmmatch.volume_matching(gpmfile,\n",
      "  File \"/home/548/vhl548/.local/miniconda3/envs/radar/lib/python3.8/site-packages/gpmmatch/gpmmatch.py\", line 73, in volume_matching\n",
      "    gpmset, radar = data_load_and_checks(gpmfile,\n",
      "  File \"/home/548/vhl548/.local/miniconda3/envs/radar/lib/python3.8/site-packages/gpmmatch/io.py\", line 399, in data_load_and_checks\n",
      "    raise BrightBandError('No BB')\n"
     ]
    },
    {
     "name": "stdout",
     "output_type": "stream",
     "text": [
      "\r",
      "[##########                              ] | 26% Completed | 23.4s"
     ]
    },
    {
     "name": "stderr",
     "output_type": "stream",
     "text": [
      "gpmmatch.io.BrightBandError: No BB\n"
     ]
    },
    {
     "name": "stdout",
     "output_type": "stream",
     "text": [
      "[##########                              ] | 26% Completed | 23.7s!!! ERROR !!!\n",
      "/g/data/rq0/admin/calibration/sr_data/gpm_data/2017/12/28/2A-CS-Tasmania.GPM.Ku.V7-20170308.20171228-S194738-E194942.021782.V05A.HDF5\n",
      "2017-12-28 19:47:38\n",
      "[##########                              ] | 26% Completed | 23.8s"
     ]
    },
    {
     "name": "stderr",
     "output_type": "stream",
     "text": [
      "Traceback (most recent call last):\n",
      "  File \"<ipython-input-32-ca61466cbf69>\", line 13, in buffer\n",
      "    matchset = gpmmatch.volume_matching(gpmfile,\n",
      "  File \"/home/548/vhl548/.local/miniconda3/envs/radar/lib/python3.8/site-packages/gpmmatch/gpmmatch.py\", line 73, in volume_matching\n",
      "    gpmset, radar = data_load_and_checks(gpmfile,\n",
      "  File \"/home/548/vhl548/.local/miniconda3/envs/radar/lib/python3.8/site-packages/gpmmatch/io.py\", line 399, in data_load_and_checks\n",
      "    raise BrightBandError('No BB')\n",
      "gpmmatch.io.BrightBandError: No BB\n"
     ]
    },
    {
     "name": "stdout",
     "output_type": "stream",
     "text": [
      "[###########                             ] | 27% Completed | 40.1s!!! ERROR !!!\n",
      "[###########                             ] | 27% Completed | 40.2s/g/data/rq0/admin/calibration/sr_data/gpm_data/2017/10/24/2A-CS-AUS-East.GPM.Ku.V7-20170308.20171024-S002118-E003000.020759.V05A.HDF5\n",
      "2017-10-24 00:22:30\n"
     ]
    },
    {
     "name": "stderr",
     "output_type": "stream",
     "text": [
      "Traceback (most recent call last):\n",
      "  File \"<ipython-input-32-ca61466cbf69>\", line 13, in buffer\n",
      "    matchset = gpmmatch.volume_matching(gpmfile,\n"
     ]
    },
    {
     "name": "stdout",
     "output_type": "stream",
     "text": [
      "\r",
      "[###########                             ] | 27% Completed | 40.3s"
     ]
    },
    {
     "name": "stderr",
     "output_type": "stream",
     "text": [
      "  File \"/home/548/vhl548/.local/miniconda3/envs/radar/lib/python3.8/site-packages/gpmmatch/gpmmatch.py\", line 73, in volume_matching\n",
      "    gpmset, radar = data_load_and_checks(gpmfile,\n",
      "  File \"/home/548/vhl548/.local/miniconda3/envs/radar/lib/python3.8/site-packages/gpmmatch/io.py\", line 399, in data_load_and_checks\n",
      "    raise BrightBandError('No BB')\n",
      "gpmmatch.io.BrightBandError: No BB\n"
     ]
    },
    {
     "name": "stdout",
     "output_type": "stream",
     "text": [
      "[###########                             ] | 29% Completed | 42.7s!!! ERROR !!!\n",
      "/g/data/rq0/admin/calibration/sr_data/gpm_data/2018/03/24/2A-CS-AUS-East.GPM.Ku.V7-20170308.20180324-S183748-E184655.023119.V05A.HDF5\n",
      "2018-03-24 18:46:12\n"
     ]
    },
    {
     "name": "stderr",
     "output_type": "stream",
     "text": [
      "Traceback (most recent call last):\n",
      "  File \"<ipython-input-32-ca61466cbf69>\", line 13, in buffer\n",
      "    matchset = gpmmatch.volume_matching(gpmfile,\n",
      "  File \"/home/548/vhl548/.local/miniconda3/envs/radar/lib/python3.8/site-packages/gpmmatch/gpmmatch.py\", line 73, in volume_matching\n",
      "    gpmset, radar = data_load_and_checks(gpmfile,\n",
      "  File \"/home/548/vhl548/.local/miniconda3/envs/radar/lib/python3.8/site-packages/gpmmatch/io.py\", line 399, in data_load_and_checks\n",
      "    raise BrightBandError('No BB')\n",
      "gpmmatch.io.BrightBandError: No BB\n"
     ]
    },
    {
     "name": "stdout",
     "output_type": "stream",
     "text": [
      "[###########                             ] | 29% Completed | 43.1s!!! ERROR !!!\n",
      "/g/data/rq0/admin/calibration/sr_data/gpm_data/2018/03/24/2A-CS-Tasmania.GPM.Ku.V7-20170308.20180324-S184618-E184826.023119.V05A.HDF5\n",
      "2018-03-24 18:46:18\n"
     ]
    },
    {
     "name": "stderr",
     "output_type": "stream",
     "text": [
      "Traceback (most recent call last):\n",
      "  File \"<ipython-input-32-ca61466cbf69>\", line 13, in buffer\n",
      "    matchset = gpmmatch.volume_matching(gpmfile,\n",
      "  File \"/home/548/vhl548/.local/miniconda3/envs/radar/lib/python3.8/site-packages/gpmmatch/gpmmatch.py\", line 73, in volume_matching\n",
      "    gpmset, radar = data_load_and_checks(gpmfile,\n",
      "  File \"/home/548/vhl548/.local/miniconda3/envs/radar/lib/python3.8/site-packages/gpmmatch/io.py\", line 399, in data_load_and_checks\n",
      "    raise BrightBandError('No BB')\n",
      "gpmmatch.io.BrightBandError: No BB\n"
     ]
    },
    {
     "name": "stdout",
     "output_type": "stream",
     "text": [
      "[###########                             ] | 29% Completed | 45.5s!!! ERROR !!!\n",
      "/g/data/rq0/admin/calibration/sr_data/gpm_data/2018/02/18/2A-CS-AUS-East.GPM.Ku.V7-20170308.20180218-S043435-E044350.022581.V05A.HDF5\n",
      "2018-02-18 04:42:51\n"
     ]
    },
    {
     "name": "stderr",
     "output_type": "stream",
     "text": [
      "Traceback (most recent call last):\n",
      "  File \"<ipython-input-32-ca61466cbf69>\", line 13, in buffer\n",
      "    matchset = gpmmatch.volume_matching(gpmfile,\n",
      "  File \"/home/548/vhl548/.local/miniconda3/envs/radar/lib/python3.8/site-packages/gpmmatch/gpmmatch.py\", line 73, in volume_matching\n",
      "    gpmset, radar = data_load_and_checks(gpmfile,\n",
      "  File \"/home/548/vhl548/.local/miniconda3/envs/radar/lib/python3.8/site-packages/gpmmatch/io.py\", line 399, in data_load_and_checks\n",
      "    raise BrightBandError('No BB')\n",
      "gpmmatch.io.BrightBandError: No BB\n"
     ]
    },
    {
     "name": "stdout",
     "output_type": "stream",
     "text": [
      "[############                            ] | 30% Completed | 46.6s!!! ERROR !!!\n",
      "[############                            ] | 30% Completed | 46.7s/g/data/rq0/admin/calibration/sr_data/gpm_data/2018/04/04/2A-CS-AUS-East.GPM.Ku.V7-20170308.20180404-S152403-E153315.023288.V05A.HDF5\n",
      "2018-04-04 15:32:26\n"
     ]
    },
    {
     "name": "stderr",
     "output_type": "stream",
     "text": [
      "Traceback (most recent call last):\n",
      "  File \"<ipython-input-32-ca61466cbf69>\", line 13, in buffer\n",
      "    matchset = gpmmatch.volume_matching(gpmfile,\n",
      "  File \"/home/548/vhl548/.local/miniconda3/envs/radar/lib/python3.8/site-packages/gpmmatch/gpmmatch.py\", line 73, in volume_matching\n",
      "    gpmset, radar = data_load_and_checks(gpmfile,\n",
      "  File \"/home/548/vhl548/.local/miniconda3/envs/radar/lib/python3.8/site-packages/gpmmatch/io.py\", line 399, in data_load_and_checks\n",
      "    raise BrightBandError('No BB')\n",
      "gpmmatch.io.BrightBandError: No BB\n"
     ]
    },
    {
     "name": "stdout",
     "output_type": "stream",
     "text": [
      "[############                            ] | 30% Completed | 47.1s!!! ERROR !!!\n",
      "/g/data/rq0/admin/calibration/sr_data/gpm_data/2018/04/04/2A-CS-Tasmania.GPM.Ku.V7-20170308.20180404-S153233-E153441.023288.V05A.HDF5\n",
      "2018-04-04 15:32:33\n"
     ]
    },
    {
     "name": "stderr",
     "output_type": "stream",
     "text": [
      "Traceback (most recent call last):\n",
      "  File \"<ipython-input-32-ca61466cbf69>\", line 13, in buffer\n",
      "    matchset = gpmmatch.volume_matching(gpmfile,\n",
      "  File \"/home/548/vhl548/.local/miniconda3/envs/radar/lib/python3.8/site-packages/gpmmatch/gpmmatch.py\", line 73, in volume_matching\n",
      "    gpmset, radar = data_load_and_checks(gpmfile,\n",
      "  File \"/home/548/vhl548/.local/miniconda3/envs/radar/lib/python3.8/site-packages/gpmmatch/io.py\", line 399, in data_load_and_checks\n",
      "    raise BrightBandError('No BB')\n",
      "gpmmatch.io.BrightBandError: No BB\n"
     ]
    },
    {
     "name": "stdout",
     "output_type": "stream",
     "text": [
      "[############                            ] | 31% Completed | 48.7s!!! ERROR !!!\n",
      "/g/data/rq0/admin/calibration/sr_data/gpm_data/2018/04/11/2A-CS-AUS-East.GPM.Ku.V7-20170308.20180411-S221716-E222219.023402.V05A.HDF5\n",
      "2018-04-11 22:17:49\n"
     ]
    },
    {
     "name": "stderr",
     "output_type": "stream",
     "text": [
      "Traceback (most recent call last):\n",
      "  File \"<ipython-input-32-ca61466cbf69>\", line 13, in buffer\n",
      "    matchset = gpmmatch.volume_matching(gpmfile,\n",
      "  File \"/home/548/vhl548/.local/miniconda3/envs/radar/lib/python3.8/site-packages/gpmmatch/gpmmatch.py\", line 73, in volume_matching\n",
      "    gpmset, radar = data_load_and_checks(gpmfile,\n",
      "  File \"/home/548/vhl548/.local/miniconda3/envs/radar/lib/python3.8/site-packages/gpmmatch/io.py\", line 399, in data_load_and_checks\n",
      "    raise BrightBandError('No BB')\n",
      "gpmmatch.io.BrightBandError: No BB\n"
     ]
    },
    {
     "name": "stdout",
     "output_type": "stream",
     "text": [
      "[############                            ] | 31% Completed | 49.1s!!! ERROR !!!\n",
      "/g/data/rq0/admin/calibration/sr_data/gpm_data/2018/04/11/2A-CS-Tasmania.GPM.Ku.V7-20170308.20180411-S221559-E221800.023402.V05A.HDF5\n",
      "2018-04-11 22:17:49\n"
     ]
    },
    {
     "name": "stderr",
     "output_type": "stream",
     "text": [
      "Traceback (most recent call last):\n",
      "  File \"<ipython-input-32-ca61466cbf69>\", line 13, in buffer\n",
      "    matchset = gpmmatch.volume_matching(gpmfile,\n",
      "  File \"/home/548/vhl548/.local/miniconda3/envs/radar/lib/python3.8/site-packages/gpmmatch/gpmmatch.py\", line 73, in volume_matching\n",
      "    gpmset, radar = data_load_and_checks(gpmfile,\n",
      "  File \"/home/548/vhl548/.local/miniconda3/envs/radar/lib/python3.8/site-packages/gpmmatch/io.py\", line 399, in data_load_and_checks\n",
      "    raise BrightBandError('No BB')\n",
      "gpmmatch.io.BrightBandError: No BB\n"
     ]
    },
    {
     "name": "stdout",
     "output_type": "stream",
     "text": [
      "[#############                           ] | 32% Completed | 50.8s!!! ERROR !!!\n",
      "/g/data/rq0/admin/calibration/sr_data/gpm_data/2018/04/15/2A-CS-Tasmania.GPM.Ku.V7-20170308.20180415-S121804-E122009.023457.V05A.HDF5\n",
      "2018-04-15 12:18:04\n"
     ]
    },
    {
     "name": "stderr",
     "output_type": "stream",
     "text": [
      "Traceback (most recent call last):\n",
      "  File \"<ipython-input-32-ca61466cbf69>\", line 13, in buffer\n",
      "    matchset = gpmmatch.volume_matching(gpmfile,\n",
      "  File \"/home/548/vhl548/.local/miniconda3/envs/radar/lib/python3.8/site-packages/gpmmatch/gpmmatch.py\", line 73, in volume_matching\n",
      "    gpmset, radar = data_load_and_checks(gpmfile,\n",
      "  File \"/home/548/vhl548/.local/miniconda3/envs/radar/lib/python3.8/site-packages/gpmmatch/io.py\", line 399, in data_load_and_checks\n",
      "    raise BrightBandError('No BB')\n",
      "gpmmatch.io.BrightBandError: No BB\n"
     ]
    },
    {
     "name": "stdout",
     "output_type": "stream",
     "text": [
      "[#############                           ] | 34% Completed | 55.6s!!! ERROR !!!\n",
      "/g/data/rq0/admin/calibration/sr_data/gpm_data/2018/05/10/2A-CS-AUS-East.GPM.Ku.V7-20170308.20180510-S141727-E142614.023848.V05A.HDF5\n",
      "2018-05-10 14:18:40\n"
     ]
    },
    {
     "name": "stderr",
     "output_type": "stream",
     "text": [
      "Traceback (most recent call last):\n",
      "  File \"<ipython-input-32-ca61466cbf69>\", line 13, in buffer\n",
      "    matchset = gpmmatch.volume_matching(gpmfile,\n",
      "  File \"/home/548/vhl548/.local/miniconda3/envs/radar/lib/python3.8/site-packages/gpmmatch/gpmmatch.py\", line 73, in volume_matching\n",
      "    gpmset, radar = data_load_and_checks(gpmfile,\n",
      "  File \"/home/548/vhl548/.local/miniconda3/envs/radar/lib/python3.8/site-packages/gpmmatch/io.py\", line 399, in data_load_and_checks\n",
      "    raise BrightBandError('No BB')\n",
      "gpmmatch.io.BrightBandError: No BB\n"
     ]
    },
    {
     "name": "stdout",
     "output_type": "stream",
     "text": [
      "[################                        ] | 41% Completed | 57.1s!!! ERROR !!!\n",
      "[################                        ] | 41% Completed | 57.2s/g/data/rq0/admin/calibration/sr_data/gpm_data/2018/05/12/2A-CS-AUS-East.GPM.Ku.V7-20170308.20180512-S042021-E042936.023872.V05A.HDF5\n",
      "2018-05-12 04:28:40\n"
     ]
    },
    {
     "name": "stderr",
     "output_type": "stream",
     "text": [
      "Traceback (most recent call last):\n",
      "  File \"<ipython-input-32-ca61466cbf69>\", line 13, in buffer\n",
      "    matchset = gpmmatch.volume_matching(gpmfile,\n",
      "gpmmatch.io.BrightBandError: No BB\n",
      "  File \"/home/548/vhl548/.local/miniconda3/envs/radar/lib/python3.8/site-packages/gpmmatch/gpmmatch.py\", line 73, in volume_matching\n",
      "    gpmset, radar = data_load_and_checks(gpmfile,\n",
      "  File \"/home/548/vhl548/.local/miniconda3/envs/radar/lib/python3.8/site-packages/gpmmatch/io.py\", line 399, in data_load_and_checks\n",
      "    raise BrightBandError('No BB')\n"
     ]
    },
    {
     "name": "stdout",
     "output_type": "stream",
     "text": [
      "[###################                     ] | 49% Completed |  1min 10.0s!!! ERROR !!!\n",
      "/g/data/rq0/admin/calibration/sr_data/gpm_data/2018/10/01/2A-CS-AUS-East.GPM.Ku.V8-20180723.20181001-S104935-E105845.026085.V06A.HDF5\n",
      "[###################                     ] | 49% Completed |  1min 10.1s2018-10-01 10:57:58\n"
     ]
    },
    {
     "name": "stderr",
     "output_type": "stream",
     "text": [
      "Traceback (most recent call last):\n",
      "  File \"<ipython-input-32-ca61466cbf69>\", line 13, in buffer\n",
      "    matchset = gpmmatch.volume_matching(gpmfile,\n",
      "  File \"/home/548/vhl548/.local/miniconda3/envs/radar/lib/python3.8/site-packages/gpmmatch/gpmmatch.py\", line 73, in volume_matching\n",
      "    gpmset, radar = data_load_and_checks(gpmfile,\n",
      "  File \"/home/548/vhl548/.local/miniconda3/envs/radar/lib/python3.8/site-packages/gpmmatch/io.py\", line 399, in data_load_and_checks\n",
      "    raise BrightBandError('No BB')\n",
      "gpmmatch.io.BrightBandError: No BB\n"
     ]
    },
    {
     "name": "stdout",
     "output_type": "stream",
     "text": [
      "[####################                    ] | 50% Completed |  1min 11.2s!!! ERROR !!!\n",
      "/g/data/rq0/admin/calibration/sr_data/gpm_data/2018/10/01/2A-CS-Tasmania.GPM.Ku.V8-20180723.20181001-S105805-E110012.026085.V06A.HDF5\n",
      "2018-10-01 10:58:05\n"
     ]
    },
    {
     "name": "stderr",
     "output_type": "stream",
     "text": [
      "Traceback (most recent call last):\n",
      "  File \"<ipython-input-32-ca61466cbf69>\", line 13, in buffer\n",
      "    matchset = gpmmatch.volume_matching(gpmfile,\n",
      "  File \"/home/548/vhl548/.local/miniconda3/envs/radar/lib/python3.8/site-packages/gpmmatch/gpmmatch.py\", line 73, in volume_matching\n",
      "    gpmset, radar = data_load_and_checks(gpmfile,\n",
      "  File \"/home/548/vhl548/.local/miniconda3/envs/radar/lib/python3.8/site-packages/gpmmatch/io.py\", line 399, in data_load_and_checks\n",
      "    raise BrightBandError('No BB')\n",
      "gpmmatch.io.BrightBandError: No BB\n"
     ]
    },
    {
     "name": "stdout",
     "output_type": "stream",
     "text": [
      "[####################                    ] | 50% Completed |  1min 12.9s!!! ERROR !!!\n",
      "[####################                    ] | 50% Completed |  1min 13.0s/g/data/rq0/admin/calibration/sr_data/gpm_data/2018/10/02/2A-CS-AUS-East.GPM.Ku.V8-20180723.20181002-S194545-E195353.026107.V06A.HDF5\n",
      "2018-10-02 19:46:52\n"
     ]
    },
    {
     "name": "stderr",
     "output_type": "stream",
     "text": [
      "Traceback (most recent call last):\n",
      "  File \"<ipython-input-32-ca61466cbf69>\", line 13, in buffer\n",
      "    matchset = gpmmatch.volume_matching(gpmfile,\n",
      "  File \"/home/548/vhl548/.local/miniconda3/envs/radar/lib/python3.8/site-packages/gpmmatch/gpmmatch.py\", line 73, in volume_matching\n",
      "    gpmset, radar = data_load_and_checks(gpmfile,\n",
      "  File \"/home/548/vhl548/.local/miniconda3/envs/radar/lib/python3.8/site-packages/gpmmatch/io.py\", line 399, in data_load_and_checks\n",
      "    raise BrightBandError('No BB')\n",
      "gpmmatch.io.BrightBandError: No BB\n"
     ]
    },
    {
     "name": "stdout",
     "output_type": "stream",
     "text": [
      "[####################                    ] | 52% Completed |  1min 15.7s!!! ERROR !!!\n",
      "/g/data/rq0/admin/calibration/sr_data/gpm_data/2018/10/15/2A-CS-AUS-East.GPM.Ku.V8-20180723.20181015-S063500-E064417.026300.V06A.HDF5\n",
      "2018-10-15 06:43:10\n"
     ]
    },
    {
     "name": "stderr",
     "output_type": "stream",
     "text": [
      "Traceback (most recent call last):\n",
      "  File \"<ipython-input-32-ca61466cbf69>\", line 13, in buffer\n",
      "    matchset = gpmmatch.volume_matching(gpmfile,\n",
      "  File \"/home/548/vhl548/.local/miniconda3/envs/radar/lib/python3.8/site-packages/gpmmatch/gpmmatch.py\", line 73, in volume_matching\n",
      "    gpmset, radar = data_load_and_checks(gpmfile,\n",
      "  File \"/home/548/vhl548/.local/miniconda3/envs/radar/lib/python3.8/site-packages/gpmmatch/io.py\", line 399, in data_load_and_checks\n",
      "    raise BrightBandError('No BB')\n",
      "gpmmatch.io.BrightBandError: No BB\n"
     ]
    },
    {
     "name": "stdout",
     "output_type": "stream",
     "text": [
      "[####################                    ] | 52% Completed |  1min 16.2s!!! ERROR !!!\n",
      "/g/data/rq0/admin/calibration/sr_data/gpm_data/2018/10/20/2A-CS-AUS-East.GPM.Ku.V8-20180723.20181020-S052352-E053257.026377.V06A.HDF5\n",
      "2018-10-20 05:32:15\n",
      "[####################                    ] | 52% Completed |  1min 16.3s"
     ]
    },
    {
     "name": "stderr",
     "output_type": "stream",
     "text": [
      "Traceback (most recent call last):\n",
      "  File \"<ipython-input-32-ca61466cbf69>\", line 13, in buffer\n",
      "    matchset = gpmmatch.volume_matching(gpmfile,\n",
      "  File \"/home/548/vhl548/.local/miniconda3/envs/radar/lib/python3.8/site-packages/gpmmatch/gpmmatch.py\", line 73, in volume_matching\n",
      "    gpmset, radar = data_load_and_checks(gpmfile,\n",
      "  File \"/home/548/vhl548/.local/miniconda3/envs/radar/lib/python3.8/site-packages/gpmmatch/io.py\", line 399, in data_load_and_checks\n",
      "    raise BrightBandError('No BB')\n",
      "gpmmatch.io.BrightBandError: No BB\n"
     ]
    },
    {
     "name": "stdout",
     "output_type": "stream",
     "text": [
      "[####################                    ] | 52% Completed |  1min 18.7s!!! ERROR !!!\n",
      "[####################                    ] | 52% Completed |  1min 18.8s/g/data/rq0/admin/calibration/sr_data/gpm_data/2018/11/01/2A-CS-AUS-East.GPM.Ku.V8-20180723.20181101-S110503-E111304.026568.V06A.HDF5\n",
      "2018-11-01 11:06:07\n"
     ]
    },
    {
     "name": "stderr",
     "output_type": "stream",
     "text": [
      "Traceback (most recent call last):\n",
      "  File \"<ipython-input-32-ca61466cbf69>\", line 13, in buffer\n",
      "    matchset = gpmmatch.volume_matching(gpmfile,\n",
      "  File \"/home/548/vhl548/.local/miniconda3/envs/radar/lib/python3.8/site-packages/gpmmatch/gpmmatch.py\", line 73, in volume_matching\n",
      "    gpmset, radar = data_load_and_checks(gpmfile,\n",
      "  File \"/home/548/vhl548/.local/miniconda3/envs/radar/lib/python3.8/site-packages/gpmmatch/io.py\", line 399, in data_load_and_checks\n",
      "    raise BrightBandError('No BB')\n",
      "gpmmatch.io.BrightBandError: No BB\n"
     ]
    },
    {
     "name": "stdout",
     "output_type": "stream",
     "text": [
      "[#####################                   ] | 52% Completed |  1min 19.2s!!! ERROR !!!\n",
      "/g/data/rq0/admin/calibration/sr_data/gpm_data/2018/11/01/2A-CS-Tasmania.GPM.Ku.V8-20180723.20181101-S110522-E110547.026568.V06A.HDF5\n",
      "2018-11-01 11:05:47\n"
     ]
    },
    {
     "name": "stderr",
     "output_type": "stream",
     "text": [
      "Traceback (most recent call last):\n",
      "  File \"<ipython-input-32-ca61466cbf69>\", line 13, in buffer\n",
      "    matchset = gpmmatch.volume_matching(gpmfile,\n",
      "  File \"/home/548/vhl548/.local/miniconda3/envs/radar/lib/python3.8/site-packages/gpmmatch/gpmmatch.py\", line 73, in volume_matching\n",
      "    gpmset, radar = data_load_and_checks(gpmfile,\n",
      "  File \"/home/548/vhl548/.local/miniconda3/envs/radar/lib/python3.8/site-packages/gpmmatch/io.py\", line 399, in data_load_and_checks\n",
      "    raise BrightBandError('No BB')\n",
      "gpmmatch.io.BrightBandError: No BB\n"
     ]
    },
    {
     "name": "stdout",
     "output_type": "stream",
     "text": [
      "[#####################                   ] | 52% Completed |  1min 19.8s!!! ERROR !!!\n",
      "/g/data/rq0/admin/calibration/sr_data/gpm_data/2018/04/15/2A-CS-AUS-East.GPM.Ku.V7-20170308.20180415-S120932-E121848.023457.V05A.HDF5\n",
      "2018-04-15 12:17:54\n"
     ]
    },
    {
     "name": "stderr",
     "output_type": "stream",
     "text": [
      "Traceback (most recent call last):\n",
      "  File \"<ipython-input-32-ca61466cbf69>\", line 13, in buffer\n",
      "    matchset = gpmmatch.volume_matching(gpmfile,\n",
      "  File \"/home/548/vhl548/.local/miniconda3/envs/radar/lib/python3.8/site-packages/gpmmatch/gpmmatch.py\", line 73, in volume_matching\n",
      "    gpmset, radar = data_load_and_checks(gpmfile,\n",
      "  File \"/home/548/vhl548/.local/miniconda3/envs/radar/lib/python3.8/site-packages/gpmmatch/io.py\", line 399, in data_load_and_checks\n",
      "    raise BrightBandError('No BB')\n",
      "gpmmatch.io.BrightBandError: No BB\n"
     ]
    },
    {
     "name": "stdout",
     "output_type": "stream",
     "text": [
      "[#####################                   ] | 53% Completed |  1min 21.7s!!! ERROR !!!\n",
      "/g/data/rq0/admin/calibration/sr_data/gpm_data/2018/11/04/2A-CS-AUS-East.GPM.Ku.V8-20180723.20181104-S100238-E100857.026614.V06A.HDF5\n",
      "2018-11-04 10:03:25\n"
     ]
    },
    {
     "name": "stderr",
     "output_type": "stream",
     "text": [
      "Traceback (most recent call last):\n",
      "  File \"<ipython-input-32-ca61466cbf69>\", line 13, in buffer\n",
      "    matchset = gpmmatch.volume_matching(gpmfile,\n",
      "  File \"/home/548/vhl548/.local/miniconda3/envs/radar/lib/python3.8/site-packages/gpmmatch/gpmmatch.py\", line 73, in volume_matching\n",
      "    gpmset, radar = data_load_and_checks(gpmfile,\n",
      "  File \"/home/548/vhl548/.local/miniconda3/envs/radar/lib/python3.8/site-packages/gpmmatch/io.py\", line 399, in data_load_and_checks\n",
      "    raise BrightBandError('No BB')\n",
      "gpmmatch.io.BrightBandError: No BB\n"
     ]
    },
    {
     "name": "stdout",
     "output_type": "stream",
     "text": [
      "[#####################                   ] | 54% Completed |  1min 24.1s!!! ERROR !!!\n",
      "/g/data/rq0/admin/calibration/sr_data/gpm_data/2018/11/21/2A-CS-AUS-East.GPM.Ku.V8-20180723.20181121-S193620-E194538.026884.V06A.HDF5\n",
      "2018-11-21 19:44:29\n"
     ]
    },
    {
     "name": "stderr",
     "output_type": "stream",
     "text": [
      "Traceback (most recent call last):\n",
      "  File \"<ipython-input-32-ca61466cbf69>\", line 13, in buffer\n",
      "    matchset = gpmmatch.volume_matching(gpmfile,\n"
     ]
    },
    {
     "name": "stdout",
     "output_type": "stream",
     "text": [
      "\r",
      "[#####################                   ] | 54% Completed |  1min 24.2s"
     ]
    },
    {
     "name": "stderr",
     "output_type": "stream",
     "text": [
      "  File \"/home/548/vhl548/.local/miniconda3/envs/radar/lib/python3.8/site-packages/gpmmatch/gpmmatch.py\", line 73, in volume_matching\n",
      "    gpmset, radar = data_load_and_checks(gpmfile,\n",
      "  File \"/home/548/vhl548/.local/miniconda3/envs/radar/lib/python3.8/site-packages/gpmmatch/io.py\", line 399, in data_load_and_checks\n",
      "    raise BrightBandError('No BB')\n",
      "gpmmatch.io.BrightBandError: No BB\n"
     ]
    },
    {
     "name": "stdout",
     "output_type": "stream",
     "text": [
      "[######################                  ] | 55% Completed |  1min 25.6s!!! ERROR !!!\n",
      "/g/data/rq0/admin/calibration/sr_data/gpm_data/2018/11/23/2A-CS-Tasmania.GPM.Ku.V8-20180723.20181123-S043151-E043320.026906.V06A.HDF5\n",
      "2018-11-23 04:33:20\n"
     ]
    },
    {
     "name": "stderr",
     "output_type": "stream",
     "text": [
      "Traceback (most recent call last):\n",
      "  File \"<ipython-input-32-ca61466cbf69>\", line 13, in buffer\n",
      "    matchset = gpmmatch.volume_matching(gpmfile,\n",
      "  File \"/home/548/vhl548/.local/miniconda3/envs/radar/lib/python3.8/site-packages/gpmmatch/gpmmatch.py\", line 73, in volume_matching\n",
      "    gpmset, radar = data_load_and_checks(gpmfile,\n",
      "  File \"/home/548/vhl548/.local/miniconda3/envs/radar/lib/python3.8/site-packages/gpmmatch/io.py\", line 399, in data_load_and_checks\n",
      "    raise BrightBandError('No BB')\n",
      "gpmmatch.io.BrightBandError: No BB\n"
     ]
    },
    {
     "name": "stdout",
     "output_type": "stream",
     "text": [
      "[######################                  ] | 55% Completed |  1min 25.8s!!! ERROR !!!\n",
      "/g/data/rq0/admin/calibration/sr_data/gpm_data/2018/11/23/2A-CS-AUS-East.GPM.Ku.V8-20180723.20181123-S043236-E043850.026906.V06A.HDF5\n",
      "2018-11-23 04:33:22\n"
     ]
    },
    {
     "name": "stderr",
     "output_type": "stream",
     "text": [
      "Traceback (most recent call last):\n",
      "  File \"<ipython-input-32-ca61466cbf69>\", line 13, in buffer\n",
      "    matchset = gpmmatch.volume_matching(gpmfile,\n",
      "  File \"/home/548/vhl548/.local/miniconda3/envs/radar/lib/python3.8/site-packages/gpmmatch/gpmmatch.py\", line 73, in volume_matching\n",
      "    gpmset, radar = data_load_and_checks(gpmfile,\n",
      "  File \"/home/548/vhl548/.local/miniconda3/envs/radar/lib/python3.8/site-packages/gpmmatch/io.py\", line 399, in data_load_and_checks\n",
      "    raise BrightBandError('No BB')\n",
      "gpmmatch.io.BrightBandError: No BB\n"
     ]
    },
    {
     "name": "stdout",
     "output_type": "stream",
     "text": [
      "[#######################                 ] | 59% Completed |  1min 48.2sNo ground 01 radar file for 2019-01-22 02:02:47.\n",
      "[########################                ] | 60% Completed |  1min 50.1s!!! ERROR !!!\n",
      "/g/data/rq0/admin/calibration/sr_data/gpm_data/2019/02/03/2A-CS-AUS-East.GPM.Ku.V8-20180723.20190203-S073801-E074600.028028.V06A.HDF5\n",
      "2019-02-03 07:39:05\n"
     ]
    },
    {
     "name": "stderr",
     "output_type": "stream",
     "text": [
      "Traceback (most recent call last):\n",
      "  File \"<ipython-input-32-ca61466cbf69>\", line 13, in buffer\n",
      "    matchset = gpmmatch.volume_matching(gpmfile,\n",
      "  File \"/home/548/vhl548/.local/miniconda3/envs/radar/lib/python3.8/site-packages/gpmmatch/gpmmatch.py\", line 73, in volume_matching\n",
      "    gpmset, radar = data_load_and_checks(gpmfile,\n",
      "  File \"/home/548/vhl548/.local/miniconda3/envs/radar/lib/python3.8/site-packages/gpmmatch/io.py\", line 399, in data_load_and_checks\n",
      "    raise BrightBandError('No BB')\n",
      "gpmmatch.io.BrightBandError: No BB\n"
     ]
    },
    {
     "name": "stdout",
     "output_type": "stream",
     "text": [
      "[########################                ] | 61% Completed |  1min 59.5sNo ground 01 radar file for 2019-02-12 19:36:56.\n",
      "[########################                ] | 61% Completed |  1min 59.9s!!! ERROR !!!\n",
      "/g/data/rq0/admin/calibration/sr_data/gpm_data/2019/02/06/2A-CS-AUS-East.GPM.Ku.V8-20180723.20190206-S063657-E064327.028074.V06A.HDF5\n",
      "2019-02-06 06:37:47\n"
     ]
    },
    {
     "name": "stderr",
     "output_type": "stream",
     "text": [
      "Traceback (most recent call last):\n",
      "  File \"<ipython-input-32-ca61466cbf69>\", line 13, in buffer\n",
      "    matchset = gpmmatch.volume_matching(gpmfile,\n",
      "  File \"/home/548/vhl548/.local/miniconda3/envs/radar/lib/python3.8/site-packages/gpmmatch/gpmmatch.py\", line 73, in volume_matching\n",
      "    gpmset, radar = data_load_and_checks(gpmfile,\n",
      "  File \"/home/548/vhl548/.local/miniconda3/envs/radar/lib/python3.8/site-packages/gpmmatch/io.py\", line 399, in data_load_and_checks\n",
      "    raise BrightBandError('No BB')\n",
      "gpmmatch.io.BrightBandError: No BB\n"
     ]
    },
    {
     "name": "stdout",
     "output_type": "stream",
     "text": [
      "[########################                ] | 61% Completed |  2min  1.7s!!! ERROR !!!\n",
      "[########################                ] | 61% Completed |  2min  1.8s/g/data/rq0/admin/calibration/sr_data/gpm_data/2019/02/17/2A-CS-AUS-East.GPM.Ku.V8-20180723.20190217-S032255-E032854.028243.V06A.HDF5\n",
      "2019-02-17 03:23:39\n"
     ]
    },
    {
     "name": "stderr",
     "output_type": "stream",
     "text": [
      "Traceback (most recent call last):\n",
      "  File \"<ipython-input-32-ca61466cbf69>\", line 13, in buffer\n",
      "    matchset = gpmmatch.volume_matching(gpmfile,\n",
      "  File \"/home/548/vhl548/.local/miniconda3/envs/radar/lib/python3.8/site-packages/gpmmatch/gpmmatch.py\", line 73, in volume_matching\n",
      "    gpmset, radar = data_load_and_checks(gpmfile,\n",
      "  File \"/home/548/vhl548/.local/miniconda3/envs/radar/lib/python3.8/site-packages/gpmmatch/io.py\", line 399, in data_load_and_checks\n",
      "    raise BrightBandError('No BB')\n",
      "gpmmatch.io.BrightBandError: No BB\n"
     ]
    },
    {
     "name": "stdout",
     "output_type": "stream",
     "text": [
      "[#########################               ] | 63% Completed |  2min  2.0s!!! ERROR !!!\n",
      "/g/data/rq0/admin/calibration/sr_data/gpm_data/2019/02/09/2A-CS-AUS-East.GPM.Ku.V8-20180723.20190209-S053551-E054057.028120.V06A.HDF5\n",
      "2019-02-09 05:36:25\n",
      "[#########################               ] | 63% Completed |  2min  2.1s"
     ]
    },
    {
     "name": "stderr",
     "output_type": "stream",
     "text": [
      "Traceback (most recent call last):\n",
      "  File \"<ipython-input-32-ca61466cbf69>\", line 13, in buffer\n",
      "    matchset = gpmmatch.volume_matching(gpmfile,\n",
      "  File \"/home/548/vhl548/.local/miniconda3/envs/radar/lib/python3.8/site-packages/gpmmatch/gpmmatch.py\", line 73, in volume_matching\n",
      "    gpmset, radar = data_load_and_checks(gpmfile,\n",
      "  File \"/home/548/vhl548/.local/miniconda3/envs/radar/lib/python3.8/site-packages/gpmmatch/io.py\", line 399, in data_load_and_checks\n",
      "    raise BrightBandError('No BB')\n",
      "gpmmatch.io.BrightBandError: No BB\n"
     ]
    },
    {
     "name": "stdout",
     "output_type": "stream",
     "text": [
      "[#########################               ] | 64% Completed |  2min 14.1s!!! ERROR !!!\n",
      "/g/data/rq0/admin/calibration/sr_data/gpm_data/2019/04/03/2A-CS-AUS-East.GPM.Ku.V8-20180723.20190403-S141343-E142059.028950.V06A.HDF5\n",
      "2019-04-03 14:14:41\n",
      "[#########################               ] | 64% Completed |  2min 14.2s"
     ]
    },
    {
     "name": "stderr",
     "output_type": "stream",
     "text": [
      "Traceback (most recent call last):\n",
      "  File \"<ipython-input-32-ca61466cbf69>\", line 13, in buffer\n",
      "    matchset = gpmmatch.volume_matching(gpmfile,\n",
      "  File \"/home/548/vhl548/.local/miniconda3/envs/radar/lib/python3.8/site-packages/gpmmatch/gpmmatch.py\", line 73, in volume_matching\n",
      "    gpmset, radar = data_load_and_checks(gpmfile,\n",
      "  File \"/home/548/vhl548/.local/miniconda3/envs/radar/lib/python3.8/site-packages/gpmmatch/io.py\", line 399, in data_load_and_checks\n",
      "    raise BrightBandError('No BB')\n",
      "gpmmatch.io.BrightBandError: No BB\n"
     ]
    },
    {
     "name": "stdout",
     "output_type": "stream",
     "text": [
      "No ground 01 radar file for 2019-05-28 13:00:19.\n",
      "No ground 01 radar file for 2019-05-29 21:49:00.\n",
      "[###########################             ] | 67% Completed |  2min 18.2s!!! ERROR !!!\n",
      "/g/data/rq0/admin/calibration/sr_data/gpm_data/2019/06/13/2A-CS-AUS-East.GPM.Ku.V8-20180723.20190613-S082133-E083036.030050.V06A.HDF5\n",
      "[###########################             ] | 67% Completed |  2min 18.3s2019-06-13 08:29:56\n"
     ]
    },
    {
     "name": "stderr",
     "output_type": "stream",
     "text": [
      "Traceback (most recent call last):\n",
      "  File \"<ipython-input-32-ca61466cbf69>\", line 13, in buffer\n",
      "    matchset = gpmmatch.volume_matching(gpmfile,\n",
      "  File \"/home/548/vhl548/.local/miniconda3/envs/radar/lib/python3.8/site-packages/gpmmatch/gpmmatch.py\", line 73, in volume_matching\n",
      "    gpmset, radar = data_load_and_checks(gpmfile,\n",
      "  File \"/home/548/vhl548/.local/miniconda3/envs/radar/lib/python3.8/site-packages/gpmmatch/io.py\", line 399, in data_load_and_checks\n",
      "    raise BrightBandError('No BB')\n",
      "gpmmatch.io.BrightBandError: No BB\n"
     ]
    },
    {
     "name": "stdout",
     "output_type": "stream",
     "text": [
      "[###########################             ] | 67% Completed |  2min 20.6s!!! ERROR !!!\n",
      "/g/data/rq0/admin/calibration/sr_data/gpm_data/2019/06/16/2A-CS-AUS-East.GPM.Ku.V8-20180723.20190616-S071852-E072808.030096.V06A.HDF5\n",
      "2019-06-16 07:27:11\n"
     ]
    },
    {
     "name": "stderr",
     "output_type": "stream",
     "text": [
      "Traceback (most recent call last):\n"
     ]
    },
    {
     "name": "stdout",
     "output_type": "stream",
     "text": [
      "\r",
      "[###########################             ] | 67% Completed |  2min 20.7s"
     ]
    },
    {
     "name": "stderr",
     "output_type": "stream",
     "text": [
      "  File \"<ipython-input-32-ca61466cbf69>\", line 13, in buffer\n",
      "    matchset = gpmmatch.volume_matching(gpmfile,\n",
      "  File \"/home/548/vhl548/.local/miniconda3/envs/radar/lib/python3.8/site-packages/gpmmatch/gpmmatch.py\", line 73, in volume_matching\n",
      "    gpmset, radar = data_load_and_checks(gpmfile,\n",
      "  File \"/home/548/vhl548/.local/miniconda3/envs/radar/lib/python3.8/site-packages/gpmmatch/io.py\", line 399, in data_load_and_checks\n",
      "    raise BrightBandError('No BB')\n",
      "gpmmatch.io.BrightBandError: No BB\n"
     ]
    },
    {
     "name": "stdout",
     "output_type": "stream",
     "text": [
      "[###########################             ] | 69% Completed |  2min 22.1s!!! ERROR !!!\n",
      "/g/data/rq0/admin/calibration/sr_data/gpm_data/2019/06/17/2A-CS-AUS-East.GPM.Ku.V8-20180723.20190617-S161427-E162127.030118.V06A.HDF5\n",
      "2019-06-17 16:15:23\n"
     ]
    },
    {
     "name": "stderr",
     "output_type": "stream",
     "text": [
      "Traceback (most recent call last):\n",
      "  File \"<ipython-input-32-ca61466cbf69>\", line 13, in buffer\n",
      "    matchset = gpmmatch.volume_matching(gpmfile,\n",
      "  File \"/home/548/vhl548/.local/miniconda3/envs/radar/lib/python3.8/site-packages/gpmmatch/gpmmatch.py\", line 73, in volume_matching\n",
      "    gpmset, radar = data_load_and_checks(gpmfile,\n",
      "  File \"/home/548/vhl548/.local/miniconda3/envs/radar/lib/python3.8/site-packages/gpmmatch/io.py\", line 399, in data_load_and_checks\n",
      "    raise BrightBandError('No BB')\n",
      "gpmmatch.io.BrightBandError: No BB\n"
     ]
    },
    {
     "name": "stdout",
     "output_type": "stream",
     "text": [
      "[############################            ] | 70% Completed |  2min 23.4s!!! ERROR !!!\n",
      "/g/data/rq0/admin/calibration/sr_data/gpm_data/2019/06/24/2A-CS-AUS-East.GPM.Ku.V8-20180723.20190624-S050258-E051214.030219.V06A.HDF5\n",
      "2019-06-24 05:11:21\n"
     ]
    },
    {
     "name": "stderr",
     "output_type": "stream",
     "text": [
      "Traceback (most recent call last):\n",
      "  File \"<ipython-input-32-ca61466cbf69>\", line 13, in buffer\n",
      "    matchset = gpmmatch.volume_matching(gpmfile,\n",
      "  File \"/home/548/vhl548/.local/miniconda3/envs/radar/lib/python3.8/site-packages/gpmmatch/gpmmatch.py\", line 73, in volume_matching\n",
      "    gpmset, radar = data_load_and_checks(gpmfile,\n",
      "  File \"/home/548/vhl548/.local/miniconda3/envs/radar/lib/python3.8/site-packages/gpmmatch/io.py\", line 399, in data_load_and_checks\n",
      "    raise BrightBandError('No BB')\n",
      "gpmmatch.io.BrightBandError: No BB\n"
     ]
    },
    {
     "name": "stdout",
     "output_type": "stream",
     "text": [
      "[############################            ] | 70% Completed |  2min 23.8s!!! ERROR !!!\n",
      "/g/data/rq0/admin/calibration/sr_data/gpm_data/2019/07/12/2A-CS-AUS-East.GPM.Ku.V8-20180723.20190712-S233641-E234554.030511.V06A.HDF5\n",
      "2019-07-12 23:45:05\n"
     ]
    },
    {
     "name": "stderr",
     "output_type": "stream",
     "text": [
      "Traceback (most recent call last):\n",
      "  File \"<ipython-input-32-ca61466cbf69>\", line 13, in buffer\n",
      "    matchset = gpmmatch.volume_matching(gpmfile,\n",
      "  File \"/home/548/vhl548/.local/miniconda3/envs/radar/lib/python3.8/site-packages/gpmmatch/gpmmatch.py\", line 73, in volume_matching\n",
      "    gpmset, radar = data_load_and_checks(gpmfile,\n",
      "  File \"/home/548/vhl548/.local/miniconda3/envs/radar/lib/python3.8/site-packages/gpmmatch/io.py\", line 399, in data_load_and_checks\n",
      "    raise BrightBandError('No BB')\n",
      "gpmmatch.io.BrightBandError: No BB\n"
     ]
    },
    {
     "name": "stdout",
     "output_type": "stream",
     "text": [
      "[############################            ] | 70% Completed |  2min 25.3s!!! ERROR !!!\n",
      "/g/data/rq0/admin/calibration/sr_data/gpm_data/2019/07/17/2A-CS-AUS-East.GPM.Ku.V8-20180723.20190717-S073139-E073812.030579.V06A.HDF5\n",
      "2019-07-17 07:32:29\n"
     ]
    },
    {
     "name": "stderr",
     "output_type": "stream",
     "text": [
      "Traceback (most recent call last):\n"
     ]
    },
    {
     "name": "stdout",
     "output_type": "stream",
     "text": [
      "!!! ERROR !!!\n",
      "/g/data/rq0/admin/calibration/sr_data/gpm_data/2019/07/14/2A-CS-AUS-East.GPM.Ku.V8-20180723.20190714-S083250-E084054.030533.V06A.HDF5\n",
      "2019-07-14 08:33:55\n",
      "[############################            ] | 70% Completed |  2min 25.4s"
     ]
    },
    {
     "name": "stderr",
     "output_type": "stream",
     "text": [
      "Traceback (most recent call last):\n",
      "  File \"<ipython-input-32-ca61466cbf69>\", line 13, in buffer\n",
      "    matchset = gpmmatch.volume_matching(gpmfile,\n",
      "  File \"<ipython-input-32-ca61466cbf69>\", line 13, in buffer\n",
      "    matchset = gpmmatch.volume_matching(gpmfile,\n",
      "  File \"/home/548/vhl548/.local/miniconda3/envs/radar/lib/python3.8/site-packages/gpmmatch/gpmmatch.py\", line 73, in volume_matching\n",
      "    gpmset, radar = data_load_and_checks(gpmfile,\n",
      "  File \"/home/548/vhl548/.local/miniconda3/envs/radar/lib/python3.8/site-packages/gpmmatch/io.py\", line 399, in data_load_and_checks\n",
      "    raise BrightBandError('No BB')\n",
      "gpmmatch.io.BrightBandError: No BB\n",
      "  File \"/home/548/vhl548/.local/miniconda3/envs/radar/lib/python3.8/site-packages/gpmmatch/gpmmatch.py\", line 73, in volume_matching\n",
      "    gpmset, radar = data_load_and_checks(gpmfile,\n",
      "  File \"/home/548/vhl548/.local/miniconda3/envs/radar/lib/python3.8/site-packages/gpmmatch/io.py\", line 399, in data_load_and_checks\n",
      "    raise BrightBandError('No BB')\n",
      "gpmmatch.io.BrightBandError: No BB\n"
     ]
    },
    {
     "name": "stdout",
     "output_type": "stream",
     "text": [
      "[############################            ] | 71% Completed |  2min 26.8s!!! ERROR !!!\n",
      "/g/data/rq0/admin/calibration/sr_data/gpm_data/2019/08/11/2A-CS-AUS-East.GPM.Ku.V8-20180723.20190811-S145131-E150046.030972.V06A.HDF5\n",
      "2019-08-11 14:59:50\n"
     ]
    },
    {
     "name": "stderr",
     "output_type": "stream",
     "text": [
      "Traceback (most recent call last):\n",
      "  File \"<ipython-input-32-ca61466cbf69>\", line 13, in buffer\n",
      "    matchset = gpmmatch.volume_matching(gpmfile,\n",
      "  File \"/home/548/vhl548/.local/miniconda3/envs/radar/lib/python3.8/site-packages/gpmmatch/gpmmatch.py\", line 73, in volume_matching\n",
      "    gpmset, radar = data_load_and_checks(gpmfile,\n",
      "  File \"/home/548/vhl548/.local/miniconda3/envs/radar/lib/python3.8/site-packages/gpmmatch/io.py\", line 399, in data_load_and_checks\n",
      "    raise BrightBandError('No BB')\n",
      "gpmmatch.io.BrightBandError: No BB\n"
     ]
    },
    {
     "name": "stdout",
     "output_type": "stream",
     "text": [
      "[############################            ] | 71% Completed |  2min 27.5s!!! ERROR !!!\n",
      "[############################            ] | 71% Completed |  2min 27.6s/g/data/rq0/admin/calibration/sr_data/gpm_data/2019/08/08/2A-CS-AUS-East.GPM.Ku.V8-20180723.20190808-S155357-E160301.030926.V06A.HDF5\n",
      "2019-08-08 16:02:21\n"
     ]
    },
    {
     "name": "stderr",
     "output_type": "stream",
     "text": [
      "Traceback (most recent call last):\n",
      "  File \"<ipython-input-32-ca61466cbf69>\", line 13, in buffer\n",
      "    matchset = gpmmatch.volume_matching(gpmfile,\n",
      "  File \"/home/548/vhl548/.local/miniconda3/envs/radar/lib/python3.8/site-packages/gpmmatch/gpmmatch.py\", line 73, in volume_matching\n",
      "    gpmset, radar = data_load_and_checks(gpmfile,\n"
     ]
    },
    {
     "name": "stdout",
     "output_type": "stream",
     "text": [
      "\r",
      "[############################            ] | 71% Completed |  2min 27.7s"
     ]
    },
    {
     "name": "stderr",
     "output_type": "stream",
     "text": [
      "  File \"/home/548/vhl548/.local/miniconda3/envs/radar/lib/python3.8/site-packages/gpmmatch/io.py\", line 399, in data_load_and_checks\n",
      "    raise BrightBandError('No BB')\n",
      "gpmmatch.io.BrightBandError: No BB\n"
     ]
    },
    {
     "name": "stdout",
     "output_type": "stream",
     "text": [
      "[############################            ] | 72% Completed |  2min 27.9s!!! ERROR !!!\n",
      "/g/data/rq0/admin/calibration/sr_data/gpm_data/2019/08/15/2A-CS-AUS-East.GPM.Ku.V8-20180723.20190815-S224457-E225028.031040.V06A.HDF5\n",
      "2019-08-15 22:45:35\n"
     ]
    },
    {
     "name": "stderr",
     "output_type": "stream",
     "text": [
      "Traceback (most recent call last):\n",
      "  File \"<ipython-input-32-ca61466cbf69>\", line 13, in buffer\n",
      "    matchset = gpmmatch.volume_matching(gpmfile,\n",
      "  File \"/home/548/vhl548/.local/miniconda3/envs/radar/lib/python3.8/site-packages/gpmmatch/gpmmatch.py\", line 73, in volume_matching\n",
      "    gpmset, radar = data_load_and_checks(gpmfile,\n",
      "  File \"/home/548/vhl548/.local/miniconda3/envs/radar/lib/python3.8/site-packages/gpmmatch/io.py\", line 399, in data_load_and_checks\n",
      "    raise BrightBandError('No BB')\n",
      "gpmmatch.io.BrightBandError: No BB\n"
     ]
    },
    {
     "name": "stdout",
     "output_type": "stream",
     "text": [
      "[#############################           ] | 73% Completed |  2min 29.6s!!! ERROR !!!\n",
      "[#############################           ] | 73% Completed |  2min 29.7s/g/data/rq0/admin/calibration/sr_data/gpm_data/2019/08/19/2A-CS-AUS-East.GPM.Ku.V8-20180723.20190819-S123618-E124532.031095.V06A.HDF5\n",
      "2019-08-19 12:44:42\n"
     ]
    },
    {
     "name": "stderr",
     "output_type": "stream",
     "text": [
      "Traceback (most recent call last):\n",
      "  File \"<ipython-input-32-ca61466cbf69>\", line 13, in buffer\n",
      "    matchset = gpmmatch.volume_matching(gpmfile,\n",
      "  File \"/home/548/vhl548/.local/miniconda3/envs/radar/lib/python3.8/site-packages/gpmmatch/gpmmatch.py\", line 73, in volume_matching\n",
      "    gpmset, radar = data_load_and_checks(gpmfile,\n",
      "  File \"/home/548/vhl548/.local/miniconda3/envs/radar/lib/python3.8/site-packages/gpmmatch/io.py\", line 399, in data_load_and_checks\n",
      "    raise BrightBandError('No BB')\n",
      "gpmmatch.io.BrightBandError: No BB\n"
     ]
    },
    {
     "name": "stdout",
     "output_type": "stream",
     "text": [
      "[#############################           ] | 73% Completed |  2min 31.8s!!! ERROR !!!\n",
      "/g/data/rq0/admin/calibration/sr_data/gpm_data/2019/08/20/2A-CS-AUS-East.GPM.Ku.V8-20180723.20190820-S213157-E213939.031117.V06A.HDF5\n",
      "2019-08-20 21:32:59\n"
     ]
    },
    {
     "name": "stderr",
     "output_type": "stream",
     "text": [
      "Traceback (most recent call last):\n"
     ]
    },
    {
     "name": "stdout",
     "output_type": "stream",
     "text": [
      "\r",
      "[#############################           ] | 73% Completed |  2min 31.9s"
     ]
    },
    {
     "name": "stderr",
     "output_type": "stream",
     "text": [
      "  File \"<ipython-input-32-ca61466cbf69>\", line 13, in buffer\n",
      "    matchset = gpmmatch.volume_matching(gpmfile,\n",
      "  File \"/home/548/vhl548/.local/miniconda3/envs/radar/lib/python3.8/site-packages/gpmmatch/gpmmatch.py\", line 73, in volume_matching\n",
      "    gpmset, radar = data_load_and_checks(gpmfile,\n",
      "  File \"/home/548/vhl548/.local/miniconda3/envs/radar/lib/python3.8/site-packages/gpmmatch/io.py\", line 399, in data_load_and_checks\n",
      "    raise BrightBandError('No BB')\n",
      "gpmmatch.io.BrightBandError: No BB\n"
     ]
    },
    {
     "name": "stdout",
     "output_type": "stream",
     "text": [
      "[#############################           ] | 74% Completed |  2min 33.9s!!! ERROR !!!\n",
      "/g/data/rq0/admin/calibration/sr_data/gpm_data/2019/09/07/2A-CS-AUS-East.GPM.Ku.V8-20180723.20190907-S070923-E071833.031387.V06A.HDF5\n",
      "2019-09-07 07:17:47\n"
     ]
    },
    {
     "name": "stderr",
     "output_type": "stream",
     "text": [
      "Traceback (most recent call last):\n",
      "  File \"<ipython-input-32-ca61466cbf69>\", line 13, in buffer\n",
      "    matchset = gpmmatch.volume_matching(gpmfile,\n",
      "  File \"/home/548/vhl548/.local/miniconda3/envs/radar/lib/python3.8/site-packages/gpmmatch/gpmmatch.py\", line 73, in volume_matching\n",
      "    gpmset, radar = data_load_and_checks(gpmfile,\n",
      "  File \"/home/548/vhl548/.local/miniconda3/envs/radar/lib/python3.8/site-packages/gpmmatch/io.py\", line 399, in data_load_and_checks\n",
      "    raise BrightBandError('No BB')\n",
      "gpmmatch.io.BrightBandError: No BB\n"
     ]
    },
    {
     "name": "stdout",
     "output_type": "stream",
     "text": [
      "[#############################           ] | 74% Completed |  2min 35.8s!!! ERROR !!!\n",
      "/g/data/rq0/admin/calibration/sr_data/gpm_data/2019/09/08/2A-CS-AUS-East.GPM.Ku.V8-20180723.20190908-S160524-E161334.031409.V06A.HDF5\n",
      "2019-09-08 16:06:31\n"
     ]
    },
    {
     "name": "stderr",
     "output_type": "stream",
     "text": [
      "Traceback (most recent call last):\n",
      "  File \"<ipython-input-32-ca61466cbf69>\", line 13, in buffer\n",
      "    matchset = gpmmatch.volume_matching(gpmfile,\n",
      "  File \"/home/548/vhl548/.local/miniconda3/envs/radar/lib/python3.8/site-packages/gpmmatch/gpmmatch.py\", line 73, in volume_matching\n",
      "    gpmset, radar = data_load_and_checks(gpmfile,\n",
      "  File \"/home/548/vhl548/.local/miniconda3/envs/radar/lib/python3.8/site-packages/gpmmatch/io.py\", line 399, in data_load_and_checks\n",
      "    raise BrightBandError('No BB')\n",
      "gpmmatch.io.BrightBandError: No BB\n"
     ]
    },
    {
     "name": "stdout",
     "output_type": "stream",
     "text": [
      "[##############################          ] | 75% Completed |  2min 39.3s!!! ERROR !!!\n",
      "/g/data/rq0/admin/calibration/sr_data/gpm_data/2019/09/18/2A-CS-AUS-East.GPM.Ku.V8-20180723.20190918-S035440-E040355.031556.V06A.HDF5\n",
      "2019-09-18 04:03:02\n"
     ]
    },
    {
     "name": "stderr",
     "output_type": "stream",
     "text": [
      "Traceback (most recent call last):\n"
     ]
    },
    {
     "name": "stdout",
     "output_type": "stream",
     "text": [
      "\r",
      "[##############################          ] | 75% Completed |  2min 39.4s"
     ]
    },
    {
     "name": "stderr",
     "output_type": "stream",
     "text": [
      "  File \"<ipython-input-32-ca61466cbf69>\", line 13, in buffer\n",
      "    matchset = gpmmatch.volume_matching(gpmfile,\n",
      "  File \"/home/548/vhl548/.local/miniconda3/envs/radar/lib/python3.8/site-packages/gpmmatch/gpmmatch.py\", line 73, in volume_matching\n",
      "    gpmset, radar = data_load_and_checks(gpmfile,\n",
      "  File \"/home/548/vhl548/.local/miniconda3/envs/radar/lib/python3.8/site-packages/gpmmatch/io.py\", line 399, in data_load_and_checks\n",
      "    raise BrightBandError('No BB')\n",
      "gpmmatch.io.BrightBandError: No BB\n"
     ]
    },
    {
     "name": "stdout",
     "output_type": "stream",
     "text": [
      "[##############################          ] | 75% Completed |  2min 40.5s!!! ERROR !!!\n",
      "/g/data/rq0/admin/calibration/sr_data/gpm_data/2019/07/02/2A-CS-AUS-East.GPM.Ku.V8-20180723.20190702-S024959-E025907.030342.V06A.HDF5\n",
      "2019-07-02 02:58:23\n"
     ]
    },
    {
     "name": "stderr",
     "output_type": "stream",
     "text": [
      "Traceback (most recent call last):\n"
     ]
    },
    {
     "name": "stdout",
     "output_type": "stream",
     "text": [
      "\r",
      "[##############################          ] | 75% Completed |  2min 40.6s"
     ]
    },
    {
     "name": "stderr",
     "output_type": "stream",
     "text": [
      "  File \"<ipython-input-32-ca61466cbf69>\", line 13, in buffer\n",
      "    matchset = gpmmatch.volume_matching(gpmfile,\n",
      "  File \"/home/548/vhl548/.local/miniconda3/envs/radar/lib/python3.8/site-packages/gpmmatch/gpmmatch.py\", line 73, in volume_matching\n",
      "    gpmset, radar = data_load_and_checks(gpmfile,\n",
      "  File \"/home/548/vhl548/.local/miniconda3/envs/radar/lib/python3.8/site-packages/gpmmatch/io.py\", line 399, in data_load_and_checks\n",
      "    raise BrightBandError('No BB')\n",
      "gpmmatch.io.BrightBandError: No BB\n"
     ]
    },
    {
     "name": "stdout",
     "output_type": "stream",
     "text": [
      "[##############################          ] | 76% Completed |  2min 40.8s!!! ERROR !!!\n",
      "/g/data/rq0/admin/calibration/sr_data/gpm_data/2019/03/04/2A-CS-AUS-East.GPM.Ku.V8-20180723.20190304-S225430-E230154.028489.V06A.HDF5\n",
      "2019-03-04 22:55:29\n"
     ]
    },
    {
     "name": "stderr",
     "output_type": "stream",
     "text": [
      "Traceback (most recent call last):\n",
      "  File \"<ipython-input-32-ca61466cbf69>\", line 13, in buffer\n",
      "    matchset = gpmmatch.volume_matching(gpmfile,\n",
      "  File \"/home/548/vhl548/.local/miniconda3/envs/radar/lib/python3.8/site-packages/gpmmatch/gpmmatch.py\", line 73, in volume_matching\n",
      "    gpmset, radar = data_load_and_checks(gpmfile,\n"
     ]
    },
    {
     "name": "stdout",
     "output_type": "stream",
     "text": [
      "\r",
      "[##############################          ] | 76% Completed |  2min 40.9s"
     ]
    },
    {
     "name": "stderr",
     "output_type": "stream",
     "text": [
      "  File \"/home/548/vhl548/.local/miniconda3/envs/radar/lib/python3.8/site-packages/gpmmatch/io.py\", line 399, in data_load_and_checks\n",
      "    raise BrightBandError('No BB')\n",
      "gpmmatch.io.BrightBandError: No BB\n"
     ]
    },
    {
     "name": "stdout",
     "output_type": "stream",
     "text": [
      "[##############################          ] | 76% Completed |  2min 42.2s!!! ERROR !!!\n",
      "/g/data/rq0/admin/calibration/sr_data/gpm_data/2019/09/22/2A-CS-AUS-East.GPM.Ku.V8-20180723.20190922-S114749-E115335.031624.V06A.HDF5\n",
      "2019-09-22 11:48:31\n"
     ]
    },
    {
     "name": "stderr",
     "output_type": "stream",
     "text": [
      "Traceback (most recent call last):\n",
      "  File \"<ipython-input-32-ca61466cbf69>\", line 13, in buffer\n",
      "    matchset = gpmmatch.volume_matching(gpmfile,\n",
      "  File \"/home/548/vhl548/.local/miniconda3/envs/radar/lib/python3.8/site-packages/gpmmatch/gpmmatch.py\", line 73, in volume_matching\n",
      "    gpmset, radar = data_load_and_checks(gpmfile,\n",
      "  File \"/home/548/vhl548/.local/miniconda3/envs/radar/lib/python3.8/site-packages/gpmmatch/io.py\", line 399, in data_load_and_checks\n",
      "    raise BrightBandError('No BB')\n",
      "gpmmatch.io.BrightBandError: No BB\n"
     ]
    },
    {
     "name": "stdout",
     "output_type": "stream",
     "text": [
      "[###############################         ] | 77% Completed |  2min 45.3s!!! ERROR !!!\n",
      "/g/data/rq0/admin/calibration/sr_data/gpm_data/2019/10/05/2A-CS-AUS-East.GPM.Ku.V8-20180723.20191005-S081817-E082638.031824.V06A.HDF5\n",
      "[###############################         ] | 77% Completed |  2min 45.4s2019-10-05 08:19:25\n"
     ]
    },
    {
     "name": "stderr",
     "output_type": "stream",
     "text": [
      "Traceback (most recent call last):\n",
      "  File \"<ipython-input-32-ca61466cbf69>\", line 13, in buffer\n",
      "    matchset = gpmmatch.volume_matching(gpmfile,\n",
      "  File \"/home/548/vhl548/.local/miniconda3/envs/radar/lib/python3.8/site-packages/gpmmatch/gpmmatch.py\", line 73, in volume_matching\n",
      "    gpmset, radar = data_load_and_checks(gpmfile,\n",
      "  File \"/home/548/vhl548/.local/miniconda3/envs/radar/lib/python3.8/site-packages/gpmmatch/io.py\", line 399, in data_load_and_checks\n",
      "    raise BrightBandError('No BB')\n",
      "gpmmatch.io.BrightBandError: No BB\n"
     ]
    },
    {
     "name": "stdout",
     "output_type": "stream",
     "text": [
      "[###############################         ] | 77% Completed |  2min 45.5s!!! ERROR !!!\n",
      "[###############################         ] | 77% Completed |  2min 45.6s/g/data/rq0/admin/calibration/sr_data/gpm_data/2019/03/22/2A-CS-AUS-East.GPM.Ku.V8-20180723.20190322-S083034-E083949.028759.V06A.HDF5\n",
      "2019-03-22 08:38:57\n"
     ]
    },
    {
     "name": "stderr",
     "output_type": "stream",
     "text": [
      "Traceback (most recent call last):\n",
      "  File \"<ipython-input-32-ca61466cbf69>\", line 13, in buffer\n",
      "    matchset = gpmmatch.volume_matching(gpmfile,\n",
      "  File \"/home/548/vhl548/.local/miniconda3/envs/radar/lib/python3.8/site-packages/gpmmatch/gpmmatch.py\", line 73, in volume_matching\n",
      "    gpmset, radar = data_load_and_checks(gpmfile,\n",
      "  File \"/home/548/vhl548/.local/miniconda3/envs/radar/lib/python3.8/site-packages/gpmmatch/io.py\", line 399, in data_load_and_checks\n",
      "    raise BrightBandError('No BB')\n",
      "gpmmatch.io.BrightBandError: No BB\n"
     ]
    },
    {
     "name": "stdout",
     "output_type": "stream",
     "text": [
      "[###############################         ] | 78% Completed |  2min 48.3s!!! ERROR !!!\n",
      "/g/data/rq0/admin/calibration/sr_data/gpm_data/2019/10/08/2A-CS-AUS-East.GPM.Ku.V8-20180723.20191008-S071535-E072209.031870.V06A.HDF5\n",
      "2019-10-08 07:16:25\n"
     ]
    },
    {
     "name": "stderr",
     "output_type": "stream",
     "text": [
      "Traceback (most recent call last):\n",
      "  File \"<ipython-input-32-ca61466cbf69>\", line 13, in buffer\n",
      "    matchset = gpmmatch.volume_matching(gpmfile,\n",
      "  File \"/home/548/vhl548/.local/miniconda3/envs/radar/lib/python3.8/site-packages/gpmmatch/gpmmatch.py\", line 73, in volume_matching\n",
      "    gpmset, radar = data_load_and_checks(gpmfile,\n"
     ]
    },
    {
     "name": "stdout",
     "output_type": "stream",
     "text": [
      "\r",
      "[###############################         ] | 78% Completed |  2min 48.4s"
     ]
    },
    {
     "name": "stderr",
     "output_type": "stream",
     "text": [
      "  File \"/home/548/vhl548/.local/miniconda3/envs/radar/lib/python3.8/site-packages/gpmmatch/io.py\", line 399, in data_load_and_checks\n",
      "    raise BrightBandError('No BB')\n",
      "gpmmatch.io.BrightBandError: No BB\n"
     ]
    },
    {
     "name": "stdout",
     "output_type": "stream",
     "text": [
      "[###############################         ] | 79% Completed |  2min 51.6s!!! ERROR !!!\n",
      "/g/data/rq0/admin/calibration/sr_data/gpm_data/2019/11/02/2A-CS-AUS-East.GPM.Ku.V8-20180723.20191102-S144045-E144956.032263.V06A.HDF5\n",
      "2019-11-02 14:49:08\n"
     ]
    },
    {
     "name": "stderr",
     "output_type": "stream",
     "text": [
      "Traceback (most recent call last):\n",
      "  File \"<ipython-input-32-ca61466cbf69>\", line 13, in buffer\n",
      "    matchset = gpmmatch.volume_matching(gpmfile,\n",
      "  File \"/home/548/vhl548/.local/miniconda3/envs/radar/lib/python3.8/site-packages/gpmmatch/gpmmatch.py\", line 73, in volume_matching\n",
      "    gpmset, radar = data_load_and_checks(gpmfile,\n",
      "  File \"/home/548/vhl548/.local/miniconda3/envs/radar/lib/python3.8/site-packages/gpmmatch/io.py\", line 399, in data_load_and_checks\n",
      "    raise BrightBandError('No BB')\n",
      "gpmmatch.io.BrightBandError: No BB\n"
     ]
    },
    {
     "name": "stdout",
     "output_type": "stream",
     "text": [
      "[###############################         ] | 79% Completed |  2min 52.4s!!! ERROR !!!\n",
      "/g/data/rq0/admin/calibration/sr_data/gpm_data/2019/11/13/2A-CS-AUS-East.GPM.Ku.V8-20180723.20191113-S112355-E113311.032432.V06A.HDF5\n",
      "2019-11-13 11:32:14\n"
     ]
    },
    {
     "name": "stderr",
     "output_type": "stream",
     "text": [
      "Traceback (most recent call last):\n",
      "  File \"<ipython-input-32-ca61466cbf69>\", line 13, in buffer\n",
      "    matchset = gpmmatch.volume_matching(gpmfile,\n",
      "  File \"/home/548/vhl548/.local/miniconda3/envs/radar/lib/python3.8/site-packages/gpmmatch/gpmmatch.py\", line 73, in volume_matching\n",
      "    gpmset, radar = data_load_and_checks(gpmfile,\n",
      "  File \"/home/548/vhl548/.local/miniconda3/envs/radar/lib/python3.8/site-packages/gpmmatch/io.py\", line 399, in data_load_and_checks\n",
      "    raise BrightBandError('No BB')\n",
      "gpmmatch.io.BrightBandError: No BB\n"
     ]
    },
    {
     "name": "stdout",
     "output_type": "stream",
     "text": [
      "[###############################         ] | 79% Completed |  2min 55.3s!!! ERROR !!!\n",
      "/g/data/rq0/admin/calibration/sr_data/gpm_data/2019/11/21/2A-CS-AUS-East.GPM.Ku.V8-20180723.20191121-S090805-E091720.032555.V06A.HDF5\n",
      "2019-11-21 09:16:28\n"
     ]
    },
    {
     "name": "stderr",
     "output_type": "stream",
     "text": [
      "Traceback (most recent call last):\n",
      "  File \"<ipython-input-32-ca61466cbf69>\", line 13, in buffer\n",
      "    matchset = gpmmatch.volume_matching(gpmfile,\n",
      "  File \"/home/548/vhl548/.local/miniconda3/envs/radar/lib/python3.8/site-packages/gpmmatch/gpmmatch.py\", line 73, in volume_matching\n",
      "    gpmset, radar = data_load_and_checks(gpmfile,\n",
      "  File \"/home/548/vhl548/.local/miniconda3/envs/radar/lib/python3.8/site-packages/gpmmatch/io.py\", line 399, in data_load_and_checks\n",
      "    raise BrightBandError('No BB')\n",
      "gpmmatch.io.BrightBandError: No BB\n"
     ]
    },
    {
     "name": "stdout",
     "output_type": "stream",
     "text": [
      "[################################        ] | 81% Completed |  3min  1.6s!!! ERROR !!!\n",
      "/g/data/rq0/admin/calibration/sr_data/gpm_data/2019/12/03/2A-CS-AUS-East.GPM.Ku.V8-20180723.20191203-S144450-E145100.032746.V06A.HDF5\n",
      "2019-12-03 14:45:36\n"
     ]
    },
    {
     "name": "stderr",
     "output_type": "stream",
     "text": [
      "Traceback (most recent call last):\n"
     ]
    },
    {
     "name": "stdout",
     "output_type": "stream",
     "text": [
      "\r",
      "[################################        ] | 81% Completed |  3min  1.7s"
     ]
    },
    {
     "name": "stderr",
     "output_type": "stream",
     "text": [
      "  File \"<ipython-input-32-ca61466cbf69>\", line 13, in buffer\n",
      "    matchset = gpmmatch.volume_matching(gpmfile,\n",
      "  File \"/home/548/vhl548/.local/miniconda3/envs/radar/lib/python3.8/site-packages/gpmmatch/gpmmatch.py\", line 73, in volume_matching\n",
      "    gpmset, radar = data_load_and_checks(gpmfile,\n",
      "  File \"/home/548/vhl548/.local/miniconda3/envs/radar/lib/python3.8/site-packages/gpmmatch/io.py\", line 399, in data_load_and_checks\n",
      "    raise BrightBandError('No BB')\n",
      "gpmmatch.io.BrightBandError: No BB\n"
     ]
    },
    {
     "name": "stdout",
     "output_type": "stream",
     "text": [
      "[################################        ] | 82% Completed |  3min 11.3s!!! ERROR !!!\n",
      "/g/data/rq0/admin/calibration/sr_data/gpm_data/2019/03/30/2A-CS-AUS-East.GPM.Ku.V8-20180723.20190330-S061849-E062753.028882.V06A.HDF5\n",
      "2019-03-30 06:27:13\n"
     ]
    },
    {
     "name": "stderr",
     "output_type": "stream",
     "text": [
      "Traceback (most recent call last):\n",
      "  File \"<ipython-input-32-ca61466cbf69>\", line 13, in buffer\n",
      "    matchset = gpmmatch.volume_matching(gpmfile,\n",
      "  File \"/home/548/vhl548/.local/miniconda3/envs/radar/lib/python3.8/site-packages/gpmmatch/gpmmatch.py\", line 73, in volume_matching\n",
      "    gpmset, radar = data_load_and_checks(gpmfile,\n",
      "  File \"/home/548/vhl548/.local/miniconda3/envs/radar/lib/python3.8/site-packages/gpmmatch/io.py\", line 399, in data_load_and_checks\n",
      "    raise BrightBandError('No BB')\n",
      "gpmmatch.io.BrightBandError: No BB\n"
     ]
    },
    {
     "name": "stdout",
     "output_type": "stream",
     "text": [
      "[#################################       ] | 82% Completed |  3min 13.5s!!! ERROR !!!\n",
      "/g/data/rq0/admin/calibration/sr_data/gpm_data/2020/02/01/2A-CS-AUS-East.GPM.Ku.V8-20180723.20200201-S120918-E121823.033677.V06A.HDF5\n",
      "[#################################       ] | 82% Completed |  3min 13.6s2020-02-01 12:17:41\n"
     ]
    },
    {
     "name": "stderr",
     "output_type": "stream",
     "text": [
      "Traceback (most recent call last):\n",
      "  File \"<ipython-input-32-ca61466cbf69>\", line 13, in buffer\n",
      "    matchset = gpmmatch.volume_matching(gpmfile,\n",
      "  File \"/home/548/vhl548/.local/miniconda3/envs/radar/lib/python3.8/site-packages/gpmmatch/gpmmatch.py\", line 73, in volume_matching\n",
      "    gpmset, radar = data_load_and_checks(gpmfile,\n",
      "  File \"/home/548/vhl548/.local/miniconda3/envs/radar/lib/python3.8/site-packages/gpmmatch/io.py\", line 399, in data_load_and_checks\n",
      "    raise BrightBandError('No BB')\n",
      "gpmmatch.io.BrightBandError: No BB\n"
     ]
    },
    {
     "name": "stdout",
     "output_type": "stream",
     "text": [
      "[#################################       ] | 82% Completed |  3min 15.7s!!! ERROR !!!\n",
      "/g/data/rq0/admin/calibration/sr_data/gpm_data/2020/02/05/2A-CS-AUS-East.GPM.Ku.V8-20180723.20200205-S200212-E200903.033745.V06A.HDF5\n",
      "2020-02-05 20:03:05\n"
     ]
    },
    {
     "name": "stderr",
     "output_type": "stream",
     "text": [
      "Traceback (most recent call last):\n",
      "  File \"<ipython-input-32-ca61466cbf69>\", line 13, in buffer\n",
      "    matchset = gpmmatch.volume_matching(gpmfile,\n",
      "  File \"/home/548/vhl548/.local/miniconda3/envs/radar/lib/python3.8/site-packages/gpmmatch/gpmmatch.py\", line 73, in volume_matching\n",
      "    gpmset, radar = data_load_and_checks(gpmfile,\n",
      "  File \"/home/548/vhl548/.local/miniconda3/envs/radar/lib/python3.8/site-packages/gpmmatch/io.py\", line 399, in data_load_and_checks\n",
      "    raise BrightBandError('No BB')\n",
      "gpmmatch.io.BrightBandError: No BB\n"
     ]
    },
    {
     "name": "stdout",
     "output_type": "stream",
     "text": [
      "[#################################       ] | 83% Completed |  3min 15.8sNo ground 01 radar file for 2020-02-15 08:01:33.\n",
      "[#################################       ] | 84% Completed |  3min 18.5s!!! ERROR !!!\n",
      "/g/data/rq0/admin/calibration/sr_data/gpm_data/2020/02/23/2A-CS-AUS-East.GPM.Ku.V8-20180723.20200223-S054128-E055044.034015.V06A.HDF5\n",
      "2020-02-23 05:49:51\n"
     ]
    },
    {
     "name": "stderr",
     "output_type": "stream",
     "text": [
      "Traceback (most recent call last):\n",
      "  File \"<ipython-input-32-ca61466cbf69>\", line 13, in buffer\n",
      "    matchset = gpmmatch.volume_matching(gpmfile,\n",
      "  File \"/home/548/vhl548/.local/miniconda3/envs/radar/lib/python3.8/site-packages/gpmmatch/gpmmatch.py\", line 73, in volume_matching\n",
      "    gpmset, radar = data_load_and_checks(gpmfile,\n",
      "  File \"/home/548/vhl548/.local/miniconda3/envs/radar/lib/python3.8/site-packages/gpmmatch/io.py\", line 399, in data_load_and_checks\n",
      "    raise BrightBandError('No BB')\n"
     ]
    },
    {
     "name": "stdout",
     "output_type": "stream",
     "text": [
      "\r",
      "[#################################       ] | 84% Completed |  3min 18.6s"
     ]
    },
    {
     "name": "stderr",
     "output_type": "stream",
     "text": [
      "gpmmatch.io.BrightBandError: No BB\n"
     ]
    },
    {
     "name": "stdout",
     "output_type": "stream",
     "text": [
      "[##################################      ] | 85% Completed |  3min 21.6s!!! ERROR !!!\n",
      "/g/data/rq0/admin/calibration/sr_data/gpm_data/2020/03/05/2A-CS-AUS-East.GPM.Ku.V8-20180723.20200305-S022752-E023709.034184.V06A.HDF5\n",
      "[##################################      ] | 85% Completed |  3min 21.7s2020-03-05 02:36:10\n"
     ]
    },
    {
     "name": "stderr",
     "output_type": "stream",
     "text": [
      "Traceback (most recent call last):\n",
      "  File \"<ipython-input-32-ca61466cbf69>\", line 13, in buffer\n",
      "    matchset = gpmmatch.volume_matching(gpmfile,\n",
      "  File \"/home/548/vhl548/.local/miniconda3/envs/radar/lib/python3.8/site-packages/gpmmatch/gpmmatch.py\", line 73, in volume_matching\n",
      "    gpmset, radar = data_load_and_checks(gpmfile,\n",
      "  File \"/home/548/vhl548/.local/miniconda3/envs/radar/lib/python3.8/site-packages/gpmmatch/io.py\", line 399, in data_load_and_checks\n",
      "    raise BrightBandError('No BB')\n",
      "gpmmatch.io.BrightBandError: No BB\n"
     ]
    },
    {
     "name": "stdout",
     "output_type": "stream",
     "text": [
      "[##################################      ] | 85% Completed |  3min 23.6s!!! ERROR !!!\n",
      "[##################################      ] | 85% Completed |  3min 23.7s/g/data/rq0/admin/calibration/sr_data/gpm_data/2019/09/02/2A-CS-AUS-East.GPM.Ku.V8-20180723.20190902-S082040-E082956.031310.V06A.HDF5\n",
      "2019-09-02 08:28:44\n"
     ]
    },
    {
     "name": "stderr",
     "output_type": "stream",
     "text": [
      "Traceback (most recent call last):\n",
      "  File \"<ipython-input-32-ca61466cbf69>\", line 13, in buffer\n",
      "    matchset = gpmmatch.volume_matching(gpmfile,\n",
      "  File \"/home/548/vhl548/.local/miniconda3/envs/radar/lib/python3.8/site-packages/gpmmatch/gpmmatch.py\", line 73, in volume_matching\n",
      "    gpmset, radar = data_load_and_checks(gpmfile,\n",
      "  File \"/home/548/vhl548/.local/miniconda3/envs/radar/lib/python3.8/site-packages/gpmmatch/io.py\", line 399, in data_load_and_checks\n",
      "    raise BrightBandError('No BB')\n",
      "gpmmatch.io.BrightBandError: No BB\n"
     ]
    },
    {
     "name": "stdout",
     "output_type": "stream",
     "text": [
      "[##################################      ] | 86% Completed |  3min 24.1s!!! ERROR !!!\n",
      "/g/data/rq0/admin/calibration/sr_data/gpm_data/2020/02/01/2A-CS-Tasmania.GPM.Ku.V8-20180723.20200201-S121748-E121956.033677.V06A.HDF5\n",
      "2020-02-01 12:17:48\n"
     ]
    },
    {
     "name": "stderr",
     "output_type": "stream",
     "text": [
      "Traceback (most recent call last):\n",
      "  File \"<ipython-input-32-ca61466cbf69>\", line 13, in buffer\n",
      "    matchset = gpmmatch.volume_matching(gpmfile,\n",
      "  File \"/home/548/vhl548/.local/miniconda3/envs/radar/lib/python3.8/site-packages/gpmmatch/gpmmatch.py\", line 73, in volume_matching\n",
      "    gpmset, radar = data_load_and_checks(gpmfile,\n",
      "  File \"/home/548/vhl548/.local/miniconda3/envs/radar/lib/python3.8/site-packages/gpmmatch/io.py\", line 399, in data_load_and_checks\n",
      "    raise BrightBandError('No BB')\n",
      "gpmmatch.io.BrightBandError: No BB\n"
     ]
    },
    {
     "name": "stdout",
     "output_type": "stream",
     "text": [
      "[##################################      ] | 86% Completed |  3min 24.9s!!! ERROR !!!\n",
      "/g/data/rq0/admin/calibration/sr_data/gpm_data/2020/02/23/2A-CS-Tasmania.GPM.Ku.V8-20180723.20200223-S055000-E055206.034015.V06A.HDF5\n",
      "2020-02-23 05:50:00\n"
     ]
    },
    {
     "name": "stderr",
     "output_type": "stream",
     "text": [
      "Traceback (most recent call last):\n",
      "  File \"<ipython-input-32-ca61466cbf69>\", line 13, in buffer\n",
      "    matchset = gpmmatch.volume_matching(gpmfile,\n",
      "  File \"/home/548/vhl548/.local/miniconda3/envs/radar/lib/python3.8/site-packages/gpmmatch/gpmmatch.py\", line 73, in volume_matching\n",
      "    gpmset, radar = data_load_and_checks(gpmfile,\n",
      "  File \"/home/548/vhl548/.local/miniconda3/envs/radar/lib/python3.8/site-packages/gpmmatch/io.py\", line 399, in data_load_and_checks\n",
      "    raise BrightBandError('No BB')\n",
      "gpmmatch.io.BrightBandError: No BB\n"
     ]
    },
    {
     "name": "stdout",
     "output_type": "stream",
     "text": [
      "[##################################      ] | 87% Completed |  3min 25.2s!!! ERROR !!!\n",
      "/g/data/rq0/admin/calibration/sr_data/gpm_data/2020/02/24/2A-CS-Tasmania.GPM.Ku.V8-20180723.20200224-S143748-E143827.034037.V06A.HDF5\n",
      "2020-02-24 14:38:27\n"
     ]
    },
    {
     "name": "stderr",
     "output_type": "stream",
     "text": [
      "Traceback (most recent call last):\n",
      "  File \"<ipython-input-32-ca61466cbf69>\", line 13, in buffer\n",
      "    matchset = gpmmatch.volume_matching(gpmfile,\n",
      "  File \"/home/548/vhl548/.local/miniconda3/envs/radar/lib/python3.8/site-packages/gpmmatch/gpmmatch.py\", line 73, in volume_matching\n",
      "    gpmset, radar = data_load_and_checks(gpmfile,\n",
      "  File \"/home/548/vhl548/.local/miniconda3/envs/radar/lib/python3.8/site-packages/gpmmatch/io.py\", line 399, in data_load_and_checks\n",
      "    raise BrightBandError('No BB')\n",
      "gpmmatch.io.BrightBandError: No BB\n"
     ]
    },
    {
     "name": "stdout",
     "output_type": "stream",
     "text": [
      "[##################################      ] | 87% Completed |  3min 25.4s!!! ERROR !!!\n",
      "[##################################      ] | 87% Completed |  3min 25.5s/g/data/rq0/admin/calibration/sr_data/gpm_data/2020/03/08/2A-CS-AUS-East.GPM.Ku.V8-20180723.20200308-S012547-E013504.034230.V06A.HDF5\n",
      "2020-03-08 01:33:49\n"
     ]
    },
    {
     "name": "stderr",
     "output_type": "stream",
     "text": [
      "Traceback (most recent call last):\n",
      "  File \"<ipython-input-32-ca61466cbf69>\", line 13, in buffer\n",
      "    matchset = gpmmatch.volume_matching(gpmfile,\n",
      "  File \"/home/548/vhl548/.local/miniconda3/envs/radar/lib/python3.8/site-packages/gpmmatch/gpmmatch.py\", line 73, in volume_matching\n",
      "    gpmset, radar = data_load_and_checks(gpmfile,\n",
      "  File \"/home/548/vhl548/.local/miniconda3/envs/radar/lib/python3.8/site-packages/gpmmatch/io.py\", line 399, in data_load_and_checks\n",
      "    raise BrightBandError('No BB')\n",
      "gpmmatch.io.BrightBandError: No BB\n"
     ]
    },
    {
     "name": "stdout",
     "output_type": "stream",
     "text": [
      "[###################################     ] | 88% Completed |  3min 25.6s!!! ERROR !!!\n",
      "/g/data/rq0/admin/calibration/sr_data/gpm_data/2020/03/05/2A-CS-Tasmania.GPM.Ku.V8-20180723.20200305-S023623-E023825.034184.V06A.HDF5\n",
      "2020-03-05 02:36:23\n"
     ]
    },
    {
     "name": "stderr",
     "output_type": "stream",
     "text": [
      "Traceback (most recent call last):\n",
      "  File \"<ipython-input-32-ca61466cbf69>\", line 13, in buffer\n",
      "    matchset = gpmmatch.volume_matching(gpmfile,\n",
      "  File \"/home/548/vhl548/.local/miniconda3/envs/radar/lib/python3.8/site-packages/gpmmatch/gpmmatch.py\", line 73, in volume_matching\n",
      "    gpmset, radar = data_load_and_checks(gpmfile,\n",
      "  File \"/home/548/vhl548/.local/miniconda3/envs/radar/lib/python3.8/site-packages/gpmmatch/io.py\", line 399, in data_load_and_checks\n",
      "    raise BrightBandError('No BB')\n",
      "gpmmatch.io.BrightBandError: No BB\n"
     ]
    },
    {
     "name": "stdout",
     "output_type": "stream",
     "text": [
      "[####################################    ] | 91% Completed |  3min 48.2s!!! ERROR !!!\n",
      "/g/data/rq0/admin/calibration/sr_data/gpm_data/2018/11/20/2A-CS-Tasmania.GPM.Ku.V8-20180723.20181120-S053347-E053425.026860.V06A.HDF5\n",
      "2018-11-20 05:34:25\n"
     ]
    },
    {
     "name": "stderr",
     "output_type": "stream",
     "text": [
      "Traceback (most recent call last):\n",
      "  File \"<ipython-input-32-ca61466cbf69>\", line 13, in buffer\n",
      "    matchset = gpmmatch.volume_matching(gpmfile,\n",
      "  File \"/home/548/vhl548/.local/miniconda3/envs/radar/lib/python3.8/site-packages/gpmmatch/gpmmatch.py\", line 73, in volume_matching\n",
      "    gpmset, radar = data_load_and_checks(gpmfile,\n",
      "  File \"/home/548/vhl548/.local/miniconda3/envs/radar/lib/python3.8/site-packages/gpmmatch/io.py\", line 399, in data_load_and_checks\n",
      "    raise BrightBandError('No BB')\n",
      "gpmmatch.io.BrightBandError: No BB\n"
     ]
    },
    {
     "name": "stdout",
     "output_type": "stream",
     "text": [
      "[#####################################   ] | 92% Completed |  3min 56.6s!!! ERROR !!!\n",
      "[#####################################   ] | 92% Completed |  3min 56.7s/g/data/rq0/admin/calibration/sr_data/gpm_data/2020/03/03/2A-CS-AUS-East.GPM.Ku.V8-20180723.20200303-S122527-E123410.034160.V06A.HDF5\n",
      "2020-03-03 12:26:37\n"
     ]
    },
    {
     "name": "stderr",
     "output_type": "stream",
     "text": [
      "Traceback (most recent call last):\n",
      "  File \"<ipython-input-32-ca61466cbf69>\", line 13, in buffer\n",
      "    matchset = gpmmatch.volume_matching(gpmfile,\n"
     ]
    },
    {
     "name": "stdout",
     "output_type": "stream",
     "text": [
      "\r",
      "[#####################################   ] | 92% Completed |  3min 56.8s"
     ]
    },
    {
     "name": "stderr",
     "output_type": "stream",
     "text": [
      "  File \"/home/548/vhl548/.local/miniconda3/envs/radar/lib/python3.8/site-packages/gpmmatch/gpmmatch.py\", line 73, in volume_matching\n",
      "    gpmset, radar = data_load_and_checks(gpmfile,\n",
      "  File \"/home/548/vhl548/.local/miniconda3/envs/radar/lib/python3.8/site-packages/gpmmatch/io.py\", line 399, in data_load_and_checks\n",
      "    raise BrightBandError('No BB')\n",
      "gpmmatch.io.BrightBandError: No BB\n"
     ]
    },
    {
     "name": "stdout",
     "output_type": "stream",
     "text": [
      "[######################################  ] | 96% Completed |  4min 24.4s!!! ERROR !!!\n",
      "/g/data/rq0/admin/calibration/sr_data/gpm_data/2019/10/19/2A-CS-AUS-East.GPM.Ku.V8-20180723.20191019-S040151-E040757.032039.V06A.HDF5\n",
      "2019-10-19 04:02:36\n"
     ]
    },
    {
     "name": "stderr",
     "output_type": "stream",
     "text": [
      "Traceback (most recent call last):\n",
      "  File \"<ipython-input-32-ca61466cbf69>\", line 13, in buffer\n",
      "    matchset = gpmmatch.volume_matching(gpmfile,\n",
      "  File \"/home/548/vhl548/.local/miniconda3/envs/radar/lib/python3.8/site-packages/gpmmatch/gpmmatch.py\", line 73, in volume_matching\n",
      "    gpmset, radar = data_load_and_checks(gpmfile,\n",
      "  File \"/home/548/vhl548/.local/miniconda3/envs/radar/lib/python3.8/site-packages/gpmmatch/io.py\", line 399, in data_load_and_checks\n",
      "    raise BrightBandError('No BB')\n",
      "gpmmatch.io.BrightBandError: No BB\n"
     ]
    },
    {
     "name": "stdout",
     "output_type": "stream",
     "text": [
      "[########################################] | 100% Completed |  6min 52.5s\n"
     ]
    },
    {
     "data": {
      "application/vnd.jupyter.widget-view+json": {
       "model_id": "643b4bcefb604e929e0d61312419aed0",
       "version_major": 2,
       "version_minor": 0
      },
      "text/plain": [
       "HBox(children=(FloatProgress(value=0.0, max=76.0), HTML(value='')))"
      ]
     },
     "metadata": {},
     "output_type": "display_data"
    },
    {
     "name": "stdout",
     "output_type": "stream",
     "text": [
      "\n"
     ]
    }
   ],
   "source": [
    "for config in tqdm.tqdm_notebook(config_files, total=len(config_files)):\n",
    "    rid = os.path.basename(config)[-6:-4]\n",
    "    df = pd.read_csv(config, parse_dates=['date'], header=None, names=['date', 'name', 'lon', 'lat', 'nprof', 'source'])\n",
    "\n",
    "    argslist = []\n",
    "    for n in range(len(df)):\n",
    "        g = df.source[n]\n",
    "        d = df.date[n]\n",
    "        argslist.append((g, d, rid))\n",
    "\n",
    "    bag = db.from_sequence(argslist).starmap(buffer)\n",
    "    with ProgressBar():\n",
    "        rslt = bag.compute()\n",
    "\n",
    "    rslt = [r for r in rslt if r is not None]\n",
    "\n",
    "    for r in tqdm.tqdm_notebook(rslt, total=len(rslt)):\n",
    "        savedata(r, rid)\n",
    "        \n",
    "    break"
   ]
  },
  {
   "cell_type": "code",
   "execution_count": 14,
   "metadata": {
    "ExecuteTime": {
     "end_time": "2020-04-17T01:12:08.658131Z",
     "start_time": "2020-04-17T01:12:08.628865Z"
    }
   },
   "outputs": [],
   "source": [
    "rid = os.path.basename(config)[-6:-4]\n",
    "df = pd.read_csv(config, parse_dates=['date'], header=None, names=['date', 'name', 'lon', 'lat', 'nprof', 'source'])\n",
    "\n",
    "argslist = []\n",
    "for n in range(len(df)):\n",
    "    g = df.source[n]\n",
    "    d = df.date[n]\n",
    "    argslist.append((g, d, rid))"
   ]
  },
  {
   "cell_type": "code",
   "execution_count": 15,
   "metadata": {
    "ExecuteTime": {
     "end_time": "2020-04-17T01:12:11.499239Z",
     "start_time": "2020-04-17T01:12:11.494658Z"
    }
   },
   "outputs": [
    {
     "data": {
      "text/plain": [
       "'01'"
      ]
     },
     "execution_count": 15,
     "metadata": {},
     "output_type": "execute_result"
    }
   ],
   "source": [
    "rid"
   ]
  },
  {
   "cell_type": "code",
   "execution_count": 17,
   "metadata": {
    "ExecuteTime": {
     "end_time": "2020-04-17T01:12:27.213075Z",
     "start_time": "2020-04-17T01:12:26.551338Z"
    }
   },
   "outputs": [
    {
     "name": "stdout",
     "output_type": "stream",
     "text": [
      "[########################################] | 100% Completed |  0.5s\n"
     ]
    }
   ],
   "source": [
    "bag = db.from_sequence(argslist).starmap(buffer)\n",
    "with ProgressBar():\n",
    "    rslt = bag.compute()"
   ]
  },
  {
   "cell_type": "code",
   "execution_count": null,
   "metadata": {},
   "outputs": [],
   "source": []
  }
 ],
 "metadata": {
  "kernelspec": {
   "display_name": "Python 3",
   "language": "python",
   "name": "python3"
  },
  "language_info": {
   "codemirror_mode": {
    "name": "ipython",
    "version": 3
   },
   "file_extension": ".py",
   "mimetype": "text/x-python",
   "name": "python",
   "nbconvert_exporter": "python",
   "pygments_lexer": "ipython3",
   "version": "3.8.2"
  },
  "varInspector": {
   "cols": {
    "lenName": 16,
    "lenType": 16,
    "lenVar": 40
   },
   "kernels_config": {
    "python": {
     "delete_cmd_postfix": "",
     "delete_cmd_prefix": "del ",
     "library": "var_list.py",
     "varRefreshCmd": "print(var_dic_list())"
    },
    "r": {
     "delete_cmd_postfix": ") ",
     "delete_cmd_prefix": "rm(",
     "library": "var_list.r",
     "varRefreshCmd": "cat(var_dic_list()) "
    }
   },
   "types_to_exclude": [
    "module",
    "function",
    "builtin_function_or_method",
    "instance",
    "_Feature"
   ],
   "window_display": false
  }
 },
 "nbformat": 4,
 "nbformat_minor": 4
}
