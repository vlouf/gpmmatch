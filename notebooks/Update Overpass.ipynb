{
 "cells": [
  {
   "cell_type": "code",
   "execution_count": 1,
   "metadata": {
    "ExecuteTime": {
     "end_time": "2020-12-08T03:24:37.039176Z",
     "start_time": "2020-12-08T03:24:36.744209Z"
    }
   },
   "outputs": [],
   "source": [
    "import glob\n",
    "import os\n",
    "import pandas as pd"
   ]
  },
  {
   "cell_type": "code",
   "execution_count": 2,
   "metadata": {
    "ExecuteTime": {
     "end_time": "2020-12-08T03:24:37.284036Z",
     "start_time": "2020-12-08T03:24:37.272740Z"
    }
   },
   "outputs": [],
   "source": [
    "def read_data(infile):\n",
    "    df = pd.read_csv(infile, index_col=['date'], names=['date', 'name', 'grlon', 'grlat', 'nprof', 'source'])\n",
    "    return df.drop_duplicates().sort_index()"
   ]
  },
  {
   "cell_type": "code",
   "execution_count": 3,
   "metadata": {
    "ExecuteTime": {
     "end_time": "2020-12-08T03:24:40.060723Z",
     "start_time": "2020-12-08T03:24:40.053639Z"
    }
   },
   "outputs": [],
   "source": [
    "flist = glob.glob('/scratch/kl02/vhl548/s3car-server/gpmmatch/overpass/*.csv')"
   ]
  },
  {
   "cell_type": "code",
   "execution_count": 4,
   "metadata": {
    "ExecuteTime": {
     "end_time": "2020-12-08T03:24:47.551101Z",
     "start_time": "2020-12-08T03:24:44.842205Z"
    }
   },
   "outputs": [],
   "source": [
    "for f in flist:\n",
    "    ndf = read_data(f)\n",
    "    outfile = os.path.join('.', os.path.basename(f))\n",
    "    ndf.to_csv(outfile, float_format='%g')"
   ]
  },
  {
   "cell_type": "code",
   "execution_count": null,
   "metadata": {},
   "outputs": [],
   "source": []
  }
 ],
 "metadata": {
  "kernelspec": {
   "display_name": "Python 3",
   "language": "python",
   "name": "python3"
  },
  "language_info": {
   "codemirror_mode": {
    "name": "ipython",
    "version": 3
   },
   "file_extension": ".py",
   "mimetype": "text/x-python",
   "name": "python",
   "nbconvert_exporter": "python",
   "pygments_lexer": "ipython3",
   "version": "3.8.5"
  },
  "varInspector": {
   "cols": {
    "lenName": 16,
    "lenType": 16,
    "lenVar": 40
   },
   "kernels_config": {
    "python": {
     "delete_cmd_postfix": "",
     "delete_cmd_prefix": "del ",
     "library": "var_list.py",
     "varRefreshCmd": "print(var_dic_list())"
    },
    "r": {
     "delete_cmd_postfix": ") ",
     "delete_cmd_prefix": "rm(",
     "library": "var_list.r",
     "varRefreshCmd": "cat(var_dic_list()) "
    }
   },
   "types_to_exclude": [
    "module",
    "function",
    "builtin_function_or_method",
    "instance",
    "_Feature"
   ],
   "window_display": false
  }
 },
 "nbformat": 4,
 "nbformat_minor": 4
}
