{
 "cells": [
  {
   "cell_type": "code",
   "execution_count": 1,
   "metadata": {
    "ExecuteTime": {
     "end_time": "2020-04-07T03:45:01.050008Z",
     "start_time": "2020-04-07T03:44:58.740224Z"
    }
   },
   "outputs": [],
   "source": [
    "import re, os\n",
    "import glob\n",
    "import datetime\n",
    "\n",
    "import h5py\n",
    "import pyart\n",
    "import pyproj\n",
    "import netCDF4\n",
    "import numpy as np\n",
    "import xarray as xr\n",
    "import pandas as pd\n",
    "\n",
    "import dask\n",
    "import dask.bag as db\n",
    "from dask.diagnostics import ProgressBar"
   ]
  },
  {
   "cell_type": "code",
   "execution_count": 2,
   "metadata": {
    "ExecuteTime": {
     "end_time": "2020-04-07T03:45:01.076371Z",
     "start_time": "2020-04-07T03:45:01.052924Z"
    }
   },
   "outputs": [],
   "source": [
    "class NoPrecipitationError(Exception):\n",
    "    pass\n",
    "\n",
    "\n",
    "def get_gpm_orbit(gpmfile):\n",
    "    '''\n",
    "    Parameters:\n",
    "    ----------\n",
    "    gpmfile: str\n",
    "        GPM data file.\n",
    "\n",
    "    Returns:\n",
    "    --------\n",
    "    orbit: int\n",
    "        GPM Granule Number.\n",
    "    '''\n",
    "    try:\n",
    "        with h5py.File(gpmfile) as hid:\n",
    "            grannb = [s for s in hid.attrs['FileHeader'].split() if b'GranuleNumber' in s][0].decode('utf-8')\n",
    "            orbit = re.findall('[0-9]{3,}', grannb)[0]\n",
    "    except Exception:\n",
    "        return 0\n",
    "\n",
    "    return int(orbit)\n",
    "\n",
    "\n",
    "def read_GPM(infile, refl_min_thld=17):\n",
    "    '''\n",
    "    Read GPM data and organize them into a Dataset.\n",
    "\n",
    "    Parameters:\n",
    "    ----------\n",
    "    gpmfile: str\n",
    "        GPM data file.\n",
    "    refl_min_thld: float\n",
    "        Minimum threshold applied to GPM reflectivity.\n",
    "\n",
    "    Returns:\n",
    "    --------\n",
    "    dset: xr.Dataset\n",
    "        GPM dataset.\n",
    "    '''\n",
    "    data = dict()\n",
    "    date = dict()\n",
    "    with h5py.File(infile, 'r') as hid:\n",
    "        keys = hid['/NS'].keys()\n",
    "        for k in keys:\n",
    "            if k == 'Latitude' or k == 'Longitude':\n",
    "                dims = tuple(hid[f'/NS/{k}'].attrs['DimensionNames'].decode('UTF-8').split(','))\n",
    "                fv =  hid[f'/NS/{k}'].attrs['_FillValue']\n",
    "                data[k] = (dims, np.ma.masked_equal(hid[f'/NS/{k}'][:], fv))\n",
    "            else:\n",
    "                subkeys = hid[f'/NS/{k}'].keys()\n",
    "                for sk in subkeys:\n",
    "                    dims = tuple(hid[f'/NS/{k}/{sk}'].attrs['DimensionNames'].decode('UTF-8').split(','))\n",
    "                    fv =  hid[f'/NS/{k}/{sk}'].attrs['_FillValue']\n",
    "\n",
    "                    if sk in ['Year', 'Month', 'DayOfMonth', 'Hour', 'Minute', 'Second', 'MilliSecond']:\n",
    "                        date[sk] = np.ma.masked_equal(hid[f'/NS/{k}/{sk}'][:], fv)\n",
    "                    elif sk in ['DayOfYear', 'SecondOfDay']:\n",
    "                        continue\n",
    "                    elif sk == 'typePrecip':\n",
    "                        # Simplify precipitation type\n",
    "                        data[sk] = (dims, hid[f'/NS/{k}/{sk}'][:] / 10000000)\n",
    "                    elif sk == 'zFactorCorrected':\n",
    "                        # Reverse direction along the beam.\n",
    "                        data[sk] = (dims, np.ma.masked_less_equal(hid[f'/NS/{k}/{sk}'][:][:, :, ::-1], refl_min_thld))\n",
    "                    elif sk in ['heightBB', 'qualityBB', 'qualityTypePrecip', 'flagPrecip']:\n",
    "                        data[sk] = (dims, np.ma.masked_equal(hid[f'/NS/{k}/{sk}'][:], fv))\n",
    "                    else:\n",
    "                        continue\n",
    "\n",
    "    try:\n",
    "        data['zFactorCorrected']\n",
    "    except Exception:\n",
    "        raise KeyError(f\"GPM Reflectivity not found in {infile}\")\n",
    "\n",
    "    # Create Quality indicator.\n",
    "    quality = np.zeros(data['heightBB'][-1].shape, dtype=np.int32)\n",
    "    quality[((data['qualityBB'][-1] == 0) | (data['qualityBB'][-1] == 1)) & (data['qualityTypePrecip'][-1] == 1)] = 1\n",
    "    quality[(data['qualityBB'][-1] > 1) | (data['qualityTypePrecip'][-1] > 1)] = 2\n",
    "    data['quality'] = (data['heightBB'][0], quality)\n",
    "\n",
    "    # Generate dimensions.\n",
    "    nray = np.linspace(-17.04, 17.04, 49)\n",
    "    nbin = np.arange(0, 125 * 176, 125)\n",
    "\n",
    "    R, A = np.meshgrid(nbin, nray)\n",
    "    distance_from_sr = 407000 / np.cos(np.deg2rad(A)) - R  # called rt in IDL code.\n",
    "    data['distance_from_sr'] = (('nray', 'nbin'), distance_from_sr)\n",
    "    \n",
    "    try:\n",
    "        _ = date['MilliSecond']\n",
    "    except KeyError:\n",
    "        date['MilliSecond'] = date['Second']\n",
    "\n",
    "    dtime = np.array([datetime.datetime(*d) for d in zip(date['Year'],\n",
    "                                                         date['Month'],\n",
    "                                                         date['DayOfMonth'],\n",
    "                                                         date['Hour'],\n",
    "                                                         date['Minute'],\n",
    "                                                         date['Second'],\n",
    "                                                         date['MilliSecond'])], dtype='datetime64')\n",
    "\n",
    "    data['nscan'] = (('nscan'), dtime)\n",
    "    data['nray'] = (('nray'), nray)\n",
    "    data['nbin'] = (('nbin'), nbin)\n",
    "\n",
    "    dset = xr.Dataset(data)\n",
    "\n",
    "    dset.nray.attrs = {'units': 'degree', 'description':'Deviation from Nadir'}\n",
    "    dset.nbin.attrs = {'units': 'm', 'description':'Downward from 0: TOA to Earth ellipsoid.'}\n",
    "    dset.attrs['altitude'] = 407000\n",
    "    dset.attrs['altitude_units'] = 'm'\n",
    "    dset.attrs['altitude_description'] = \"GPM orbit\"\n",
    "    dset.attrs['beamwidth'] = 0.71\n",
    "    dset.attrs['beamwidth_units'] = 'degree'\n",
    "    dset.attrs['beamwidth_description'] = \"GPM beamwidth\"\n",
    "    dset.attrs['dr'] = 125\n",
    "    dset.attrs['dr_units'] = 'm'\n",
    "    dset.attrs['dr_description'] = \"GPM gate spacing\"\n",
    "    dset.attrs['orbit'] = get_gpm_orbit(infile)\n",
    "\n",
    "    return dset\n"
   ]
  },
  {
   "cell_type": "code",
   "execution_count": 3,
   "metadata": {
    "ExecuteTime": {
     "end_time": "2020-04-07T03:45:01.091341Z",
     "start_time": "2020-04-07T03:45:01.078846Z"
    }
   },
   "outputs": [],
   "source": [
    "def precip_in_domain(gpmset, grlon, grlat, rmax=150e3, rmin=20e3):\n",
    "    georef = pyproj.Proj(f\"+proj=aeqd +lon_0={grlon} +lat_0={grlat} +ellps=WGS84\")\n",
    "    gpmlat = gpmset.Latitude.values\n",
    "    gpmlon = gpmset.Longitude.values\n",
    "\n",
    "    xgpm, ygpm = georef(gpmlon, gpmlat)\n",
    "    rproj_gpm = (xgpm ** 2 + ygpm ** 2) ** 0.5\n",
    "\n",
    "    gr_domain = (rproj_gpm <= rmax) & (rproj_gpm >= rmin)\n",
    "    if gr_domain.sum() < 10:\n",
    "        info = f'The closest satellite measurement is {np.min(rproj_gpm / 1e3):0.4} km away from ground radar.'\n",
    "        if gr_domain.sum() == 0:\n",
    "            raise NoPrecipitationError('GPM swath does not go through the radar domain. ' + info)\n",
    "        else:\n",
    "            raise NoPrecipitationError('GPM swath is on the edge of the ground radar domain and there is not enough measurements inside it. ' + info)\n",
    "\n",
    "    nprof = np.sum(gpmset.flagPrecip.values[gr_domain])\n",
    "    if nprof < 10:\n",
    "        raise NoPrecipitationError('No precipitation measured by GPM inside radar domain.')\n",
    "        \n",
    "    newset = gpmset.merge({'range_from_gr': (('nscan', 'nray'), rproj_gpm)})\n",
    "    \n",
    "    gpmtime0 = newset.nscan.where(newset.range_from_gr == newset.range_from_gr.min()).values.astype('datetime64[s]')\n",
    "    gpmtime0 = gpmtime0[~np.isnat(gpmtime0)][0]\n",
    "    \n",
    "    del newset\n",
    "    return nprof, gpmtime0"
   ]
  },
  {
   "cell_type": "code",
   "execution_count": 4,
   "metadata": {
    "ExecuteTime": {
     "end_time": "2020-04-07T03:45:01.103967Z",
     "start_time": "2020-04-07T03:45:01.096057Z"
    }
   },
   "outputs": [],
   "source": [
    "def get_overpass_with_precip(gpmfile, radarset):\n",
    "    gpmset = read_GPM(gpmfile)\n",
    "    data = dict()\n",
    "    for n in range(len(radarset)):\n",
    "        rid = radarset.id[n]\n",
    "        rname = radarset.short_name[n]\n",
    "        grlat = radarset.site_lat[n]\n",
    "        grlon = radarset.site_lon[n]\n",
    "\n",
    "        try:\n",
    "            nprof, gpmtime = precip_in_domain(gpmset, grlat=grlat, grlon=grlon)\n",
    "        except NoPrecipitationError:\n",
    "            continue        \n",
    "        # print(f'{rid} - {rname} radar at ({grlon}, {grlat}) has {nprof} matches with GPM at {gpmtime}.')\n",
    "\n",
    "        data[rid] = (str(gpmtime),                     \n",
    "                     rname,\n",
    "                     str(grlon),\n",
    "                     str(grlat),\n",
    "                     str(nprof),\n",
    "                     gpmfile)\n",
    "    return data\n"
   ]
  },
  {
   "cell_type": "code",
   "execution_count": 5,
   "metadata": {
    "ExecuteTime": {
     "end_time": "2020-04-07T03:45:01.112247Z",
     "start_time": "2020-04-07T03:45:01.105909Z"
    }
   },
   "outputs": [],
   "source": [
    "# flist = np.array([])\n",
    "# for year in [2018, 2019, 2020]:\n",
    "#     flist = np.append(flist, sorted(glob.glob(f'/g/data/rq0/admin/calibration/sr_data/gpm_data/{year}/**/**/*.*')))"
   ]
  },
  {
   "cell_type": "code",
   "execution_count": 6,
   "metadata": {
    "ExecuteTime": {
     "end_time": "2020-04-07T03:45:01.143286Z",
     "start_time": "2020-04-07T03:45:01.113561Z"
    }
   },
   "outputs": [],
   "source": [
    "# flist = sorted(glob.glob('/g/data/rq0/admin/calibration/sr_data/gpm_data/2017/**/**/*.*'))\n",
    "flist = sorted(glob.glob('/g/data/rq0/admin/calibration/sr_data/trmm_data/2011/*.*'))"
   ]
  },
  {
   "cell_type": "code",
   "execution_count": null,
   "metadata": {
    "ExecuteTime": {
     "start_time": "2020-04-07T04:38:11.596Z"
    }
   },
   "outputs": [],
   "source": [
    "df = pd.read_csv('./radar_site_list.csv')\n",
    "ndf = df.drop_duplicates('id', keep='last').reset_index()\n",
    "argslist = [(f, ndf) for f in flist]"
   ]
  },
  {
   "cell_type": "code",
   "execution_count": 7,
   "metadata": {
    "ExecuteTime": {
     "end_time": "2020-04-07T04:21:33.654977Z",
     "start_time": "2020-04-07T03:45:01.145043Z"
    }
   },
   "outputs": [
    {
     "name": "stdout",
     "output_type": "stream",
     "text": [
      "[########################################] | 100% Completed | 36min 32.0s\n"
     ]
    }
   ],
   "source": [
    "bag = db.from_sequence(argslist).starmap(get_overpass_with_precip)\n",
    "with ProgressBar():\n",
    "    rslt = bag.compute()"
   ]
  },
  {
   "cell_type": "code",
   "execution_count": 8,
   "metadata": {
    "ExecuteTime": {
     "end_time": "2020-04-07T04:21:38.178495Z",
     "start_time": "2020-04-07T04:21:33.659392Z"
    }
   },
   "outputs": [],
   "source": [
    "for n in rslt:\n",
    "    if len(n) == 0:\n",
    "        continue\n",
    "    for rid in n.keys():\n",
    "        outpath = '/scratch/kl02/vhl548/trmm_output/overpass'\n",
    "        outfile = os.path.join(outpath, f'trmm.{rid:02}.csv')\n",
    "        with open(outfile, 'a+') as fid:\n",
    "            fid.write(','.join(n[rid]))\n",
    "            fid.write('\\n')"
   ]
  },
  {
   "cell_type": "code",
   "execution_count": 9,
   "metadata": {
    "ExecuteTime": {
     "end_time": "2020-04-07T04:37:46.262266Z",
     "start_time": "2020-04-07T04:37:46.252815Z"
    }
   },
   "outputs": [
    {
     "data": {
      "text/plain": [
       "4"
      ]
     },
     "execution_count": 9,
     "metadata": {},
     "output_type": "execute_result"
    }
   ],
   "source": [
    "2+2"
   ]
  },
  {
   "cell_type": "code",
   "execution_count": null,
   "metadata": {},
   "outputs": [],
   "source": []
  }
 ],
 "metadata": {
  "kernelspec": {
   "display_name": "Python 3",
   "language": "python",
   "name": "python3"
  },
  "language_info": {
   "codemirror_mode": {
    "name": "ipython",
    "version": 3
   },
   "file_extension": ".py",
   "mimetype": "text/x-python",
   "name": "python",
   "nbconvert_exporter": "python",
   "pygments_lexer": "ipython3",
   "version": "3.8.1"
  },
  "varInspector": {
   "cols": {
    "lenName": 16,
    "lenType": 16,
    "lenVar": 40
   },
   "kernels_config": {
    "python": {
     "delete_cmd_postfix": "",
     "delete_cmd_prefix": "del ",
     "library": "var_list.py",
     "varRefreshCmd": "print(var_dic_list())"
    },
    "r": {
     "delete_cmd_postfix": ") ",
     "delete_cmd_prefix": "rm(",
     "library": "var_list.r",
     "varRefreshCmd": "cat(var_dic_list()) "
    }
   },
   "types_to_exclude": [
    "module",
    "function",
    "builtin_function_or_method",
    "instance",
    "_Feature"
   ],
   "window_display": false
  }
 },
 "nbformat": 4,
 "nbformat_minor": 4
}
