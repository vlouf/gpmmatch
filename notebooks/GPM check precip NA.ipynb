{
 "cells": [
  {
   "cell_type": "code",
   "execution_count": 1,
   "metadata": {
    "ExecuteTime": {
     "end_time": "2020-12-08T03:11:58.595025Z",
     "start_time": "2020-12-08T03:11:52.737992Z"
    }
   },
   "outputs": [],
   "source": [
    "import os\n",
    "import re\n",
    "import glob\n",
    "import datetime\n",
    "import warnings\n",
    "\n",
    "import h5py\n",
    "import pyart\n",
    "import pyproj\n",
    "import netCDF4\n",
    "import gpmmatch\n",
    "import numpy as np\n",
    "import xarray as xr\n",
    "import pandas as pd\n",
    "\n",
    "import dask\n",
    "import dask.bag as db\n",
    "from dask.diagnostics import ProgressBar"
   ]
  },
  {
   "cell_type": "code",
   "execution_count": 2,
   "metadata": {
    "ExecuteTime": {
     "end_time": "2020-12-08T03:11:58.602435Z",
     "start_time": "2020-12-08T03:11:58.598189Z"
    }
   },
   "outputs": [
    {
     "name": "stderr",
     "output_type": "stream",
     "text": [
      "/home/548/vhl548/.local/miniconda3/envs/radar/lib/python3.8/site-packages/ipykernel/ipkernel.py:287: DeprecationWarning: `should_run_async` will not call `transform_cell` automatically in the future. Please pass the result to `transformed_cell` argument and any exception that happen during thetransform in `preprocessing_exc_tuple` in IPython 7.17 and above.\n",
      "  and should_run_async(code)\n"
     ]
    }
   ],
   "source": [
    "warnings.simplefilter(\"ignore\")"
   ]
  },
  {
   "cell_type": "code",
   "execution_count": 3,
   "metadata": {
    "ExecuteTime": {
     "end_time": "2020-12-08T03:11:58.613070Z",
     "start_time": "2020-12-08T03:11:58.605507Z"
    }
   },
   "outputs": [],
   "source": [
    "class NoPrecipitationError(Exception):\n",
    "    pass"
   ]
  },
  {
   "cell_type": "code",
   "execution_count": 4,
   "metadata": {
    "ExecuteTime": {
     "end_time": "2020-12-08T03:11:58.626917Z",
     "start_time": "2020-12-08T03:11:58.616058Z"
    }
   },
   "outputs": [],
   "source": [
    "def precip_in_domain(gpmset, grlon, grlat, rmax=150e3, rmin=20e3):\n",
    "    georef = pyproj.Proj(f\"+proj=aeqd +lon_0={grlon} +lat_0={grlat} +ellps=WGS84\")\n",
    "    gpmlat = gpmset.Latitude.values\n",
    "    gpmlon = gpmset.Longitude.values\n",
    "\n",
    "    xgpm, ygpm = georef(gpmlon, gpmlat)\n",
    "    rproj_gpm = (xgpm ** 2 + ygpm ** 2) ** 0.5\n",
    "\n",
    "    gr_domain = (rproj_gpm <= rmax) & (rproj_gpm >= rmin)\n",
    "    if gr_domain.sum() < 10:\n",
    "        info = f'The closest satellite measurement is {np.min(rproj_gpm / 1e3):0.4} km away from ground radar.'\n",
    "        if gr_domain.sum() == 0:\n",
    "            raise NoPrecipitationError('GPM swath does not go through the radar domain. ' + info)\n",
    "        else:\n",
    "            raise NoPrecipitationError('GPM swath is on the edge of the ground radar domain and there is not enough measurements inside it. ' + info)\n",
    "\n",
    "    nprof = np.sum(gpmset.flagPrecip.values[gr_domain])\n",
    "    if nprof < 10:\n",
    "        raise NoPrecipitationError('No precipitation measured by GPM inside radar domain.')\n",
    "        \n",
    "    newset = gpmset.merge({'range_from_gr': (('nscan', 'nray'), rproj_gpm)})\n",
    "    \n",
    "    gpmtime0 = newset.nscan.where(newset.range_from_gr == newset.range_from_gr.min()).values.astype('datetime64[s]')\n",
    "    gpmtime0 = gpmtime0[~np.isnat(gpmtime0)][0]\n",
    "    \n",
    "    del newset\n",
    "    return nprof, gpmtime0"
   ]
  },
  {
   "cell_type": "code",
   "execution_count": 5,
   "metadata": {
    "ExecuteTime": {
     "end_time": "2020-12-08T03:11:58.638564Z",
     "start_time": "2020-12-08T03:11:58.628884Z"
    }
   },
   "outputs": [],
   "source": [
    "def get_overpass_with_precip(gpmfile, radarset):\n",
    "    gpmset = gpmmatch.io.read_GPM(gpmfile)\n",
    "    data = dict()\n",
    "    for n in range(len(radarset)):\n",
    "        rid = radarset.id[n]\n",
    "        rname = radarset.short_name[n]\n",
    "        grlat = radarset.site_lat[n]\n",
    "        grlon = radarset.site_lon[n]\n",
    "\n",
    "        try:\n",
    "            nprof, gpmtime = precip_in_domain(gpmset, grlat=grlat, grlon=grlon)\n",
    "        except NoPrecipitationError:\n",
    "            continue        \n",
    "\n",
    "        data[rid] = (str(gpmtime),                     \n",
    "                     rname,\n",
    "                     str(grlon),\n",
    "                     str(grlat),\n",
    "                     str(nprof),\n",
    "                     gpmfile)\n",
    "    return data\n"
   ]
  },
  {
   "cell_type": "code",
   "execution_count": 6,
   "metadata": {
    "ExecuteTime": {
     "end_time": "2020-12-08T03:12:00.767698Z",
     "start_time": "2020-12-08T03:11:58.640441Z"
    }
   },
   "outputs": [],
   "source": [
    "# flist = sorted(glob.glob('/g/data/rq0/admin/calibration/sr_data/gpm_data/2020/08/**/*.*'))\n",
    "flist = sorted(glob.glob('/scratch/kl02/vhl548/gpmdata/**/**/**/**/*.*'))"
   ]
  },
  {
   "cell_type": "code",
   "execution_count": 7,
   "metadata": {
    "ExecuteTime": {
     "end_time": "2020-12-08T03:12:00.787812Z",
     "start_time": "2020-12-08T03:12:00.770290Z"
    },
    "scrolled": true
   },
   "outputs": [],
   "source": [
    "df = pd.read_csv('/home/548/vhl548/radar_site_list.csv')\n",
    "ndf = df.drop_duplicates('id', keep='last').reset_index()\n",
    "argslist = [(f, ndf) for f in flist]"
   ]
  },
  {
   "cell_type": "code",
   "execution_count": 8,
   "metadata": {
    "ExecuteTime": {
     "end_time": "2020-12-08T03:18:22.992838Z",
     "start_time": "2020-12-08T03:12:00.790632Z"
    }
   },
   "outputs": [
    {
     "name": "stdout",
     "output_type": "stream",
     "text": [
      "[########################################] | 100% Completed |  6min 21.6s\n"
     ]
    }
   ],
   "source": [
    "bag = db.from_sequence(argslist).starmap(get_overpass_with_precip)\n",
    "with ProgressBar():\n",
    "    rslt = bag.compute()"
   ]
  },
  {
   "cell_type": "code",
   "execution_count": 17,
   "metadata": {
    "ExecuteTime": {
     "end_time": "2020-12-08T03:24:01.422079Z",
     "start_time": "2020-12-08T03:23:58.369109Z"
    }
   },
   "outputs": [],
   "source": [
    "for n in rslt:\n",
    "    if len(n) == 0:\n",
    "        continue\n",
    "    for rid in n.keys():\n",
    "        outpath = '/scratch/kl02/vhl548/s3car-server/gpmmatch/overpass/'\n",
    "        outfile = os.path.join(outpath, f'gpm.{rid:02}.csv')\n",
    "        with open(outfile, 'a+') as fid:\n",
    "            fid.write(','.join(n[rid]))\n",
    "            fid.write('\\n')"
   ]
  },
  {
   "cell_type": "code",
   "execution_count": 12,
   "metadata": {
    "ExecuteTime": {
     "end_time": "2020-12-08T03:22:44.827861Z",
     "start_time": "2020-12-08T03:22:44.823170Z"
    }
   },
   "outputs": [],
   "source": [
    "nrslt = [r for r in rslt if len(r) != 0]"
   ]
  },
  {
   "cell_type": "code",
   "execution_count": null,
   "metadata": {},
   "outputs": [],
   "source": []
  }
 ],
 "metadata": {
  "kernelspec": {
   "display_name": "Python 3",
   "language": "python",
   "name": "python3"
  },
  "language_info": {
   "codemirror_mode": {
    "name": "ipython",
    "version": 3
   },
   "file_extension": ".py",
   "mimetype": "text/x-python",
   "name": "python",
   "nbconvert_exporter": "python",
   "pygments_lexer": "ipython3",
   "version": "3.8.5"
  },
  "varInspector": {
   "cols": {
    "lenName": 16,
    "lenType": 16,
    "lenVar": 40
   },
   "kernels_config": {
    "python": {
     "delete_cmd_postfix": "",
     "delete_cmd_prefix": "del ",
     "library": "var_list.py",
     "varRefreshCmd": "print(var_dic_list())"
    },
    "r": {
     "delete_cmd_postfix": ") ",
     "delete_cmd_prefix": "rm(",
     "library": "var_list.r",
     "varRefreshCmd": "cat(var_dic_list()) "
    }
   },
   "types_to_exclude": [
    "module",
    "function",
    "builtin_function_or_method",
    "instance",
    "_Feature"
   ],
   "window_display": false
  }
 },
 "nbformat": 4,
 "nbformat_minor": 4
}
