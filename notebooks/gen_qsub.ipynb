{
 "cells": [
  {
   "cell_type": "code",
   "execution_count": 3,
   "metadata": {
    "ExecuteTime": {
     "end_time": "2020-07-06T02:48:25.800589Z",
     "start_time": "2020-07-06T02:48:20.605572Z"
    }
   },
   "outputs": [],
   "source": [
    "import glob\n",
    "import pandas as pd"
   ]
  },
  {
   "cell_type": "code",
   "execution_count": 4,
   "metadata": {
    "ExecuteTime": {
     "end_time": "2020-07-06T02:48:25.812642Z",
     "start_time": "2020-07-06T02:48:25.808408Z"
    }
   },
   "outputs": [],
   "source": [
    "flist = sorted(glob.glob('/scratch/kl02/vhl548/gpm_output/overpass/*.csv'))"
   ]
  },
  {
   "cell_type": "code",
   "execution_count": 5,
   "metadata": {
    "ExecuteTime": {
     "end_time": "2020-07-06T02:48:40.944077Z",
     "start_time": "2020-07-06T02:48:40.924069Z"
    }
   },
   "outputs": [],
   "source": [
    "offset = pd.read_csv('./gr_offset_2020.csv')"
   ]
  },
  {
   "cell_type": "code",
   "execution_count": 16,
   "metadata": {
    "ExecuteTime": {
     "end_time": "2020-07-06T02:51:33.555054Z",
     "start_time": "2020-07-06T02:51:33.549491Z"
    }
   },
   "outputs": [],
   "source": [
    "rid = [f[-6:-4] for f in flist]"
   ]
  },
  {
   "cell_type": "code",
   "execution_count": 19,
   "metadata": {
    "ExecuteTime": {
     "end_time": "2020-07-06T02:52:14.212399Z",
     "start_time": "2020-07-06T02:52:14.206086Z"
    }
   },
   "outputs": [],
   "source": [
    "def get_offset(nid):\n",
    "    if type(nid) is str:\n",
    "        nid = int(nid)\n",
    "    try:\n",
    "        off = offset.offset[offset.rid == nid].values[0]\n",
    "    except IndexError:\n",
    "        off = 0\n",
    "    return off"
   ]
  },
  {
   "cell_type": "code",
   "execution_count": 20,
   "metadata": {
    "ExecuteTime": {
     "end_time": "2020-07-06T02:52:15.804767Z",
     "start_time": "2020-07-06T02:52:15.799615Z"
    }
   },
   "outputs": [],
   "source": [
    "def get_qubs(nid, refl_thld, offset):\n",
    "    txt = f'''#!/bin/bash\n",
    "#PBS -P kl02\n",
    "#PBS -q normal\n",
    "#PBS -l walltime=3:30:00\n",
    "#PBS -l mem=64GB\n",
    "#PBS -l wd\n",
    "#PBS -l jobfs=1GB\n",
    "#PBS -l ncpus=16\n",
    "#PBS -lstorage=scratch/kl02+gdata/rq0\n",
    "\n",
    "source activate radar\n",
    "python national_archive.py -r {nid} -g {refl_thld} -f {offset} -o /scratch/kl02/vhl548/gpm_output/vmatch/\n",
    "'''\n",
    "    return txt"
   ]
  },
  {
   "cell_type": "code",
   "execution_count": 22,
   "metadata": {
    "ExecuteTime": {
     "end_time": "2020-07-06T02:52:42.039664Z",
     "start_time": "2020-07-06T02:52:41.926475Z"
    }
   },
   "outputs": [],
   "source": [
    "for r in rid:\n",
    "    off = get_offset(r)\n",
    "    txt = get_qubs(r, 10, off)\n",
    "    outfile = f'../scripts/qvmatch_{r}.pbs'\n",
    "    with open(outfile, 'w+') as fid:\n",
    "        fid.write(txt)"
   ]
  },
  {
   "cell_type": "code",
   "execution_count": null,
   "metadata": {},
   "outputs": [],
   "source": []
  }
 ],
 "metadata": {
  "kernelspec": {
   "display_name": "Python 3",
   "language": "python",
   "name": "python3"
  },
  "language_info": {
   "codemirror_mode": {
    "name": "ipython",
    "version": 3
   },
   "file_extension": ".py",
   "mimetype": "text/x-python",
   "name": "python",
   "nbconvert_exporter": "python",
   "pygments_lexer": "ipython3",
   "version": "3.8.3"
  },
  "varInspector": {
   "cols": {
    "lenName": 16,
    "lenType": 16,
    "lenVar": 40
   },
   "kernels_config": {
    "python": {
     "delete_cmd_postfix": "",
     "delete_cmd_prefix": "del ",
     "library": "var_list.py",
     "varRefreshCmd": "print(var_dic_list())"
    },
    "r": {
     "delete_cmd_postfix": ") ",
     "delete_cmd_prefix": "rm(",
     "library": "var_list.r",
     "varRefreshCmd": "cat(var_dic_list()) "
    }
   },
   "types_to_exclude": [
    "module",
    "function",
    "builtin_function_or_method",
    "instance",
    "_Feature"
   ],
   "window_display": false
  }
 },
 "nbformat": 4,
 "nbformat_minor": 4
}
