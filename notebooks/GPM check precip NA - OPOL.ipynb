{
 "cells": [
  {
   "cell_type": "code",
   "execution_count": null,
   "metadata": {
    "ExecuteTime": {
     "end_time": "2020-06-15T07:30:00.794902Z",
     "start_time": "2020-06-15T07:29:58.791223Z"
    }
   },
   "outputs": [],
   "source": [
    "import re, os\n",
    "import glob\n",
    "import datetime\n",
    "import warnings\n",
    "warnings.simplefilter('ignore')\n",
    "\n",
    "import h5py\n",
    "import tqdm\n",
    "import pyart\n",
    "import pyproj\n",
    "import netCDF4\n",
    "import numpy as np\n",
    "import xarray as xr\n",
    "import pandas as pd\n",
    "\n",
    "import dask\n",
    "import dask.bag as db\n",
    "from dask.diagnostics import ProgressBar"
   ]
  },
  {
   "cell_type": "code",
   "execution_count": null,
   "metadata": {
    "ExecuteTime": {
     "end_time": "2020-06-15T07:30:00.822460Z",
     "start_time": "2020-06-15T07:30:00.801704Z"
    }
   },
   "outputs": [],
   "source": [
    "class NoPrecipitationError(Exception):\n",
    "    pass\n",
    "\n",
    "\n",
    "def get_gpm_orbit(gpmfile):\n",
    "    '''\n",
    "    Parameters:\n",
    "    ----------\n",
    "    gpmfile: str\n",
    "        GPM data file.\n",
    "\n",
    "    Returns:\n",
    "    --------\n",
    "    orbit: int\n",
    "        GPM Granule Number.\n",
    "    '''\n",
    "    try:\n",
    "        with h5py.File(gpmfile) as hid:\n",
    "            grannb = [s for s in hid.attrs['FileHeader'].split() if b'GranuleNumber' in s][0].decode('utf-8')\n",
    "            orbit = re.findall('[0-9]{3,}', grannb)[0]\n",
    "    except Exception:\n",
    "        return 0\n",
    "\n",
    "    return int(orbit)\n",
    "\n",
    "\n",
    "def read_GPM(infile, refl_min_thld=17):\n",
    "    '''\n",
    "    Read GPM data and organize them into a Dataset.\n",
    "\n",
    "    Parameters:\n",
    "    ----------\n",
    "    gpmfile: str\n",
    "        GPM data file.\n",
    "    refl_min_thld: float\n",
    "        Minimum threshold applied to GPM reflectivity.\n",
    "\n",
    "    Returns:\n",
    "    --------\n",
    "    dset: xr.Dataset\n",
    "        GPM dataset.\n",
    "    '''\n",
    "    data = dict()\n",
    "    date = dict()\n",
    "    with h5py.File(infile, 'r') as hid:\n",
    "        keys = hid['/NS'].keys()\n",
    "        for k in keys:\n",
    "            if k == 'Latitude' or k == 'Longitude':\n",
    "                dims = tuple(hid[f'/NS/{k}'].attrs['DimensionNames'].decode('UTF-8').split(','))\n",
    "                fv =  hid[f'/NS/{k}'].attrs['_FillValue']\n",
    "                data[k] = (dims, np.ma.masked_equal(hid[f'/NS/{k}'][:], fv))\n",
    "            else:\n",
    "                subkeys = hid[f'/NS/{k}'].keys()\n",
    "                for sk in subkeys:\n",
    "                    dims = tuple(hid[f'/NS/{k}/{sk}'].attrs['DimensionNames'].decode('UTF-8').split(','))\n",
    "                    fv =  hid[f'/NS/{k}/{sk}'].attrs['_FillValue']\n",
    "\n",
    "                    if sk in ['Year', 'Month', 'DayOfMonth', 'Hour', 'Minute', 'Second', 'MilliSecond']:\n",
    "                        date[sk] = np.ma.masked_equal(hid[f'/NS/{k}/{sk}'][:], fv)\n",
    "                    elif sk in ['DayOfYear', 'SecondOfDay']:\n",
    "                        continue\n",
    "                    elif sk == 'typePrecip':\n",
    "                        # Simplify precipitation type\n",
    "                        data[sk] = (dims, hid[f'/NS/{k}/{sk}'][:] / 10000000)\n",
    "                    elif sk == 'zFactorCorrected':\n",
    "                        # Reverse direction along the beam.\n",
    "                        data[sk] = (dims, np.ma.masked_less_equal(hid[f'/NS/{k}/{sk}'][:][:, :, ::-1], refl_min_thld))\n",
    "                    elif sk in ['heightBB', 'qualityBB', 'qualityTypePrecip', 'flagPrecip']:\n",
    "                        data[sk] = (dims, np.ma.masked_equal(hid[f'/NS/{k}/{sk}'][:], fv))\n",
    "                    else:\n",
    "                        continue\n",
    "\n",
    "    try:\n",
    "        data['zFactorCorrected']\n",
    "    except Exception:\n",
    "        raise KeyError(f\"GPM Reflectivity not found in {infile}\")\n",
    "\n",
    "    # Create Quality indicator.\n",
    "    quality = np.zeros(data['heightBB'][-1].shape, dtype=np.int32)\n",
    "    quality[((data['qualityBB'][-1] == 0) | (data['qualityBB'][-1] == 1)) & (data['qualityTypePrecip'][-1] == 1)] = 1\n",
    "    quality[(data['qualityBB'][-1] > 1) | (data['qualityTypePrecip'][-1] > 1)] = 2\n",
    "    data['quality'] = (data['heightBB'][0], quality)\n",
    "\n",
    "    # Generate dimensions.\n",
    "    nray = np.linspace(-17.04, 17.04, 49)\n",
    "    nbin = np.arange(0, 125 * 176, 125)\n",
    "\n",
    "    R, A = np.meshgrid(nbin, nray)\n",
    "    distance_from_sr = 407000 / np.cos(np.deg2rad(A)) - R  # called rt in IDL code.\n",
    "    data['distance_from_sr'] = (('nray', 'nbin'), distance_from_sr)\n",
    "    \n",
    "    try:\n",
    "        _ = date['MilliSecond']\n",
    "    except KeyError:\n",
    "        date['MilliSecond'] = date['Second']\n",
    "\n",
    "    dtime = np.array([datetime.datetime(*d) for d in zip(date['Year'],\n",
    "                                                         date['Month'],\n",
    "                                                         date['DayOfMonth'],\n",
    "                                                         date['Hour'],\n",
    "                                                         date['Minute'],\n",
    "                                                         date['Second'],\n",
    "                                                         date['MilliSecond'])], dtype='datetime64')\n",
    "\n",
    "    data['nscan'] = (('nscan'), dtime)\n",
    "    data['nray'] = (('nray'), nray)\n",
    "    data['nbin'] = (('nbin'), nbin)\n",
    "\n",
    "    dset = xr.Dataset(data)\n",
    "\n",
    "    dset.nray.attrs = {'units': 'degree', 'description':'Deviation from Nadir'}\n",
    "    dset.nbin.attrs = {'units': 'm', 'description':'Downward from 0: TOA to Earth ellipsoid.'}\n",
    "    dset.attrs['altitude'] = 407000\n",
    "    dset.attrs['altitude_units'] = 'm'\n",
    "    dset.attrs['altitude_description'] = \"GPM orbit\"\n",
    "    dset.attrs['beamwidth'] = 0.71\n",
    "    dset.attrs['beamwidth_units'] = 'degree'\n",
    "    dset.attrs['beamwidth_description'] = \"GPM beamwidth\"\n",
    "    dset.attrs['dr'] = 125\n",
    "    dset.attrs['dr_units'] = 'm'\n",
    "    dset.attrs['dr_description'] = \"GPM gate spacing\"\n",
    "    dset.attrs['orbit'] = get_gpm_orbit(infile)\n",
    "\n",
    "    return dset\n"
   ]
  },
  {
   "cell_type": "code",
   "execution_count": null,
   "metadata": {
    "ExecuteTime": {
     "end_time": "2020-06-15T07:30:01.512759Z",
     "start_time": "2020-06-15T07:30:01.500035Z"
    }
   },
   "outputs": [],
   "source": [
    "def precip_in_domain(gpmset, grlon, grlat, rmax=150e3, rmin=20e3):\n",
    "    georef = pyproj.Proj(f\"+proj=aeqd +lon_0={grlon} +lat_0={grlat} +ellps=WGS84\")\n",
    "    gpmlat = gpmset.Latitude.values\n",
    "    gpmlon = gpmset.Longitude.values\n",
    "\n",
    "    xgpm, ygpm = georef(gpmlon, gpmlat)\n",
    "    rproj_gpm = (xgpm ** 2 + ygpm ** 2) ** 0.5\n",
    "\n",
    "    gr_domain = (rproj_gpm <= rmax) & (rproj_gpm >= rmin)\n",
    "    if gr_domain.sum() < 10:\n",
    "        info = f'The closest satellite measurement is {np.min(rproj_gpm / 1e3):0.4} km away from ground radar.'\n",
    "        if gr_domain.sum() == 0:\n",
    "            raise NoPrecipitationError('GPM swath does not go through the radar domain. ' + info)\n",
    "        else:\n",
    "            raise NoPrecipitationError('GPM swath is on the edge of the ground radar domain and there is not enough measurements inside it. ' + info)\n",
    "\n",
    "    nprof = np.sum(gpmset.flagPrecip.values[gr_domain])\n",
    "    if nprof < 10:\n",
    "        raise NoPrecipitationError('No precipitation measured by GPM inside radar domain.')\n",
    "        \n",
    "    newset = gpmset.merge({'range_from_gr': (('nscan', 'nray'), rproj_gpm)})\n",
    "    \n",
    "    gpmtime0 = newset.nscan.where(newset.range_from_gr == newset.range_from_gr.min()).values.astype('datetime64[s]')\n",
    "    gpmtime0 = gpmtime0[~np.isnat(gpmtime0)][0]\n",
    "    \n",
    "    del newset\n",
    "    return nprof, gpmtime0"
   ]
  },
  {
   "cell_type": "code",
   "execution_count": null,
   "metadata": {
    "ExecuteTime": {
     "end_time": "2020-06-15T07:30:02.143613Z",
     "start_time": "2020-06-15T07:30:02.135079Z"
    }
   },
   "outputs": [],
   "source": [
    "def get_overpass_with_precip(gpmfile, radarset):\n",
    "    gpmset = read_GPM(gpmfile)\n",
    "    data = dict()\n",
    "    for n in range(len(radarset)):\n",
    "        rid = radarset.id[n]\n",
    "        rname = radarset.short_name[n]\n",
    "        grlat = radarset.site_lat[n]\n",
    "        grlon = radarset.site_lon[n]\n",
    "\n",
    "        try:\n",
    "            nprof, gpmtime = precip_in_domain(gpmset, grlat=grlat, grlon=grlon)\n",
    "        except NoPrecipitationError:\n",
    "            continue        \n",
    "        # print(f'{rid} - {rname} radar at ({grlon}, {grlat}) has {nprof} matches with GPM at {gpmtime}.')\n",
    "\n",
    "        data[rid] = (str(gpmtime),                     \n",
    "                     rname,\n",
    "                     str(grlon),\n",
    "                     str(grlat),\n",
    "                     str(nprof),\n",
    "                     gpmfile)\n",
    "    return data\n"
   ]
  },
  {
   "cell_type": "code",
   "execution_count": null,
   "metadata": {
    "ExecuteTime": {
     "end_time": "2020-06-15T07:30:19.568032Z",
     "start_time": "2020-06-15T07:30:19.277191Z"
    }
   },
   "outputs": [],
   "source": [
    "ndf = pd.read_csv('latlon_opol_scratch.txt', parse_dates=['date'], header=None, names=['source', 'date', 'lat', 'lon', 'rmax'])\n",
    "# dtime = [pd.Timestamp(re.findall('[0-9]{8}-[0-9]{6}', s)[0]) for s in df.source]\n",
    "# df['date'] = np.array(dtime, dtype=np.datetime64)"
   ]
  },
  {
   "cell_type": "code",
   "execution_count": null,
   "metadata": {
    "ExecuteTime": {
     "end_time": "2020-06-15T07:30:29.759355Z",
     "start_time": "2020-06-15T07:30:29.743990Z"
    }
   },
   "outputs": [],
   "source": [
    "df = ndf[ndf.rmax < 150e3]"
   ]
  },
  {
   "cell_type": "code",
   "execution_count": null,
   "metadata": {
    "ExecuteTime": {
     "end_time": "2020-06-15T07:30:40.840279Z",
     "start_time": "2020-06-15T07:30:40.830839Z"
    }
   },
   "outputs": [],
   "source": [
    "def read(gpmfile):    \n",
    "    gpmset = read_GPM(gpmfile)\n",
    "    dategpm = pd.Timestamp(gpmset.nscan[0].to_pandas())\n",
    "    if np.min(np.abs(df.date - dategpm)).seconds > 600:\n",
    "        return None\n",
    "        \n",
    "    i = np.argmin(np.abs(df.date - dategpm))\n",
    "    grlon = df.iloc[i].lon\n",
    "    grlat = df.iloc[i].lat\n",
    "    grfile = df.iloc[i].source\n",
    "\n",
    "    try:\n",
    "        nprof, gpmtime = precip_in_domain(gpmset, grlat=grlat, grlon=grlon)\n",
    "    except NoPrecipitationError:\n",
    "        return None\n",
    "    \n",
    "    return str(gpmtime), grfile, str(grlon), str(grlat), str(nprof), gpmfile"
   ]
  },
  {
   "cell_type": "code",
   "execution_count": null,
   "metadata": {
    "ExecuteTime": {
     "end_time": "2020-06-15T07:34:39.670402Z",
     "start_time": "2020-06-15T07:31:36.684658Z"
    }
   },
   "outputs": [],
   "source": [
    "for year in range(2017, 2021):\n",
    "    flist = sorted(glob.glob(f'/g/data/rq0/admin/calibration/sr_data/gpm_data/{year}/**/**/*.*'))\n",
    "\n",
    "    bag = db.from_sequence(flist).map(read)\n",
    "    with ProgressBar():\n",
    "        rslt = bag.compute()\n",
    "\n",
    "    data = [d for d in rslt if d is not None]\n",
    "\n",
    "    txt = '\\n'.join([','.join(d) for d in data])\n",
    "\n",
    "    with open('opol_vmatch_rmax.csv', 'a+') as fid:\n",
    "        fid.write(txt)"
   ]
  },
  {
   "cell_type": "code",
   "execution_count": null,
   "metadata": {},
   "outputs": [],
   "source": []
  }
 ],
 "metadata": {
  "kernelspec": {
   "display_name": "Python 3",
   "language": "python",
   "name": "python3"
  },
  "language_info": {
   "codemirror_mode": {
    "name": "ipython",
    "version": 3
   },
   "file_extension": ".py",
   "mimetype": "text/x-python",
   "name": "python",
   "nbconvert_exporter": "python",
   "pygments_lexer": "ipython3",
   "version": "3.8.3"
  },
  "varInspector": {
   "cols": {
    "lenName": 16,
    "lenType": 16,
    "lenVar": 40
   },
   "kernels_config": {
    "python": {
     "delete_cmd_postfix": "",
     "delete_cmd_prefix": "del ",
     "library": "var_list.py",
     "varRefreshCmd": "print(var_dic_list())"
    },
    "r": {
     "delete_cmd_postfix": ") ",
     "delete_cmd_prefix": "rm(",
     "library": "var_list.r",
     "varRefreshCmd": "cat(var_dic_list()) "
    }
   },
   "types_to_exclude": [
    "module",
    "function",
    "builtin_function_or_method",
    "instance",
    "_Feature"
   ],
   "window_display": false
  }
 },
 "nbformat": 4,
 "nbformat_minor": 4
}
